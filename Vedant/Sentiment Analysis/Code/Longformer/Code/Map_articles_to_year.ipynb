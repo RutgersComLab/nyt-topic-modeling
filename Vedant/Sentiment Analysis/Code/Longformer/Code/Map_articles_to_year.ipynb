{
 "cells": [
  {
   "cell_type": "code",
   "execution_count": 1,
   "id": "b64a7f3d-8208-489e-b4c0-4d01e76afe62",
   "metadata": {
    "tags": []
   },
   "outputs": [],
   "source": [
    "import pandas as pd\n",
    "import pickle\n",
    "from tqdm import tqdm"
   ]
  },
  {
   "cell_type": "code",
   "execution_count": 2,
   "id": "9afdfe07-6d1b-455f-b686-e8ac79f7ac46",
   "metadata": {
    "tags": []
   },
   "outputs": [],
   "source": [
    "with open('final_map.pkl', 'rb') as f:\n",
    "    final_map = pickle.load(f)"
   ]
  },
  {
   "cell_type": "code",
   "execution_count": 3,
   "id": "cb0eff70-548d-4571-8640-de213d5f9379",
   "metadata": {
    "tags": []
   },
   "outputs": [],
   "source": [
    "meta_data = pd.read_csv('pq_metadata.csv')"
   ]
  },
  {
   "cell_type": "code",
   "execution_count": 4,
   "id": "7e9570c2-f5be-4ae2-bf82-b840c6929395",
   "metadata": {
    "tags": []
   },
   "outputs": [
    {
     "data": {
      "text/plain": [
       "['servo to expand plant construction has been started on an addition to the assembly plant of the servo corporation of america in new hyde park l i it was announced yesterday by henry blackstone president of the company the addition will increase by 50 per cent the area used for assembling and testing precision electromechanical products the company makes electronic automation equipment automation testing equipment radiation detection and measurement systems and radio communication and navigation instruments ',\n",
       " '113663365_1.txt',\n",
       " 0,\n",
       " '0_company_system_worker_state']"
      ]
     },
     "execution_count": 4,
     "metadata": {},
     "output_type": "execute_result"
    }
   ],
   "source": [
    "final_map[0][0]"
   ]
  },
  {
   "cell_type": "code",
   "execution_count": 5,
   "id": "22b9b965-c594-45c1-ae3f-4f7754d4ec44",
   "metadata": {
    "tags": []
   },
   "outputs": [
    {
     "data": {
      "text/html": [
       "<div>\n",
       "<style scoped>\n",
       "    .dataframe tbody tr th:only-of-type {\n",
       "        vertical-align: middle;\n",
       "    }\n",
       "\n",
       "    .dataframe tbody tr th {\n",
       "        vertical-align: top;\n",
       "    }\n",
       "\n",
       "    .dataframe thead th {\n",
       "        text-align: right;\n",
       "    }\n",
       "</style>\n",
       "<table border=\"1\" class=\"dataframe\">\n",
       "  <thead>\n",
       "    <tr style=\"text-align: right;\">\n",
       "      <th></th>\n",
       "      <th>Title</th>\n",
       "      <th>Publication title</th>\n",
       "      <th>Publication year</th>\n",
       "      <th>Document URL</th>\n",
       "      <th>Full text</th>\n",
       "      <th>Links</th>\n",
       "      <th>Section</th>\n",
       "      <th>Publication subject</th>\n",
       "      <th>ISSN</th>\n",
       "      <th>Copyright</th>\n",
       "      <th>...</th>\n",
       "      <th>Publisher</th>\n",
       "      <th>Identifier / keyword</th>\n",
       "      <th>Source type</th>\n",
       "      <th>ProQuest document ID</th>\n",
       "      <th>Country of publication</th>\n",
       "      <th>Language of publication</th>\n",
       "      <th>Publication date</th>\n",
       "      <th>Subject</th>\n",
       "      <th>Database</th>\n",
       "      <th>Document type</th>\n",
       "    </tr>\n",
       "  </thead>\n",
       "  <tbody>\n",
       "    <tr>\n",
       "      <th>0</th>\n",
       "      <td>THE MENACE OF MICROELECTRONICS</td>\n",
       "      <td>New York Times, Late Edition (East Coast); New...</td>\n",
       "      <td>1980</td>\n",
       "      <td>http://login.ezproxy.lib.umn.edu/login?url=htt...</td>\n",
       "      <td>T HE development of microelectronics is coming...</td>\n",
       "      <td>http://primo.lib.umn.edu/openurl/TWINCITIES/TW...</td>\n",
       "      <td>A</td>\n",
       "      <td>General Interest Periodicals--United States</td>\n",
       "      <td>3624331</td>\n",
       "      <td>Copyright New York Times Company Oct 5, 1980</td>\n",
       "      <td>...</td>\n",
       "      <td>New York Times Company</td>\n",
       "      <td>NaN</td>\n",
       "      <td>Newspaper</td>\n",
       "      <td>423998836</td>\n",
       "      <td>United States, New York, N.Y.</td>\n",
       "      <td>English</td>\n",
       "      <td>5-Oct-80</td>\n",
       "      <td>NaN</td>\n",
       "      <td>U.S. Newsstream</td>\n",
       "      <td>NEWSPAPER</td>\n",
       "    </tr>\n",
       "    <tr>\n",
       "      <th>1</th>\n",
       "      <td>SOUND; Sound ^ Hans Fantel</td>\n",
       "      <td>New York Times, Late Edition (East Coast); New...</td>\n",
       "      <td>1980</td>\n",
       "      <td>http://login.ezproxy.lib.umn.edu/login?url=htt...</td>\n",
       "      <td>TALKING objects used to exist only in fairy ta...</td>\n",
       "      <td>http://primo.lib.umn.edu/openurl/TWINCITIES/TW...</td>\n",
       "      <td>C</td>\n",
       "      <td>General Interest Periodicals--United States</td>\n",
       "      <td>3624331</td>\n",
       "      <td>Copyright New York Times Company Sep 4, 1980</td>\n",
       "      <td>...</td>\n",
       "      <td>New York Times Company</td>\n",
       "      <td>NaN</td>\n",
       "      <td>Newspaper</td>\n",
       "      <td>423990413</td>\n",
       "      <td>United States, New York, N.Y.</td>\n",
       "      <td>English</td>\n",
       "      <td>4-Sep-80</td>\n",
       "      <td>NaN</td>\n",
       "      <td>U.S. Newsstream</td>\n",
       "      <td>NEWSPAPER</td>\n",
       "    </tr>\n",
       "    <tr>\n",
       "      <th>2</th>\n",
       "      <td>NEW EFFORT TO MAKE MINES SAFER; Coal's Future ...</td>\n",
       "      <td>New York Times, Late Edition (East Coast); New...</td>\n",
       "      <td>1980</td>\n",
       "      <td>http://login.ezproxy.lib.umn.edu/login?url=htt...</td>\n",
       "      <td>Special to The New York Times\\nThe coal mines ...</td>\n",
       "      <td>http://primo.lib.umn.edu/openurl/TWINCITIES/TW...</td>\n",
       "      <td>2</td>\n",
       "      <td>General Interest Periodicals--United States</td>\n",
       "      <td>3624331</td>\n",
       "      <td>Copyright New York Times Company Nov 22, 1980</td>\n",
       "      <td>...</td>\n",
       "      <td>New York Times Company</td>\n",
       "      <td>NaN</td>\n",
       "      <td>Newspaper</td>\n",
       "      <td>424011160</td>\n",
       "      <td>United State s, New York, N.Y.</td>\n",
       "      <td>English</td>\n",
       "      <td>22-Nov-80</td>\n",
       "      <td>COAL; MINES AND MINING; ENERGY AND POWER; ACCI...</td>\n",
       "      <td>U.S. Newsstream</td>\n",
       "      <td>series</td>\n",
       "    </tr>\n",
       "    <tr>\n",
       "      <th>3</th>\n",
       "      <td>THE HIGH PRICE OF WOMEN'S SHOES: FROM DRAWING ...</td>\n",
       "      <td>New York Times, Late Edition (East Coast); New...</td>\n",
       "      <td>1980</td>\n",
       "      <td>http://login.ezproxy.lib.umn.edu/login?url=htt...</td>\n",
       "      <td>Anyone who's old enough to remember the late 1...</td>\n",
       "      <td>http://primo.lib.umn.edu/openurl/TWINCITIES/TW...</td>\n",
       "      <td>2</td>\n",
       "      <td>General Interest Periodicals--United States</td>\n",
       "      <td>3624331</td>\n",
       "      <td>Copyright New York Times Company Jul 26, 1980</td>\n",
       "      <td>...</td>\n",
       "      <td>New York Times Company</td>\n",
       "      <td>NaN</td>\n",
       "      <td>Newspaper</td>\n",
       "      <td>423957025</td>\n",
       "      <td>United States, New York, N.Y.</td>\n",
       "      <td>English</td>\n",
       "      <td>26-Jul-80</td>\n",
       "      <td>NaN</td>\n",
       "      <td>U.S. Newsstream</td>\n",
       "      <td>NEWSPAPER</td>\n",
       "    </tr>\n",
       "    <tr>\n",
       "      <th>4</th>\n",
       "      <td>MAJOR NEWS IN SUMMARY; A Resounding Finale for...</td>\n",
       "      <td>New York Times, Late Edition (East Coast); New...</td>\n",
       "      <td>1980</td>\n",
       "      <td>http://login.ezproxy.lib.umn.edu/login?url=htt...</td>\n",
       "      <td>Unlike lower courts, which carry backlogs over...</td>\n",
       "      <td>http://primo.lib.umn.edu/openurl/TWINCITIES/TW...</td>\n",
       "      <td>A</td>\n",
       "      <td>General Interest Periodicals--United States</td>\n",
       "      <td>3624331</td>\n",
       "      <td>Copyright New York Times Company Jul 6, 1980</td>\n",
       "      <td>...</td>\n",
       "      <td>New York Times Company</td>\n",
       "      <td>NaN</td>\n",
       "      <td>Newspaper</td>\n",
       "      <td>423955571</td>\n",
       "      <td>United States, New York, N.Y.</td>\n",
       "      <td>English</td>\n",
       "      <td>6-Jul-80</td>\n",
       "      <td>NaN</td>\n",
       "      <td>U.S. Newsstream</td>\n",
       "      <td>NEWSPAPER</td>\n",
       "    </tr>\n",
       "  </tbody>\n",
       "</table>\n",
       "<p>5 rows × 26 columns</p>\n",
       "</div>"
      ],
      "text/plain": [
       "                                               Title  \\\n",
       "0                     THE MENACE OF MICROELECTRONICS   \n",
       "1                         SOUND; Sound ^ Hans Fantel   \n",
       "2  NEW EFFORT TO MAKE MINES SAFER; Coal's Future ...   \n",
       "3  THE HIGH PRICE OF WOMEN'S SHOES: FROM DRAWING ...   \n",
       "4  MAJOR NEWS IN SUMMARY; A Resounding Finale for...   \n",
       "\n",
       "                                   Publication title  Publication year  \\\n",
       "0  New York Times, Late Edition (East Coast); New...              1980   \n",
       "1  New York Times, Late Edition (East Coast); New...              1980   \n",
       "2  New York Times, Late Edition (East Coast); New...              1980   \n",
       "3  New York Times, Late Edition (East Coast); New...              1980   \n",
       "4  New York Times, Late Edition (East Coast); New...              1980   \n",
       "\n",
       "                                        Document URL  \\\n",
       "0  http://login.ezproxy.lib.umn.edu/login?url=htt...   \n",
       "1  http://login.ezproxy.lib.umn.edu/login?url=htt...   \n",
       "2  http://login.ezproxy.lib.umn.edu/login?url=htt...   \n",
       "3  http://login.ezproxy.lib.umn.edu/login?url=htt...   \n",
       "4  http://login.ezproxy.lib.umn.edu/login?url=htt...   \n",
       "\n",
       "                                           Full text  \\\n",
       "0  T HE development of microelectronics is coming...   \n",
       "1  TALKING objects used to exist only in fairy ta...   \n",
       "2  Special to The New York Times\\nThe coal mines ...   \n",
       "3  Anyone who's old enough to remember the late 1...   \n",
       "4  Unlike lower courts, which carry backlogs over...   \n",
       "\n",
       "                                               Links Section  \\\n",
       "0  http://primo.lib.umn.edu/openurl/TWINCITIES/TW...       A   \n",
       "1  http://primo.lib.umn.edu/openurl/TWINCITIES/TW...       C   \n",
       "2  http://primo.lib.umn.edu/openurl/TWINCITIES/TW...       2   \n",
       "3  http://primo.lib.umn.edu/openurl/TWINCITIES/TW...       2   \n",
       "4  http://primo.lib.umn.edu/openurl/TWINCITIES/TW...       A   \n",
       "\n",
       "                           Publication subject     ISSN  \\\n",
       "0  General Interest Periodicals--United States  3624331   \n",
       "1  General Interest Periodicals--United States  3624331   \n",
       "2  General Interest Periodicals--United States  3624331   \n",
       "3  General Interest Periodicals--United States  3624331   \n",
       "4  General Interest Periodicals--United States  3624331   \n",
       "\n",
       "                                       Copyright  ...               Publisher  \\\n",
       "0   Copyright New York Times Company Oct 5, 1980  ...  New York Times Company   \n",
       "1   Copyright New York Times Company Sep 4, 1980  ...  New York Times Company   \n",
       "2  Copyright New York Times Company Nov 22, 1980  ...  New York Times Company   \n",
       "3  Copyright New York Times Company Jul 26, 1980  ...  New York Times Company   \n",
       "4   Copyright New York Times Company Jul 6, 1980  ...  New York Times Company   \n",
       "\n",
       "  Identifier / keyword Source type ProQuest document ID  \\\n",
       "0                  NaN   Newspaper            423998836   \n",
       "1                  NaN   Newspaper            423990413   \n",
       "2                  NaN   Newspaper            424011160   \n",
       "3                  NaN   Newspaper            423957025   \n",
       "4                  NaN   Newspaper            423955571   \n",
       "\n",
       "           Country of publication Language of publication Publication date  \\\n",
       "0   United States, New York, N.Y.                 English         5-Oct-80   \n",
       "1   United States, New York, N.Y.                 English         4-Sep-80   \n",
       "2  United State s, New York, N.Y.                 English        22-Nov-80   \n",
       "3   United States, New York, N.Y.                 English        26-Jul-80   \n",
       "4   United States, New York, N.Y.                 English         6-Jul-80   \n",
       "\n",
       "                                             Subject         Database  \\\n",
       "0                                                NaN  U.S. Newsstream   \n",
       "1                                                NaN  U.S. Newsstream   \n",
       "2  COAL; MINES AND MINING; ENERGY AND POWER; ACCI...  U.S. Newsstream   \n",
       "3                                                NaN  U.S. Newsstream   \n",
       "4                                                NaN  U.S. Newsstream   \n",
       "\n",
       "  Document type  \n",
       "0     NEWSPAPER  \n",
       "1     NEWSPAPER  \n",
       "2        series  \n",
       "3     NEWSPAPER  \n",
       "4     NEWSPAPER  \n",
       "\n",
       "[5 rows x 26 columns]"
      ]
     },
     "execution_count": 5,
     "metadata": {},
     "output_type": "execute_result"
    }
   ],
   "source": [
    "meta_data.head()"
   ]
  },
  {
   "cell_type": "code",
   "execution_count": 6,
   "id": "a23170e9-499e-4cd8-8009-6035ae321dc7",
   "metadata": {
    "tags": []
   },
   "outputs": [],
   "source": [
    "docs = list(meta_data['ProQuest document ID'])"
   ]
  },
  {
   "cell_type": "code",
   "execution_count": 7,
   "id": "7ca9e10c-4593-4550-a390-73d209990706",
   "metadata": {
    "tags": []
   },
   "outputs": [
    {
     "name": "stderr",
     "output_type": "stream",
     "text": [
      "100%|██████████| 17/17 [00:01<00:00, 10.22it/s]\n"
     ]
    }
   ],
   "source": [
    "count = 0\n",
    "for key, val in tqdm(final_map.items()):\n",
    "    for i in range(len(val)):\n",
    "        file_name = val[i][1]\n",
    "        file_name = file_name.split('.')[0]\n",
    "        file_name = file_name.split('_')\n",
    "        found = False\n",
    "        for j in range(len(file_name)):\n",
    "            if file_name[j] in docs:\n",
    "                idx = docs.index(file_name[j])\n",
    "                year = meta_data.iloc[idx][2]\n",
    "                url = meta_data.iloc[idx][3]\n",
    "                val[i].append(year)\n",
    "                val[i].append(url)\n",
    "                found = True\n",
    "                count += 1\n",
    "                break\n",
    "        if not found:\n",
    "            val[i].append(-1)\n",
    "        \n",
    "        final_map[key][i] = val[i]"
   ]
  },
  {
   "cell_type": "code",
   "execution_count": 8,
   "id": "1c3828de-574b-4787-bfe6-4104f798a1ba",
   "metadata": {
    "tags": []
   },
   "outputs": [],
   "source": [
    "with open('final_map_year.pkl', 'wb') as f:\n",
    "    pickle.dump(final_map, f)"
   ]
  },
  {
   "cell_type": "code",
   "execution_count": 9,
   "id": "41fd7818-6ae6-458e-89bd-fd5479d156d3",
   "metadata": {},
   "outputs": [],
   "source": [
    "full_text = []\n",
    "urls = []\n",
    "topic = []\n",
    "topic_name = []\n",
    "years = []"
   ]
  },
  {
   "cell_type": "code",
   "execution_count": 10,
   "id": "6c8b7341-cad3-46b0-a586-1e25b886f801",
   "metadata": {
    "tags": []
   },
   "outputs": [],
   "source": [
    "for key, val in final_map.items():\n",
    "    for i in range(len(val)):\n",
    "        if val[i][-1] == -1:\n",
    "            continue\n",
    "        else:\n",
    "            full_text.append(val[i][0])\n",
    "            urls.append(val[i][-1])\n",
    "            topic.append(val[i][2])\n",
    "            topic_name.append(val[i][3])\n",
    "            years.append(val[i][4])"
   ]
  },
  {
   "cell_type": "code",
   "execution_count": 11,
   "id": "917b6694-e592-4e69-bd82-d4dc111b6dc5",
   "metadata": {
    "tags": []
   },
   "outputs": [],
   "source": [
    "df = pd.DataFrame(columns = ['Text', 'Url', 'Topic', 'Topic_Name', 'Year'])"
   ]
  },
  {
   "cell_type": "code",
   "execution_count": 12,
   "id": "7a876dba-8d37-482f-a956-b2f748662144",
   "metadata": {
    "tags": []
   },
   "outputs": [],
   "source": [
    "df['Text'] = full_text\n",
    "df['Url'] = urls\n",
    "df['Topic'] = topic\n",
    "df['Topic_Name'] = topic_name\n",
    "df['Year'] = years"
   ]
  },
  {
   "cell_type": "code",
   "execution_count": 13,
   "id": "13475bc2-0376-410b-8a82-7bdfa868da0e",
   "metadata": {
    "tags": []
   },
   "outputs": [],
   "source": [
    "df.to_csv('Topic_Wise_documents.csv', index = False)"
   ]
  },
  {
   "cell_type": "code",
   "execution_count": null,
   "id": "9d30a975-d025-4d5d-9726-ba045359ccd9",
   "metadata": {},
   "outputs": [],
   "source": []
  }
 ],
 "metadata": {
  "kernelspec": {
   "display_name": "Python 3 (ipykernel)",
   "language": "python",
   "name": "python3"
  },
  "language_info": {
   "codemirror_mode": {
    "name": "ipython",
    "version": 3
   },
   "file_extension": ".py",
   "mimetype": "text/x-python",
   "name": "python",
   "nbconvert_exporter": "python",
   "pygments_lexer": "ipython3",
   "version": "3.11.3"
  }
 },
 "nbformat": 4,
 "nbformat_minor": 5
}
