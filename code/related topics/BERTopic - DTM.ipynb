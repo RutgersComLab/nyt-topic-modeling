{
 "cells": [
  {
   "cell_type": "markdown",
   "metadata": {},
   "source": [
    "# Table of Contents\n",
    "\n",
    "* [Setup Environment](#section1)\n",
    "* [Prepare Data](#section2)\n",
    "* [Basic Topic Model](#section3)\n",
    "* [Extracting Topics](#section4)\n",
    "* [Topics over Time](#section5)\n",
    "* [Visualize Topics over Time](#section6)"
   ]
  },
  {
   "cell_type": "markdown",
   "metadata": {},
   "source": [
    "# Setup Environment <a class=anchor id=section1></a>"
   ]
  },
  {
   "cell_type": "code",
   "execution_count": 2,
   "metadata": {},
   "outputs": [],
   "source": [
    "%%capture\n",
    "!apt-get update\n",
    "!apt-get install --reinstall build-essential --yes"
   ]
  },
  {
   "cell_type": "code",
   "execution_count": 3,
   "metadata": {},
   "outputs": [],
   "source": [
    "%%capture\n",
    "!pip install bertopic\n",
    "!pip install farm-haystack\n",
    "!pip install spacy\n",
    "!pip install gensim\n",
    "!pip install sagemaker_pyspark\n",
    "!python -m spacy download en_core_web_sm"
   ]
  },
  {
   "cell_type": "code",
   "execution_count": 4,
   "metadata": {},
   "outputs": [],
   "source": [
    "import re\n",
    "import string\n",
    "import pickle\n",
    "import logging\n",
    "import pandas as pd\n",
    "import plotly.io as pio\n",
    "import matplotlib.pyplot as plt\n",
    "import gensim.corpora as corpora\n",
    "\n",
    "from umap import UMAP\n",
    "from hdbscan import HDBSCAN\n",
    "from bertopic import BERTopic\n",
    "from nltk.corpus import stopwords\n",
    "from haystack.nodes import PreProcessor\n",
    "from nltk.corpus import PlaintextCorpusReader\n",
    "from haystack.utils import convert_files_to_docs\n",
    "from sentence_transformers import SentenceTransformer\n",
    "from gensim.models.coherencemodel import CoherenceModel\n",
    "\n",
    "pio.renderers.default='iframe'\n",
    "logging.getLogger(\"haystack.utils.preprocessing\").setLevel(logging.ERROR)"
   ]
  },
  {
   "cell_type": "code",
   "execution_count": 5,
   "metadata": {},
   "outputs": [
    {
     "name": "stderr",
     "output_type": "stream",
     "text": [
      "[nltk_data] Downloading package wordnet to /root/nltk_data...\n",
      "[nltk_data]   Package wordnet is already up-to-date!\n",
      "[nltk_data] Downloading package omw-1.4 to /root/nltk_data...\n",
      "[nltk_data]   Package omw-1.4 is already up-to-date!\n"
     ]
    }
   ],
   "source": [
    "import nltk\n",
    "\n",
    "from nltk import word_tokenize          \n",
    "from nltk.stem import WordNetLemmatizer\n",
    "from sklearn.feature_extraction.text import CountVectorizer\n",
    "\n",
    "nltk.download('wordnet')\n",
    "nltk.download('omw-1.4')\n",
    "token_pattern = re.compile(r\"(?u)\\b\\w\\w+\\b\")\n",
    "sentence_model = SentenceTransformer(\"all-distilroberta-v1\")\n",
    "\n",
    "class LemmaTokenizer(object):\n",
    "    def __init__(self):\n",
    "        self.wnl = WordNetLemmatizer()\n",
    "\n",
    "    def __call__(self, doc):\n",
    "        return [\n",
    "            self.wnl.lemmatize(t)\n",
    "            for t in word_tokenize(doc)\n",
    "            if (len(t) > 3 and re.match(\"[a-z].*\", t) and re.match(token_pattern, t)) or (t=='ai')\n",
    "        ]"
   ]
  },
  {
   "cell_type": "code",
   "execution_count": 6,
   "metadata": {},
   "outputs": [],
   "source": [
    "!rm -rf `find -type d -name .ipynb_checkpoints`"
   ]
  },
  {
   "cell_type": "code",
   "execution_count": 11,
   "metadata": {},
   "outputs": [],
   "source": [
    "output_path = \"BERT_DTM/\"\n",
    "sources = ['CLEANSED/1950-1959', 'CLEANSED/1960-1969', 'CLEANSED/1970-1979', 'CLEANSED/1980-1989', \n",
    "          'CLEANSED/1990-1999', 'CLEANSED/2000-2009', 'CLEANSED/2010-2019']\n",
    "stop_words = stopwords.words('english')\n",
    "common_words = ['from', 'subject', 're', 'edu', 'use', 'said', 'find', 'still', 'take', 'year', 'first', 'be', 'am', \n",
    "                'are', 'is', 'was', 'were', 'being', 'can', 'could', 'do', 'did', 'does', 'doing', 'have', 'had', \n",
    "                'has', 'having', 'may', 'might', 'must', 'shall', 'should', 'will', 'would', 'still', 'going', 'never', \n",
    "                'incb21', 'outst21', '000c8', 'sfas', 'rev11', 'inct', 'amer', 'thet', 'inds_inct', 'adrt', 'natl', \n",
    "                'benihana_natl', 'tofruzen', 'indst', 'finl', 'inc10', 'amer_commun', 'incn', 'said', 'like', 'sept', \n",
    "                'mon', 'tues', 'wed', 'thu', 'fri', 'sat', 'sun', 'east', 'meany', 'corp', 'intl', 'inds', 'pas', 'return', \n",
    "                'trela', 'foot', 'time', 'named', 'also']\n",
    "stop_words.extend(common_words)"
   ]
  },
  {
   "cell_type": "markdown",
   "metadata": {},
   "source": [
    "# Prepare Data <a class=anchor id=section2></a>"
   ]
  },
  {
   "cell_type": "code",
   "execution_count": 12,
   "metadata": {},
   "outputs": [],
   "source": [
    "# Remove copyright parts from articles\n",
    "def remove_copyright_footer(sentence):\n",
    "    sentence = sentence.lower()\n",
    "    sentence = sentence.replace('reproduced with permission of the copyright owner.', '')\n",
    "    sentence = sentence.replace('further reproduction prohibited without permission.', '')\n",
    "    return sentence.replace('further reproduction is prohibited without permission.', '')"
   ]
  },
  {
   "cell_type": "code",
   "execution_count": 13,
   "metadata": {},
   "outputs": [
    {
     "name": "stdout",
     "output_type": "stream",
     "text": [
      "Processing 1950-1959\n"
     ]
    },
    {
     "data": {
      "application/vnd.jupyter.widget-view+json": {
       "model_id": "18ffa8b0afb947fd9fb438671b5b61b7",
       "version_major": 2,
       "version_minor": 0
      },
      "text/plain": [
       "HBox(children=(FloatProgress(value=0.0, description='Preprocessing', max=1051.0, style=ProgressStyle(descripti…"
      ]
     },
     "metadata": {},
     "output_type": "display_data"
    },
    {
     "name": "stdout",
     "output_type": "stream",
     "text": [
      "\n",
      "Number of input files: 1051\n",
      "Number of selected files: 1051\n",
      "Number of output files: 1051\n",
      "Processing 1960-1969\n"
     ]
    },
    {
     "data": {
      "application/vnd.jupyter.widget-view+json": {
       "model_id": "df17f6ab0a3347968756f227f40eac16",
       "version_major": 2,
       "version_minor": 0
      },
      "text/plain": [
       "HBox(children=(FloatProgress(value=0.0, description='Preprocessing', max=2900.0, style=ProgressStyle(descripti…"
      ]
     },
     "metadata": {},
     "output_type": "display_data"
    },
    {
     "name": "stdout",
     "output_type": "stream",
     "text": [
      "\n",
      "Number of input files: 2900\n",
      "Number of selected files: 2900\n",
      "Number of output files: 2900\n",
      "Processing 1970-1979\n"
     ]
    },
    {
     "data": {
      "application/vnd.jupyter.widget-view+json": {
       "model_id": "6dc2e01d3d804ba08138f65254915406",
       "version_major": 2,
       "version_minor": 0
      },
      "text/plain": [
       "HBox(children=(FloatProgress(value=0.0, description='Preprocessing', max=1258.0, style=ProgressStyle(descripti…"
      ]
     },
     "metadata": {},
     "output_type": "display_data"
    },
    {
     "name": "stdout",
     "output_type": "stream",
     "text": [
      "\n",
      "Number of input files: 1258\n",
      "Number of selected files: 1258\n",
      "Number of output files: 1258\n",
      "Processing 1980-1989\n"
     ]
    },
    {
     "data": {
      "application/vnd.jupyter.widget-view+json": {
       "model_id": "f16d1b6df31342579959e581c9a38a07",
       "version_major": 2,
       "version_minor": 0
      },
      "text/plain": [
       "HBox(children=(FloatProgress(value=0.0, description='Preprocessing', max=1753.0, style=ProgressStyle(descripti…"
      ]
     },
     "metadata": {},
     "output_type": "display_data"
    },
    {
     "name": "stdout",
     "output_type": "stream",
     "text": [
      "\n",
      "Number of input files: 1771\n",
      "Number of selected files: 1753\n",
      "Number of output files: 1753\n",
      "Processing 1990-1999\n"
     ]
    },
    {
     "data": {
      "application/vnd.jupyter.widget-view+json": {
       "model_id": "99e0ece3660640bb903e28ed22a1e9ca",
       "version_major": 2,
       "version_minor": 0
      },
      "text/plain": [
       "HBox(children=(FloatProgress(value=0.0, description='Preprocessing', max=1368.0, style=ProgressStyle(descripti…"
      ]
     },
     "metadata": {},
     "output_type": "display_data"
    },
    {
     "name": "stdout",
     "output_type": "stream",
     "text": [
      "\n",
      "Number of input files: 1520\n",
      "Number of selected files: 1368\n",
      "Number of output files: 1368\n",
      "Processing 2000-2009\n"
     ]
    },
    {
     "data": {
      "application/vnd.jupyter.widget-view+json": {
       "model_id": "a444c5fcf65a47849760931162020a35",
       "version_major": 2,
       "version_minor": 0
      },
      "text/plain": [
       "HBox(children=(FloatProgress(value=0.0, description='Preprocessing', max=2009.0, style=ProgressStyle(descripti…"
      ]
     },
     "metadata": {},
     "output_type": "display_data"
    },
    {
     "name": "stdout",
     "output_type": "stream",
     "text": [
      "\n",
      "Number of input files: 2010\n",
      "Number of selected files: 2009\n",
      "Number of output files: 2009\n",
      "Processing 2010-2019\n"
     ]
    },
    {
     "data": {
      "application/vnd.jupyter.widget-view+json": {
       "model_id": "206d3180993940c196b4003b448e6dd7",
       "version_major": 2,
       "version_minor": 0
      },
      "text/plain": [
       "HBox(children=(FloatProgress(value=0.0, description='Preprocessing', max=2852.0, style=ProgressStyle(descripti…"
      ]
     },
     "metadata": {},
     "output_type": "display_data"
    },
    {
     "name": "stdout",
     "output_type": "stream",
     "text": [
      "\n",
      "Number of input files: 2852\n",
      "Number of selected files: 2852\n",
      "Number of output files: 2852\n"
     ]
    }
   ],
   "source": [
    "docs = []\n",
    "timestamps = []\n",
    "for source in sources:\n",
    "    print(\"Processing {}\".format(source.split(\"/\")[1]))\n",
    "    all_docs = convert_files_to_docs(dir_path=source)\n",
    "    selected_docs = [doc for doc in all_docs if len(doc.content.split()) >= 10]\n",
    "    preprocessor = PreProcessor(\n",
    "        clean_empty_lines=True,\n",
    "        clean_whitespace=True,\n",
    "        clean_header_footer=True,\n",
    "        split_by=None\n",
    "    )\n",
    "    data = [item.content for item in preprocessor.process(selected_docs)]\n",
    "    # Remove Links\n",
    "    data = [re.sub(r'http\\S+', '', sent) for sent in data]\n",
    "    # Remove footer\n",
    "    data = [remove_copyright_footer(sent) for sent in data]\n",
    "    # Fix spaces\n",
    "    data = [sent.strip() for sent in data]\n",
    "    # Remove multiple space and new line characters\n",
    "    data = [re.sub('\\s+', ' ', sent) for sent in data]\n",
    "    # Remove Emails\n",
    "    data = [re.sub('\\S*@\\S*\\s?', '', sent) for sent in data]\n",
    "    # Remove special characters\n",
    "    data = [re.sub(r'[^\\x00-\\x7f]',r'', sent) for sent in data]\n",
    "    # # Remove some punctuations\n",
    "    data = [item.translate(str.maketrans(string.punctuation, ' '*len(string.punctuation))) for item in data]\n",
    "    # Remove multiple space and new line characters\n",
    "    data = [re.sub('\\s+', ' ', sent) for sent in data]\n",
    "    # Remove distracting single quotes\n",
    "    processed_docs = [re.sub(\"\\'\", \"\", sent) for sent in data]\n",
    "    print(f\"Number of input files: {len(all_docs)}\\n\"+\n",
    "          f\"Number of selected files: {len(selected_docs)}\\n\"+\n",
    "          f\"Number of output files: {len(processed_docs)}\")\n",
    "    docs.extend(processed_docs)\n",
    "    timestamps.extend([source.split(\"-\")[1]]*len(processed_docs))"
   ]
  },
  {
   "cell_type": "code",
   "execution_count": 14,
   "metadata": {},
   "outputs": [
    {
     "name": "stdout",
     "output_type": "stream",
     "text": [
      "13191\n",
      "13191\n"
     ]
    }
   ],
   "source": [
    "print(len(docs))\n",
    "print(len(timestamps))"
   ]
  },
  {
   "cell_type": "markdown",
   "metadata": {},
   "source": [
    "# Basic Topic Model <a class=anchor id=section3></a>\n",
    "\n",
    "To perform Dynamic Topic Modeling with BERTopic we will first need to create a basic topic model using all articles. The temporal aspect will be ignored as we are, for now, only interested in the topics that reside in those articles. "
   ]
  },
  {
   "cell_type": "code",
   "execution_count": 12,
   "metadata": {},
   "outputs": [],
   "source": [
    "def training(docs, docs_embeddings, cluster_size=100):\n",
    "    vectorizer_model= CountVectorizer(stop_words=stop_words, tokenizer=LemmaTokenizer())\n",
    "    # Set the random state in the UMAP model to prevent stochastic behavior \n",
    "    umap_model = UMAP(n_neighbors=15, n_components=5, min_dist=0.0, metric='cosine', random_state=42)\n",
    "    hdbscan_model = HDBSCAN(min_cluster_size=cluster_size, metric='euclidean', prediction_data=True)\n",
    "    topic_model = BERTopic(language=\"english\", calculate_probabilities=True, verbose=True, nr_topics=\"auto\", \n",
    "                           vectorizer_model=vectorizer_model, umap_model=umap_model, hdbscan_model=hdbscan_model)\n",
    "    topics, probs = topic_model.fit_transform(docs, docs_embeddings)\n",
    "    \n",
    "    ##### Calculate Coherence\n",
    "    # Preprocess Documents\n",
    "    documents = pd.DataFrame({\"Document\": docs,\n",
    "                              \"ID\": range(len(docs)),\n",
    "                              \"Topic\": topics})\n",
    "    documents_per_topic = documents.groupby(['Topic'], as_index=False).agg({'Document': ' '.join})\n",
    "    cleaned_docs = topic_model._preprocess_text(documents_per_topic.Document.values)\n",
    "\n",
    "    # Extract vectorizer and analyzer from BERTopic\n",
    "    vectorizer = topic_model.vectorizer_model\n",
    "    analyzer = vectorizer.build_analyzer()\n",
    "\n",
    "    # Extract features for Topic Coherence evaluation\n",
    "    tokens = [analyzer(doc) for doc in cleaned_docs]\n",
    "    dictionary = corpora.Dictionary(tokens)\n",
    "    corpus = [dictionary.doc2bow(token) for token in tokens]\n",
    "    topic_words = [[words for words, probs in topic_model.get_topic(topic)] \n",
    "                   for topic in range(len(set(topics))-1)]\n",
    "\n",
    "    # Evaluate\n",
    "    coherence_model = CoherenceModel(topics=topic_words, \n",
    "                                     texts=tokens, \n",
    "                                     corpus=corpus,\n",
    "                                     dictionary=dictionary, \n",
    "                                     coherence='c_npmi')\n",
    "    coherence_score = coherence_model.get_coherence()\n",
    "\n",
    "    return topic_model, topics, probs, coherence_score"
   ]
  },
  {
   "cell_type": "code",
   "execution_count": 13,
   "metadata": {},
   "outputs": [],
   "source": [
    "def draw_graph(start, limit, step, c_npmi, title):\n",
    "    # Show graph\n",
    "    x = range(start, limit, step)\n",
    "    plt.plot(x, c_npmi)\n",
    "    plt.title(title)\n",
    "    plt.xlabel(\"Number of Clusters\")\n",
    "    plt.ylabel(\"Coherence score\")\n",
    "    plt.legend((\"c_npmi\"), loc='best')\n",
    "    plt.show()\n",
    "    maximum = max(c_npmi)\n",
    "    indices = [i for i, v in enumerate(c_npmi) if v == maximum]\n",
    "    print(\"A maximum {} score of {} was achieved at K={}\".format(\"c_npmi\", maximum, indices[0]+1))\n",
    "    # Return the index\n",
    "    return indices[0]"
   ]
  },
  {
   "cell_type": "code",
   "execution_count": 14,
   "metadata": {},
   "outputs": [
    {
     "data": {
      "application/vnd.jupyter.widget-view+json": {
       "model_id": "992c1049373444ef88d016da61f2cffe",
       "version_major": 2,
       "version_minor": 0
      },
      "text/plain": [
       "HBox(children=(FloatProgress(value=0.0, description='Batches', max=413.0, style=ProgressStyle(description_widt…"
      ]
     },
     "metadata": {},
     "output_type": "display_data"
    },
    {
     "name": "stdout",
     "output_type": "stream",
     "text": [
      "\n"
     ]
    }
   ],
   "source": [
    "# Create embeddings\n",
    "embeddings = sentence_model.encode(docs, show_progress_bar=True)"
   ]
  },
  {
   "cell_type": "code",
   "execution_count": 15,
   "metadata": {},
   "outputs": [],
   "source": [
    "with open('bert_dtm_embeddings.pkl', 'wb') as f:\n",
    "    pickle.dump(embeddings, f)"
   ]
  },
  {
   "cell_type": "code",
   "execution_count": 16,
   "metadata": {},
   "outputs": [
    {
     "name": "stderr",
     "output_type": "stream",
     "text": [
      "2022-08-17 16:57:23,790 - BERTopic - Reduced dimensionality\n",
      "2022-08-17 16:57:50,628 - BERTopic - Clustered reduced embeddings\n",
      "2022-08-17 17:03:53,955 - BERTopic - Reduced number of topics from 222 to 176\n",
      "2022-08-17 17:07:04,412 - BERTopic - Reduced dimensionality\n",
      "2022-08-17 17:07:11,787 - BERTopic - Clustered reduced embeddings\n",
      "2022-08-17 17:12:55,442 - BERTopic - Reduced number of topics from 117 to 59\n",
      "2022-08-17 17:15:55,950 - BERTopic - Reduced dimensionality\n",
      "2022-08-17 17:15:59,842 - BERTopic - Clustered reduced embeddings\n",
      "2022-08-17 17:21:35,135 - BERTopic - Reduced number of topics from 81 to 40\n",
      "2022-08-17 17:24:27,158 - BERTopic - Reduced dimensionality\n",
      "2022-08-17 17:24:29,933 - BERTopic - Clustered reduced embeddings\n",
      "2022-08-17 17:30:04,719 - BERTopic - Reduced number of topics from 61 to 22\n",
      "2022-08-17 17:32:47,356 - BERTopic - Reduced dimensionality\n",
      "2022-08-17 17:32:49,482 - BERTopic - Clustered reduced embeddings\n",
      "2022-08-17 17:38:25,675 - BERTopic - Reduced number of topics from 46 to 17\n",
      "2022-08-17 17:41:06,763 - BERTopic - Reduced dimensionality\n",
      "2022-08-17 17:41:08,786 - BERTopic - Clustered reduced embeddings\n",
      "2022-08-17 17:46:42,437 - BERTopic - Reduced number of topics from 44 to 18\n",
      "2022-08-17 17:49:24,803 - BERTopic - Reduced dimensionality\n",
      "2022-08-17 17:49:26,617 - BERTopic - Clustered reduced embeddings\n",
      "2022-08-17 17:54:59,116 - BERTopic - Reduced number of topics from 35 to 29\n",
      "2022-08-17 17:57:52,875 - BERTopic - Reduced dimensionality\n",
      "2022-08-17 17:57:54,737 - BERTopic - Clustered reduced embeddings\n",
      "2022-08-17 18:03:28,372 - BERTopic - Reduced number of topics from 33 to 27\n",
      "2022-08-17 18:06:20,212 - BERTopic - Reduced dimensionality\n",
      "2022-08-17 18:06:21,983 - BERTopic - Clustered reduced embeddings\n",
      "2022-08-17 18:11:55,727 - BERTopic - Reduced number of topics from 28 to 17\n"
     ]
    }
   ],
   "source": [
    "# Create topic model\n",
    "start, limit, step = 10, 100, 10\n",
    "topic_models = []\n",
    "coherences = []\n",
    "topics = []\n",
    "probs = []\n",
    "\n",
    "for i in range(start, limit, step):\n",
    "    topic_model, topic, prob, coherence = training(docs, embeddings, i)\n",
    "    topic_models.append(topic_model)\n",
    "    topics.append(topic)\n",
    "    probs.append(prob)\n",
    "    coherences.append(coherence)"
   ]
  },
  {
   "cell_type": "code",
   "execution_count": 17,
   "metadata": {},
   "outputs": [
    {
     "data": {
      "image/png": "[encoded data removed]",
      "text/plain": [
       "<Figure size 640x480 with 1 Axes>"
      ]
     },
     "metadata": {},
     "output_type": "display_data"
    },
    {
     "name": "stdout",
     "output_type": "stream",
     "text": [
      "A maximum c_npmi score of 0.19748270484645503 was achieved at K=6\n"
     ]
    }
   ],
   "source": [
    "model_index = draw_graph(start, limit, step, coherences, \"NPMI Scores\")"
   ]
  },
  {
   "cell_type": "code",
   "execution_count": 18,
   "metadata": {},
   "outputs": [
    {
     "name": "stderr",
     "output_type": "stream",
     "text": [
      "100%|██████████| 16/16 [00:00<00:00, 95.37it/s] \n"
     ]
    }
   ],
   "source": [
    "topic_model, topic, prob, coherence = topic_models[model_index], topics[model_index], probs[model_index], coherences[model_index]\n",
    "hierarchical_topics = topic_model.hierarchical_topics(docs, topic)"
   ]
  },
  {
   "cell_type": "code",
   "execution_count": 19,
   "metadata": {},
   "outputs": [
    {
     "name": "stdout",
     "output_type": "stream",
     "text": [
      "rm: cannot remove 'BERT_DTM/': No such file or directory\n"
     ]
    }
   ],
   "source": [
    "!rm -r BERT_DTM/\n",
    "!mkdir BERT_DTM"
   ]
  },
  {
   "cell_type": "code",
   "execution_count": 20,
   "metadata": {},
   "outputs": [],
   "source": [
    "topic_model.save(output_path+\"bert_dtm_model\")\n",
    "with open(output_path+'bert_dtm_timestamps.pkl', 'wb') as f:\n",
    "    pickle.dump(timestamps, f)\n",
    "with open(output_path+'bert_dtm_prob.pkl', 'wb') as f:\n",
    "    pickle.dump(prob, f)\n",
    "with open(output_path+'bert_dtm_coherence.pkl', 'wb') as f:\n",
    "    pickle.dump(coherence, f)\n",
    "with open(output_path+'bert_dtm_topics.pkl', 'wb') as f:\n",
    "    pickle.dump(topic, f)\n",
    "with open(output_path+'bert_dtm_hierarchical_topics.pkl', 'wb') as f:\n",
    "    pickle.dump(hierarchical_topics, f)\n",
    "with open(output_path+'bert_dtm_docs.pkl', 'wb') as f:\n",
    "    pickle.dump(docs, f)"
   ]
  },
  {
   "cell_type": "markdown",
   "metadata": {},
   "source": [
    "# Extracting Topics <a class=anchor id=section4></a>"
   ]
  },
  {
   "cell_type": "code",
   "execution_count": 21,
   "metadata": {},
   "outputs": [],
   "source": [
    "topic_model = BERTopic.load(output_path+\"bert_dtm_model\")\n",
    "with open(output_path+'bert_dtm_timestamps.pkl', 'rb') as f:\n",
    "    timestamps = pickle.load(f)\n",
    "with open(output_path+'bert_dtm_prob.pkl', 'rb') as f:\n",
    "    prob = pickle.load(f)\n",
    "with open(output_path+'bert_dtm_coherence.pkl', 'rb') as f:\n",
    "    coherence = pickle.load(f)\n",
    "with open(output_path+'bert_dtm_topics.pkl', 'rb') as f:\n",
    "    topic = pickle.load(f)\n",
    "with open(output_path+'bert_dtm_hierarchical_topics.pkl', 'rb') as f:\n",
    "    hierarchical_topics = pickle.load(f)\n",
    "with open(output_path+'bert_dtm_docs.pkl', 'rb') as f:\n",
    "    docs = pickle.load(f)"
   ]
  },
  {
   "cell_type": "markdown",
   "metadata": {},
   "source": [
    "We can then extract most frequent topics:"
   ]
  },
  {
   "cell_type": "code",
   "execution_count": 22,
   "metadata": {},
   "outputs": [
    {
     "data": {
      "text/html": [
       "<div>\n",
       "<style scoped>\n",
       "    .dataframe tbody tr th:only-of-type {\n",
       "        vertical-align: middle;\n",
       "    }\n",
       "\n",
       "    .dataframe tbody tr th {\n",
       "        vertical-align: top;\n",
       "    }\n",
       "\n",
       "    .dataframe thead th {\n",
       "        text-align: right;\n",
       "    }\n",
       "</style>\n",
       "<table border=\"1\" class=\"dataframe\">\n",
       "  <thead>\n",
       "    <tr style=\"text-align: right;\">\n",
       "      <th></th>\n",
       "      <th>Topic</th>\n",
       "      <th>Count</th>\n",
       "      <th>Name</th>\n",
       "    </tr>\n",
       "  </thead>\n",
       "  <tbody>\n",
       "    <tr>\n",
       "      <th>0</th>\n",
       "      <td>-1</td>\n",
       "      <td>5072</td>\n",
       "      <td>-1_company_state_people_business</td>\n",
       "    </tr>\n",
       "    <tr>\n",
       "      <th>1</th>\n",
       "      <td>0</td>\n",
       "      <td>4414</td>\n",
       "      <td>0_company_system_worker_state</td>\n",
       "    </tr>\n",
       "    <tr>\n",
       "      <th>2</th>\n",
       "      <td>1</td>\n",
       "      <td>647</td>\n",
       "      <td>1_theater_music_directed_closed</td>\n",
       "    </tr>\n",
       "    <tr>\n",
       "      <th>3</th>\n",
       "      <td>2</td>\n",
       "      <td>497</td>\n",
       "      <td>2_ship_port_union_cargo</td>\n",
       "    </tr>\n",
       "    <tr>\n",
       "      <th>4</th>\n",
       "      <td>3</td>\n",
       "      <td>460</td>\n",
       "      <td>3_union_newspaper_publisher_news</td>\n",
       "    </tr>\n",
       "    <tr>\n",
       "      <th>5</th>\n",
       "      <td>4</td>\n",
       "      <td>404</td>\n",
       "      <td>4_exchange_stock_trading_market</td>\n",
       "    </tr>\n",
       "    <tr>\n",
       "      <th>6</th>\n",
       "      <td>5</td>\n",
       "      <td>267</td>\n",
       "      <td>5_earns_income_sale_share</td>\n",
       "    </tr>\n",
       "    <tr>\n",
       "      <th>7</th>\n",
       "      <td>6</td>\n",
       "      <td>218</td>\n",
       "      <td>6_train_transit_subway_authority</td>\n",
       "    </tr>\n",
       "    <tr>\n",
       "      <th>8</th>\n",
       "      <td>7</td>\n",
       "      <td>174</td>\n",
       "      <td>7_graduated_father_bride_mother</td>\n",
       "    </tr>\n",
       "    <tr>\n",
       "      <th>9</th>\n",
       "      <td>8</td>\n",
       "      <td>170</td>\n",
       "      <td>8_driving_vehicle_car_driver</td>\n",
       "    </tr>\n",
       "  </tbody>\n",
       "</table>\n",
       "</div>"
      ],
      "text/plain": [
       "   Topic  Count                              Name\n",
       "0     -1   5072  -1_company_state_people_business\n",
       "1      0   4414     0_company_system_worker_state\n",
       "2      1    647   1_theater_music_directed_closed\n",
       "3      2    497           2_ship_port_union_cargo\n",
       "4      3    460  3_union_newspaper_publisher_news\n",
       "5      4    404   4_exchange_stock_trading_market\n",
       "6      5    267         5_earns_income_sale_share\n",
       "7      6    218  6_train_transit_subway_authority\n",
       "8      7    174   7_graduated_father_bride_mother\n",
       "9      8    170      8_driving_vehicle_car_driver"
      ]
     },
     "execution_count": 22,
     "metadata": {},
     "output_type": "execute_result"
    }
   ],
   "source": [
    "freq = topic_model.get_topic_info()\n",
    "freq.head(10)"
   ]
  },
  {
   "cell_type": "markdown",
   "metadata": {},
   "source": [
    "> -1 refers to all outliers and should typically be ignored. \n",
    "\n",
    "Next, let's take a look at a frequent topic that were generated:"
   ]
  },
  {
   "cell_type": "code",
   "execution_count": 23,
   "metadata": {},
   "outputs": [
    {
     "data": {
      "text/plain": [
       "[('union', 0.0731016813702368),\n",
       " ('newspaper', 0.06871316118686954),\n",
       " ('publisher', 0.04850410368701502),\n",
       " ('news', 0.045028115602255496),\n",
       " ('printer', 0.04286375347977118),\n",
       " ('guild', 0.04076541360726225),\n",
       " ('strike', 0.036105171178548424),\n",
       " ('york', 0.03411614314828983),\n",
       " ('contract', 0.03208073374742765),\n",
       " ('paper', 0.028758231887172945)]"
      ]
     },
     "execution_count": 23,
     "metadata": {},
     "output_type": "execute_result"
    }
   ],
   "source": [
    "topic_nr = freq.iloc[4][\"Topic\"]  # We select a frequent topic\n",
    "topic_model.get_topic(topic_nr)   # You can select a topic number as shown above"
   ]
  },
  {
   "cell_type": "markdown",
   "metadata": {},
   "source": [
    "We can visualize the basic topics that were created with the Intertopic Distance Map. This allows us to judge visually whether the basic topics are sufficient before proceeding to creating the topics over time. "
   ]
  },
  {
   "cell_type": "code",
   "execution_count": 24,
   "metadata": {},
   "outputs": [
    {
     "data": {
      "text/html": [
       "<iframe\n",
       "    scrolling=\"no\"\n",
       "    width=\"670px\"\n",
       "    height=\"670\"\n",
       "    src=\"iframe_figures/figure_24.html\"\n",
       "    frameborder=\"0\"\n",
       "    allowfullscreen\n",
       "></iframe>\n"
      ]
     },
     "metadata": {},
     "output_type": "display_data"
    }
   ],
   "source": [
    "topic_model.visualize_topics()"
   ]
  },
  {
   "cell_type": "markdown",
   "metadata": {},
   "source": [
    "# Topics over Time <a class=anchor id=section5></a>\n",
    "\n",
    "Before we start with the Dynamic Topic Modeling step, it is important that you are satisfied with the topics that were created previously. We are going to be using those specific topics as a base for Dynamic Topic Modeling. Thus, this step will essentially show you how the topics that were defined previously have evolved over time. "
   ]
  },
  {
   "cell_type": "markdown",
   "metadata": {},
   "source": [
    "There are a few important parameters that you should take note of, namely:\n",
    "* `docs`\n",
    "  * These are the articles that we are using\n",
    "* `topics`\n",
    "  * The topics that we have created before\n",
    "* `timestamps`\n",
    "  * The timestamp of each article/document\n",
    "* `global_tuning`\n",
    "  * Whether to average the topic representation of a topic at time *t* with its global topic representation\n",
    "* `evolution_tuning`\n",
    "  * Whether to average the topic representation of a topic at time *t* with the topic representation of that topic at time *t-1*\n",
    "* `nr_bins`\n",
    "  * The number of bins to put our timestamps into. It is computationally inefficient to extract the topics at thousands of different timestamps. Therefore, it is advised to keep this value below 20. \n"
   ]
  },
  {
   "cell_type": "code",
   "execution_count": 25,
   "metadata": {},
   "outputs": [
    {
     "name": "stdout",
     "output_type": "stream",
     "text": [
      "13191\n",
      "13191\n",
      "13191\n"
     ]
    }
   ],
   "source": [
    "print(len(docs))\n",
    "print(len(topic))\n",
    "print(len(timestamps))"
   ]
  },
  {
   "cell_type": "code",
   "execution_count": 16,
   "metadata": {},
   "outputs": [
    {
     "name": "stderr",
     "output_type": "stream",
     "text": [
      "7it [01:35, 13.71s/it]\n"
     ]
    }
   ],
   "source": [
    "topics_over_time = topic_model.topics_over_time(docs=docs, \n",
    "                                                topics=topic, \n",
    "                                                timestamps=timestamps, \n",
    "                                                global_tuning=True, \n",
    "                                                evolution_tuning=True, \n",
    "                                                nr_bins=7)"
   ]
  },
  {
   "cell_type": "markdown",
   "metadata": {},
   "source": [
    "# Visualize Topics over Time <a class=anchor id=section6></a>\n",
    "\n",
    "After having created our `topics_over_time`, we will have to visualize those topics as accessing them becomes a bit more difficult with the added temporal dimension. \n",
    "\n",
    "To do so, we are going to visualize the distribution of topics over time based on their frequency. Doing so allows us to see how the topics have evolved over time. Make sure to hover over any point to see how the topic representation at time *t* differs from the global topic representation."
   ]
  },
  {
   "cell_type": "markdown",
   "metadata": {},
   "source": [
    "## Original Frequency"
   ]
  },
  {
   "cell_type": "code",
   "execution_count": 17,
   "metadata": {},
   "outputs": [
    {
     "data": {
      "text/html": [
       "<iframe\n",
       "    scrolling=\"no\"\n",
       "    width=\"1270px\"\n",
       "    height=\"470\"\n",
       "    src=\"iframe_figures/figure_17.html\"\n",
       "    frameborder=\"0\"\n",
       "    allowfullscreen\n",
       "></iframe>\n"
      ]
     },
     "metadata": {},
     "output_type": "display_data"
    }
   ],
   "source": [
    "topic_model.visualize_topics_over_time(topics_over_time, top_n_topics=50, normalize_frequency=False)"
   ]
  },
  {
   "cell_type": "markdown",
   "metadata": {},
   "source": [
    "## Normalized"
   ]
  },
  {
   "cell_type": "code",
   "execution_count": 18,
   "metadata": {},
   "outputs": [
    {
     "data": {
      "text/html": [
       "<iframe\n",
       "    scrolling=\"no\"\n",
       "    width=\"1270px\"\n",
       "    height=\"470\"\n",
       "    src=\"iframe_figures/figure_18.html\"\n",
       "    frameborder=\"0\"\n",
       "    allowfullscreen\n",
       "></iframe>\n"
      ]
     },
     "metadata": {},
     "output_type": "display_data"
    }
   ],
   "source": [
    "topic_model.visualize_topics_over_time(topics_over_time, top_n_topics=50, normalize_frequency=True)"
   ]
  }
 ],
 "metadata": {
  "kernelspec": {
   "display_name": "Python 3 (Data Science)",
   "language": "python",
   "name": "python3__SAGEMAKER_INTERNAL__arn:aws:sagemaker:us-east-1:081325390199:image/datascience-1.0"
  },
  "language_info": {
   "codemirror_mode": {
    "name": "ipython",
    "version": 3
   },
   "file_extension": ".py",
   "mimetype": "text/x-python",
   "name": "python",
   "nbconvert_exporter": "python",
   "pygments_lexer": "ipython3",
   "version": "3.7.10"
  }
 },
 "nbformat": 4,
 "nbformat_minor": 5
}
