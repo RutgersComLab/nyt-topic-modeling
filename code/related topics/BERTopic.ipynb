{
 "cells": [
  {
   "cell_type": "markdown",
   "metadata": {},
   "source": [
    "# Table of Contents\n",
    "\n",
    "* [Setup Environment](#section1)\n",
    "* [Functions](#section2)\n",
    "* [1950-1959](#section3)\n",
    "    * [Topic Modeling](#section_3_1)\n",
    "        * [Check Coherence](#section_3_1_1)\n",
    "        * [Save Final Model](#section_3_1_2)\n",
    "    * [Explore Model](#section_3_2)\n",
    "        * [Extracting Topics](#section_3_2_1)\n",
    "        * [Visualizations](#section_3_2_2)\n",
    "* [1960-1969](#section4)\n",
    "    * [Topic Modeling](#section_4_1)\n",
    "        * [Check Coherence](#section_4_1_1)\n",
    "        * [Save Final Model](#section_4_1_2)\n",
    "    * [Explore Model](#section_4_2)\n",
    "        * [Extracting Topics](#section_4_2_1)\n",
    "        * [Visualizations](#section_4_2_2)\n",
    "* [1970-1979](#section5)\n",
    "    * [Topic Modeling](#section_5_1)\n",
    "        * [Check Coherence](#section_5_1_1)\n",
    "        * [Save Final Model](#section_5_1_2)\n",
    "    * [Explore Model](#section_5_2)\n",
    "        * [Extracting Topics](#section_5_2_1)\n",
    "        * [Visualizations](#section_5_2_2)\n",
    "* [1980-1989](#section6)\n",
    "    * [Topic Modeling](#section_6_1)\n",
    "        * [Check Coherence](#section_6_1_1)\n",
    "        * [Save Final Model](#section_6_1_2)\n",
    "    * [Explore Model](#section_6_2)\n",
    "        * [Extracting Topics](#section_6_2_1)\n",
    "        * [Visualizations](#section_6_2_2)\n",
    "* [1990-1999](#section7)\n",
    "    * [Topic Modeling](#section_7_1)\n",
    "        * [Check Coherence](#section_7_1_1)\n",
    "        * [Save Final Model](#section_7_1_2)\n",
    "    * [Explore Model](#section_7_2)\n",
    "        * [Extracting Topics](#section_7_2_1)\n",
    "        * [Visualizations](#section_7_2_2)\n",
    "* [2000-2009](#section8)\n",
    "    * [Topic Modeling](#section_8_1)\n",
    "        * [Check Coherence](#section_8_1_1)\n",
    "        * [Save Final Model](#section_8_1_2)\n",
    "    * [Explore Model](#section_8_2)\n",
    "        * [Extracting Topics](#section_8_2_1)\n",
    "        * [Visualizations](#section_8_2_2)\n",
    "* [2010-2019](#section9)\n",
    "    * [Topic Modeling](#section_9_1)\n",
    "        * [Check Coherence](#section_9_1_1)\n",
    "        * [Save Final Model](#section_9_1_2)\n",
    "    * [Explore Model](#section_9_2)\n",
    "        * [Extracting Topics](#section_9_2_1)\n",
    "        * [Visualizations](#section_9_2_2)"
   ]
  },
  {
   "cell_type": "markdown",
   "metadata": {},
   "source": [
    "# Setup Environment <a class=anchor id=section1></a>"
   ]
  },
  {
   "cell_type": "code",
   "execution_count": 2,
   "metadata": {},
   "outputs": [],
   "source": [
    "%%capture\n",
    "# use ml.c5.2xlarge or ml.g4dn.xlarge instance\n",
    "!apt-get update\n",
    "!apt-get install --reinstall build-essential --yes"
   ]
  },
  {
   "cell_type": "code",
   "execution_count": 3,
   "metadata": {},
   "outputs": [],
   "source": [
    "%%capture\n",
    "!pip install bertopic\n",
    "!pip install farm-haystack\n",
    "!pip install spacy\n",
    "!pip install gensim\n",
    "!pip install sagemaker_pyspark\n",
    "!python -m spacy download en_core_web_sm"
   ]
  },
  {
   "cell_type": "code",
   "execution_count": 4,
   "metadata": {},
   "outputs": [],
   "source": [
    "import re\n",
    "import glob\n",
    "import spacy\n",
    "import gensim\n",
    "import pickle\n",
    "import logging\n",
    "import pyspark\n",
    "import pynndescent\n",
    "import numpy as np\n",
    "import pandas as pd\n",
    "import plotly.io as pio\n",
    "import matplotlib.pyplot as plt\n",
    "import gensim.corpora as corpora\n",
    "\n",
    "from umap import UMAP\n",
    "from hdbscan import HDBSCAN\n",
    "from bertopic import BERTopic\n",
    "from nltk.corpus import stopwords\n",
    "from nltk.tokenize import sent_tokenize\n",
    "from haystack.nodes import PreProcessor\n",
    "from gensim.utils import simple_preprocess\n",
    "from nltk.corpus import PlaintextCorpusReader\n",
    "from haystack.utils import convert_files_to_docs\n",
    "from sentence_transformers import SentenceTransformer\n",
    "from gensim.models.coherencemodel import CoherenceModel\n",
    "\n",
    "np.random.seed(0)\n",
    "pio.renderers.default='iframe'\n",
    "stop_words = stopwords.words('english')\n",
    "stop_words.extend(['from', 'subject', 're', 'edu', 'use'])\n",
    "nlp = spacy.load('en_core_web_sm', disable=['parser', 'ner'])\n",
    "pynndescent.rp_trees.FlatTree.__module__  = \"pynndescent.rp_trees\"\n",
    "logging.getLogger(\"haystack.utils.preprocessing\").setLevel(logging.ERROR)"
   ]
  },
  {
   "cell_type": "code",
   "execution_count": 5,
   "metadata": {},
   "outputs": [
    {
     "name": "stderr",
     "output_type": "stream",
     "text": [
      "[nltk_data] Downloading package wordnet to /root/nltk_data...\n",
      "[nltk_data]   Package wordnet is already up-to-date!\n",
      "[nltk_data] Downloading package omw-1.4 to /root/nltk_data...\n",
      "[nltk_data]   Package omw-1.4 is already up-to-date!\n"
     ]
    }
   ],
   "source": [
    "import nltk\n",
    "from nltk import word_tokenize          \n",
    "from nltk.stem import WordNetLemmatizer\n",
    "from transformers.pipelines import pipeline\n",
    "from sklearn.feature_extraction.text import CountVectorizer\n",
    "\n",
    "nltk.download('wordnet')\n",
    "nltk.download('omw-1.4')\n",
    "token_pattern = re.compile(r\"(?u)\\b\\w\\w+\\b\")\n",
    "sentence_model = SentenceTransformer(\"all-distilroberta-v1\")\n",
    "# sentence_model = SentenceTransformer(\"allenai/longformer-large-4096\")\n",
    "# sentence_model = SentenceTransformer(\"Peltarion/xlm-roberta-longformer-base-4096\")\n",
    "# sentence_model = SentenceTransformer(\"google/reformer-enwik8\")\n",
    "\n",
    "class LemmaTokenizer(object):\n",
    "    def __init__(self):\n",
    "        self.wnl = WordNetLemmatizer()\n",
    "\n",
    "    def __call__(self, doc):\n",
    "        return [\n",
    "            self.wnl.lemmatize(t)\n",
    "            for t in word_tokenize(doc)\n",
    "            if len(t) > 3 and re.match(\"[a-z].*\", t) and re.match(token_pattern, t)\n",
    "        ]"
   ]
  },
  {
   "cell_type": "markdown",
   "metadata": {},
   "source": [
    "# Functions <a class=anchor id=section2></a>"
   ]
  },
  {
   "cell_type": "code",
   "execution_count": 6,
   "metadata": {},
   "outputs": [
    {
     "data": {
      "text/plain": [
       "'\\ndef pre_process(source):\\n    all_docs = convert_files_to_docs(dir_path=source)\\n    preprocessor = PreProcessor(\\n        clean_empty_lines=True,\\n        clean_whitespace=True,\\n        clean_header_footer=False,\\n        split_by=\"word\",\\n        split_length=500,\\n        split_respect_sentence_boundary=True,\\n    )\\n    processed_docs = preprocessor.process(all_docs)\\n    print(f\"Number of input files: {len(all_docs)}\\nNumber of output files: {len(processed_docs)}\")\\n    return [item.content for item in processed_docs]\\n\\n'"
      ]
     },
     "execution_count": 6,
     "metadata": {},
     "output_type": "execute_result"
    }
   ],
   "source": [
    "def pre_process(source):\n",
    "    processed_docs = []\n",
    "    all_docs = convert_files_to_docs(dir_path=source)\n",
    "    selected_docs = [doc for doc in all_docs if len(doc.content.split()) >= 10]\n",
    "    preprocessor = PreProcessor(\n",
    "        clean_empty_lines=True,\n",
    "        clean_whitespace=True,\n",
    "        clean_header_footer=True,\n",
    "        split_by=None\n",
    "    )\n",
    "    processed_docs = [item.content for item in preprocessor.process(selected_docs)]\n",
    "    print(f\"Number of input files: {len(all_docs)}\\n\"+\n",
    "          f\"Number of selected files: {len(selected_docs)}\\n\"+\n",
    "          f\"Number of output files: {len(processed_docs)}\")\n",
    "    return processed_docs\n",
    "\"\"\"\n",
    "def pre_process(source):\n",
    "    all_docs = convert_files_to_docs(dir_path=source)\n",
    "    preprocessor = PreProcessor(\n",
    "        clean_empty_lines=True,\n",
    "        clean_whitespace=True,\n",
    "        clean_header_footer=False,\n",
    "        split_by=\"word\",\n",
    "        split_length=500,\n",
    "        split_respect_sentence_boundary=True,\n",
    "    )\n",
    "    processed_docs = preprocessor.process(all_docs)\n",
    "    print(f\"Number of input files: {len(all_docs)}\\nNumber of output files: {len(processed_docs)}\")\n",
    "    return [item.content for item in processed_docs]\n",
    "\n",
    "\"\"\""
   ]
  },
  {
   "cell_type": "code",
   "execution_count": 7,
   "metadata": {},
   "outputs": [],
   "source": [
    "def training(docs, docs_embeddings, cluster_size=100):\n",
    "    vectorizer_model= CountVectorizer(stop_words=\"english\", tokenizer=LemmaTokenizer())\n",
    "    # Set the random state in the UMAP model to prevent stochastic behavior \n",
    "    umap_model = UMAP(n_neighbors=15, n_components=5, min_dist=0.0, metric='cosine', random_state=42)\n",
    "    hdbscan_model = HDBSCAN(min_cluster_size=cluster_size, metric='euclidean', prediction_data=True)\n",
    "    topic_model = BERTopic(language=\"english\", calculate_probabilities=True, verbose=True, nr_topics=\"auto\", \n",
    "                           vectorizer_model=vectorizer_model, umap_model=umap_model, hdbscan_model=hdbscan_model)\n",
    "    topics, probs = topic_model.fit_transform(docs, docs_embeddings)\n",
    "    \n",
    "    ##### Calculate Coherence\n",
    "    # Preprocess Documents\n",
    "    documents = pd.DataFrame({\"Document\": docs,\n",
    "                              \"ID\": range(len(docs)),\n",
    "                              \"Topic\": topics})\n",
    "    documents_per_topic = documents.groupby(['Topic'], as_index=False).agg({'Document': ' '.join})\n",
    "    cleaned_docs = topic_model._preprocess_text(documents_per_topic.Document.values)\n",
    "\n",
    "    # Extract vectorizer and analyzer from BERTopic\n",
    "    vectorizer = topic_model.vectorizer_model\n",
    "    analyzer = vectorizer.build_analyzer()\n",
    "\n",
    "    # Extract features for Topic Coherence evaluation\n",
    "    tokens = [analyzer(doc) for doc in cleaned_docs]\n",
    "    dictionary = corpora.Dictionary(tokens)\n",
    "    corpus = [dictionary.doc2bow(token) for token in tokens]\n",
    "    topic_words = [[words for words, probs in topic_model.get_topic(topic)] \n",
    "                   for topic in range(len(set(topics))-1)]\n",
    "\n",
    "    # Evaluate\n",
    "    coherence_model = CoherenceModel(topics=topic_words, \n",
    "                                     texts=tokens, \n",
    "                                     corpus=corpus,\n",
    "                                     dictionary=dictionary, \n",
    "                                     coherence='c_npmi')\n",
    "    coherence_score = coherence_model.get_coherence()\n",
    "\n",
    "    return topic_model, topics, probs, coherence_score"
   ]
  },
  {
   "cell_type": "code",
   "execution_count": 8,
   "metadata": {},
   "outputs": [],
   "source": [
    "def draw_graph(start, limit, step, c_npmi, title):\n",
    "    # Show graph\n",
    "    x = range(start, limit, step)\n",
    "    plt.plot(x, c_npmi)\n",
    "    plt.title(title)\n",
    "    plt.xlabel(\"Number of Clusters\")\n",
    "    plt.ylabel(\"Coherence score\")\n",
    "    plt.legend((\"c_npmi\"), loc='best')\n",
    "    plt.show()\n",
    "    # Print the coherence scores\n",
    "#     for i in range(0,len(c_npmi)):\n",
    "#         if str(c_npmi[i]) == 'nan':\n",
    "#             c_npmi[i]=float('-inf')\n",
    "    maximum = max(c_npmi)\n",
    "    indices = [i for i, v in enumerate(c_npmi) if v == maximum]\n",
    "    print(\"A maximum {} score of {} was achieved at K={}\".format(\"c_npmi\", maximum, indices[0]+1))\n",
    "    # Return the index\n",
    "    return indices[0]"
   ]
  },
  {
   "cell_type": "code",
   "execution_count": 8,
   "metadata": {},
   "outputs": [],
   "source": [
    "!rm -r BERT/\n",
    "!mkdir BERT"
   ]
  },
  {
   "cell_type": "markdown",
   "metadata": {},
   "source": [
    "# 1950-1959 <a class=anchor id=section3></a>"
   ]
  },
  {
   "cell_type": "markdown",
   "metadata": {},
   "source": [
    "## Topic Modeling <a class=anchor id=section_3_1></a>"
   ]
  },
  {
   "cell_type": "code",
   "execution_count": 9,
   "metadata": {},
   "outputs": [],
   "source": [
    "!mkdir BERT/1950-1959/"
   ]
  },
  {
   "cell_type": "code",
   "execution_count": 10,
   "metadata": {},
   "outputs": [],
   "source": [
    "# parameters\n",
    "source = 'CLEANSED/1950-1959'\n",
    "output = 'BERT/'+source.split(\"/\")[1]+\"/\"\n",
    "start, limit, step = 10, 100, 10\n",
    "topic_models = []\n",
    "coherences = []\n",
    "topics = []\n",
    "probs = []"
   ]
  },
  {
   "cell_type": "code",
   "execution_count": 11,
   "metadata": {},
   "outputs": [
    {
     "name": "stderr",
     "output_type": "stream",
     "text": [
      "100%|██████████| 1051/1051 [00:00<00:00, 31317.01docs/s]\n"
     ]
    },
    {
     "name": "stdout",
     "output_type": "stream",
     "text": [
      "Number of input files: 1051\n",
      "Number of selected files: 1051\n",
      "Number of output files: 1051\n"
     ]
    },
    {
     "data": {
      "application/vnd.jupyter.widget-view+json": {
       "model_id": "d779ff8161a7495cb6febd167c4d6860",
       "version_major": 2,
       "version_minor": 0
      },
      "text/plain": [
       "HBox(children=(FloatProgress(value=0.0, description='Batches', max=33.0, style=ProgressStyle(description_width…"
      ]
     },
     "metadata": {},
     "output_type": "display_data"
    },
    {
     "name": "stdout",
     "output_type": "stream",
     "text": [
      "\n"
     ]
    }
   ],
   "source": [
    "# Create embeddings\n",
    "docs = pre_process(source)\n",
    "embeddings = sentence_model.encode(docs, show_progress_bar=True)"
   ]
  },
  {
   "cell_type": "code",
   "execution_count": 12,
   "metadata": {},
   "outputs": [
    {
     "name": "stderr",
     "output_type": "stream",
     "text": [
      "2022-08-11 14:26:24,256 - BERTopic - Reduced dimensionality\n",
      "2022-08-11 14:26:24,330 - BERTopic - Clustered reduced embeddings\n",
      "2022-08-11 14:26:47,490 - BERTopic - Reduced number of topics from 17 to 17\n",
      "2022-08-11 14:27:02,911 - BERTopic - Reduced dimensionality\n",
      "2022-08-11 14:27:02,976 - BERTopic - Clustered reduced embeddings\n",
      "2022-08-11 14:27:24,617 - BERTopic - Reduced number of topics from 11 to 11\n",
      "2022-08-11 14:27:39,424 - BERTopic - Reduced dimensionality\n",
      "2022-08-11 14:27:39,486 - BERTopic - Clustered reduced embeddings\n",
      "2022-08-11 14:28:01,234 - BERTopic - Reduced number of topics from 7 to 7\n",
      "2022-08-11 14:28:15,672 - BERTopic - Reduced dimensionality\n",
      "2022-08-11 14:28:15,737 - BERTopic - Clustered reduced embeddings\n",
      "2022-08-11 14:28:37,431 - BERTopic - Reduced number of topics from 7 to 7\n",
      "2022-08-11 14:28:51,904 - BERTopic - Reduced dimensionality\n",
      "2022-08-11 14:28:51,970 - BERTopic - Clustered reduced embeddings\n",
      "2022-08-11 14:29:13,705 - BERTopic - Reduced number of topics from 6 to 6\n",
      "2022-08-11 14:29:28,286 - BERTopic - Reduced dimensionality\n",
      "2022-08-11 14:29:28,351 - BERTopic - Clustered reduced embeddings\n",
      "2022-08-11 14:29:50,145 - BERTopic - Reduced number of topics from 4 to 4\n",
      "2022-08-11 14:30:04,160 - BERTopic - Reduced dimensionality\n",
      "2022-08-11 14:30:04,225 - BERTopic - Clustered reduced embeddings\n",
      "2022-08-11 14:30:25,978 - BERTopic - Reduced number of topics from 4 to 4\n",
      "2022-08-11 14:30:40,398 - BERTopic - Reduced dimensionality\n",
      "2022-08-11 14:30:40,465 - BERTopic - Clustered reduced embeddings\n",
      "2022-08-11 14:31:02,221 - BERTopic - Reduced number of topics from 4 to 4\n",
      "2022-08-11 14:31:16,228 - BERTopic - Reduced dimensionality\n",
      "2022-08-11 14:31:16,298 - BERTopic - Clustered reduced embeddings\n",
      "2022-08-11 14:31:38,095 - BERTopic - Reduced number of topics from 3 to 3\n"
     ]
    }
   ],
   "source": [
    "# Create topic model\n",
    "for i in range(start, limit, step):\n",
    "    topic_model, topic, prob, coherence = training(docs, embeddings, i)\n",
    "    topic_models.append(topic_model)\n",
    "    topics.append(topic)\n",
    "    probs.append(prob)\n",
    "    coherences.append(coherence)"
   ]
  },
  {
   "cell_type": "markdown",
   "metadata": {},
   "source": [
    "### Check Coherence <a class=anchor id=section_3_1_1></a>"
   ]
  },
  {
   "cell_type": "code",
   "execution_count": 13,
   "metadata": {},
   "outputs": [
    {
     "data": {
      "image/png": "[encoded data removed]",
      "text/plain": [
       "<Figure size 640x480 with 1 Axes>"
      ]
     },
     "metadata": {},
     "output_type": "display_data"
    },
    {
     "name": "stdout",
     "output_type": "stream",
     "text": [
      "A maximum c_npmi score of 0.0902134197630636 was achieved at K=1\n"
     ]
    }
   ],
   "source": [
    "model_index = draw_graph(start, limit, step, coherences, source.split(\"/\")[1])"
   ]
  },
  {
   "cell_type": "markdown",
   "metadata": {},
   "source": [
    "> Hence, we select the model with the highest coherence value."
   ]
  },
  {
   "cell_type": "markdown",
   "metadata": {},
   "source": [
    "### Save Final Model <a class=anchor id=section_3_1_2></a>"
   ]
  },
  {
   "cell_type": "code",
   "execution_count": 14,
   "metadata": {},
   "outputs": [
    {
     "name": "stderr",
     "output_type": "stream",
     "text": [
      "100%|██████████| 15/15 [00:00<00:00, 177.06it/s]\n"
     ]
    }
   ],
   "source": [
    "topic_model, topic, prob, coherence = topic_models[model_index], topics[model_index], probs[model_index], coherences[model_index]\n",
    "hierarchical_topics = topic_model.hierarchical_topics(docs, topic)"
   ]
  },
  {
   "cell_type": "code",
   "execution_count": 15,
   "metadata": {},
   "outputs": [],
   "source": [
    "topic_model.save(output+\"bert\")\n",
    "with open(output+'hierarchical_topics.pkl', 'wb') as f:\n",
    "    pickle.dump(hierarchical_topics, f)\n",
    "with open(output+'docs.pkl', 'wb') as f:\n",
    "    pickle.dump(docs, f)"
   ]
  },
  {
   "cell_type": "markdown",
   "metadata": {},
   "source": [
    "## Explore Model <a class=anchor id=section_3_2></a>"
   ]
  },
  {
   "cell_type": "code",
   "execution_count": 16,
   "metadata": {},
   "outputs": [],
   "source": [
    "topic_model = BERTopic.load(output+\"bert\")\n",
    "with open(output+'hierarchical_topics.pkl', 'rb') as f:\n",
    "    hierarchical_topics = pickle.load(f)\n",
    "with open(output+'docs.pkl', 'rb') as f:\n",
    "    docs = pickle.load(f)"
   ]
  },
  {
   "cell_type": "markdown",
   "metadata": {},
   "source": [
    "### Extracting Topics <a class=anchor id=section_3_2_1></a>\n",
    "\n",
    "After fitting our model, we can start by looking at the results. Typically, we look at the most frequent topics first as they best represent the collection of documents. "
   ]
  },
  {
   "cell_type": "code",
   "execution_count": 17,
   "metadata": {},
   "outputs": [
    {
     "data": {
      "text/html": [
       "<div>\n",
       "<style scoped>\n",
       "    .dataframe tbody tr th:only-of-type {\n",
       "        vertical-align: middle;\n",
       "    }\n",
       "\n",
       "    .dataframe tbody tr th {\n",
       "        vertical-align: top;\n",
       "    }\n",
       "\n",
       "    .dataframe thead th {\n",
       "        text-align: right;\n",
       "    }\n",
       "</style>\n",
       "<table border=\"1\" class=\"dataframe\">\n",
       "  <thead>\n",
       "    <tr style=\"text-align: right;\">\n",
       "      <th></th>\n",
       "      <th>Topic</th>\n",
       "      <th>Count</th>\n",
       "      <th>Name</th>\n",
       "    </tr>\n",
       "  </thead>\n",
       "  <tbody>\n",
       "    <tr>\n",
       "      <th>0</th>\n",
       "      <td>-1</td>\n",
       "      <td>285</td>\n",
       "      <td>-1_year_company_permission_state</td>\n",
       "    </tr>\n",
       "    <tr>\n",
       "      <th>1</th>\n",
       "      <td>0</td>\n",
       "      <td>138</td>\n",
       "      <td>0_automation_machine_said_permission</td>\n",
       "    </tr>\n",
       "    <tr>\n",
       "      <th>2</th>\n",
       "      <td>1</td>\n",
       "      <td>99</td>\n",
       "      <td>1_share_fund_company_stock</td>\n",
       "    </tr>\n",
       "    <tr>\n",
       "      <th>3</th>\n",
       "      <td>2</td>\n",
       "      <td>86</td>\n",
       "      <td>2_union_labor_worker_wage</td>\n",
       "    </tr>\n",
       "    <tr>\n",
       "      <th>4</th>\n",
       "      <td>3</td>\n",
       "      <td>71</td>\n",
       "      <td>3_news_film_music_wcbs</td>\n",
       "    </tr>\n",
       "  </tbody>\n",
       "</table>\n",
       "</div>"
      ],
      "text/plain": [
       "   Topic  Count                                  Name\n",
       "0     -1    285      -1_year_company_permission_state\n",
       "1      0    138  0_automation_machine_said_permission\n",
       "2      1     99            1_share_fund_company_stock\n",
       "3      2     86             2_union_labor_worker_wage\n",
       "4      3     71                3_news_film_music_wcbs"
      ]
     },
     "execution_count": 17,
     "metadata": {},
     "output_type": "execute_result"
    }
   ],
   "source": [
    "freq = topic_model.get_topic_info()\n",
    "freq.head(5)"
   ]
  },
  {
   "cell_type": "markdown",
   "metadata": {},
   "source": [
    "> -1 refers to all outliers and should typically be ignored.\n",
    "\n",
    "Next, let's take a look at a frequent topic that were generated:"
   ]
  },
  {
   "cell_type": "code",
   "execution_count": 18,
   "metadata": {},
   "outputs": [
    {
     "data": {
      "text/plain": [
       "[('automation', 0.03537526957501793),\n",
       " ('machine', 0.025013740902060967),\n",
       " ('said', 0.023085837736204786),\n",
       " ('permission', 0.021154589245557694),\n",
       " ('education', 0.02095601782387554),\n",
       " ('school', 0.020389398662656114),\n",
       " ('worker', 0.01744079990478005),\n",
       " ('work', 0.016869637998127282),\n",
       " ('time', 0.015276450935803803),\n",
       " ('automatic', 0.013790583548082137)]"
      ]
     },
     "execution_count": 18,
     "metadata": {},
     "output_type": "execute_result"
    }
   ],
   "source": [
    "# Select the most frequent topic\n",
    "topic_model.get_topic(0)"
   ]
  },
  {
   "cell_type": "markdown",
   "metadata": {},
   "source": [
    "**NOTE**: BERTopic is stochastic which means that the topics might differ across runs. This is mostly due to the stocastisch nature of UMAP."
   ]
  },
  {
   "cell_type": "markdown",
   "metadata": {},
   "source": [
    "### Visualizations <a class=anchor id=section_3_2_2></a>"
   ]
  },
  {
   "cell_type": "code",
   "execution_count": 19,
   "metadata": {},
   "outputs": [
    {
     "data": {
      "text/html": [
       "<iframe\n",
       "    scrolling=\"no\"\n",
       "    width=\"670px\"\n",
       "    height=\"670\"\n",
       "    src=\"iframe_figures/figure_19.html\"\n",
       "    frameborder=\"0\"\n",
       "    allowfullscreen\n",
       "></iframe>\n"
      ]
     },
     "metadata": {},
     "output_type": "display_data"
    }
   ],
   "source": [
    "topic_model.visualize_topics()"
   ]
  },
  {
   "cell_type": "code",
   "execution_count": 20,
   "metadata": {},
   "outputs": [
    {
     "data": {
      "text/html": [
       "<iframe\n",
       "    scrolling=\"no\"\n",
       "    width=\"1220px\"\n",
       "    height=\"770\"\n",
       "    src=\"iframe_figures/figure_20.html\"\n",
       "    frameborder=\"0\"\n",
       "    allowfullscreen\n",
       "></iframe>\n"
      ]
     },
     "metadata": {},
     "output_type": "display_data"
    }
   ],
   "source": [
    "topic_model.visualize_documents(docs, reduced_embeddings=embeddings)"
   ]
  },
  {
   "cell_type": "markdown",
   "metadata": {},
   "source": [
    "We can visualize the selected terms for a few topics by creating bar charts out of the c-TF-IDF scores for each topic representation. Insights can be gained from the relative c-TF-IDF scores between and within topics. Moreover, you can easily compare topic representations to each other."
   ]
  },
  {
   "cell_type": "code",
   "execution_count": 21,
   "metadata": {},
   "outputs": [
    {
     "data": {
      "text/html": [
       "<iframe\n",
       "    scrolling=\"no\"\n",
       "    width=\"1020px\"\n",
       "    height=\"520\"\n",
       "    src=\"iframe_figures/figure_21.html\"\n",
       "    frameborder=\"0\"\n",
       "    allowfullscreen\n",
       "></iframe>\n"
      ]
     },
     "metadata": {},
     "output_type": "display_data"
    }
   ],
   "source": [
    "topic_model.visualize_barchart(top_n_topics=6)"
   ]
  },
  {
   "cell_type": "markdown",
   "metadata": {},
   "source": [
    "The topics that were created can be hierarchically reduced. In order to understand the potential hierarchical structure of the topics, we create clusters and visualize how they relate to one another."
   ]
  },
  {
   "cell_type": "code",
   "execution_count": 22,
   "metadata": {},
   "outputs": [
    {
     "data": {
      "text/html": [
       "<iframe\n",
       "    scrolling=\"no\"\n",
       "    width=\"1020px\"\n",
       "    height=\"460\"\n",
       "    src=\"iframe_figures/figure_22.html\"\n",
       "    frameborder=\"0\"\n",
       "    allowfullscreen\n",
       "></iframe>\n"
      ]
     },
     "metadata": {},
     "output_type": "display_data"
    }
   ],
   "source": [
    "topic_model.visualize_hierarchy(hierarchical_topics=hierarchical_topics, top_n_topics=50)"
   ]
  },
  {
   "cell_type": "markdown",
   "metadata": {},
   "source": [
    "Having generated topic embeddings, through both c-TF-IDF and embeddings, we can create a similarity matrix by simply applying cosine similarities through those topic embeddings. The result will be a matrix indicating how similar certain topics are to each other."
   ]
  },
  {
   "cell_type": "code",
   "execution_count": 23,
   "metadata": {},
   "outputs": [
    {
     "data": {
      "text/html": [
       "<iframe\n",
       "    scrolling=\"no\"\n",
       "    width=\"1020px\"\n",
       "    height=\"1020\"\n",
       "    src=\"iframe_figures/figure_23.html\"\n",
       "    frameborder=\"0\"\n",
       "    allowfullscreen\n",
       "></iframe>\n"
      ]
     },
     "metadata": {},
     "output_type": "display_data"
    }
   ],
   "source": [
    "topic_model.visualize_heatmap(width=1000, height=1000)"
   ]
  },
  {
   "cell_type": "markdown",
   "metadata": {},
   "source": [
    "Topics are represented by a number of words starting with the best representative word. Each word is represented by a c-TF-IDF score. The higher the score, the more representative a word to the topic is. Since the topic words are sorted by their c-TF-IDF score, the scores slowly decline with each word that is added. At some point adding words to the topic representation only marginally increases the total c-TF-IDF score and would not be beneficial for its representation.\n",
    "\n",
    "To visualize this effect, we can plot the c-TF-IDF scores for each topic by the term rank of each word. In other words, the position of the words (term rank), where the words with the highest c-TF-IDF score will have a rank of 1, will be put on the x-axis. Whereas the y-axis will be populated by the c-TF-IDF scores. The result is a visualization that shows you the decline of c-TF-IDF score when adding words to the topic representation. It allows you, using the elbow method, to select the best number of words in a topic."
   ]
  },
  {
   "cell_type": "code",
   "execution_count": 24,
   "metadata": {},
   "outputs": [
    {
     "data": {
      "text/html": [
       "<iframe\n",
       "    scrolling=\"no\"\n",
       "    width=\"820px\"\n",
       "    height=\"520\"\n",
       "    src=\"iframe_figures/figure_24.html\"\n",
       "    frameborder=\"0\"\n",
       "    allowfullscreen\n",
       "></iframe>\n"
      ]
     },
     "metadata": {},
     "output_type": "display_data"
    }
   ],
   "source": [
    "topic_model.visualize_term_rank()"
   ]
  },
  {
   "cell_type": "markdown",
   "metadata": {},
   "source": [
    "# 1960-1969 <a class=anchor id=section4></a>"
   ]
  },
  {
   "cell_type": "markdown",
   "metadata": {},
   "source": [
    "## Topic Modeling <a class=anchor id=section_4_1></a>"
   ]
  },
  {
   "cell_type": "code",
   "execution_count": 25,
   "metadata": {},
   "outputs": [],
   "source": [
    "!mkdir BERT/1960-1969/"
   ]
  },
  {
   "cell_type": "code",
   "execution_count": 26,
   "metadata": {},
   "outputs": [],
   "source": [
    "# parameters\n",
    "source = 'CLEANSED/1960-1969'\n",
    "output = 'BERT/'+source.split(\"/\")[1]+\"/\"\n",
    "start, limit, step = 10, 100, 10\n",
    "topic_models = []\n",
    "coherences = []\n",
    "topics = []\n",
    "probs = []"
   ]
  },
  {
   "cell_type": "code",
   "execution_count": 27,
   "metadata": {},
   "outputs": [
    {
     "name": "stderr",
     "output_type": "stream",
     "text": [
      "100%|██████████| 2900/2900 [00:00<00:00, 37487.35docs/s]\n"
     ]
    },
    {
     "name": "stdout",
     "output_type": "stream",
     "text": [
      "Number of input files: 2900\n",
      "Number of selected files: 2900\n",
      "Number of output files: 2900\n"
     ]
    },
    {
     "data": {
      "application/vnd.jupyter.widget-view+json": {
       "model_id": "943d1a15e92c4d0781c6a2d7910d09af",
       "version_major": 2,
       "version_minor": 0
      },
      "text/plain": [
       "HBox(children=(FloatProgress(value=0.0, description='Batches', max=91.0, style=ProgressStyle(description_width…"
      ]
     },
     "metadata": {},
     "output_type": "display_data"
    },
    {
     "name": "stdout",
     "output_type": "stream",
     "text": [
      "\n"
     ]
    }
   ],
   "source": [
    "# Create embeddings\n",
    "docs = pre_process(source)\n",
    "embeddings = sentence_model.encode(docs, show_progress_bar=True)"
   ]
  },
  {
   "cell_type": "code",
   "execution_count": 28,
   "metadata": {},
   "outputs": [
    {
     "name": "stderr",
     "output_type": "stream",
     "text": [
      "2022-08-11 14:33:22,479 - BERTopic - Reduced dimensionality\n",
      "2022-08-11 14:33:22,893 - BERTopic - Clustered reduced embeddings\n",
      "2022-08-11 14:34:11,390 - BERTopic - Reduced number of topics from 50 to 30\n",
      "2022-08-11 14:34:53,380 - BERTopic - Reduced dimensionality\n",
      "2022-08-11 14:34:53,612 - BERTopic - Clustered reduced embeddings\n",
      "2022-08-11 14:35:41,743 - BERTopic - Reduced number of topics from 25 to 9\n",
      "2022-08-11 14:36:20,411 - BERTopic - Reduced dimensionality\n",
      "2022-08-11 14:36:20,620 - BERTopic - Clustered reduced embeddings\n",
      "2022-08-11 14:37:08,747 - BERTopic - Reduced number of topics from 18 to 8\n",
      "2022-08-11 14:37:47,758 - BERTopic - Reduced dimensionality\n",
      "2022-08-11 14:37:47,948 - BERTopic - Clustered reduced embeddings\n",
      "2022-08-11 14:38:36,026 - BERTopic - Reduced number of topics from 12 to 12\n",
      "2022-08-11 14:39:16,349 - BERTopic - Reduced dimensionality\n",
      "2022-08-11 14:39:16,534 - BERTopic - Clustered reduced embeddings\n",
      "2022-08-11 14:40:04,801 - BERTopic - Reduced number of topics from 7 to 7\n",
      "2022-08-11 14:40:44,146 - BERTopic - Reduced dimensionality\n",
      "2022-08-11 14:40:44,360 - BERTopic - Clustered reduced embeddings\n",
      "2022-08-11 14:41:32,495 - BERTopic - Reduced number of topics from 8 to 8\n",
      "2022-08-11 14:42:12,096 - BERTopic - Reduced dimensionality\n",
      "2022-08-11 14:42:12,295 - BERTopic - Clustered reduced embeddings\n",
      "2022-08-11 14:43:00,380 - BERTopic - Reduced number of topics from 8 to 8\n",
      "2022-08-11 14:43:40,070 - BERTopic - Reduced dimensionality\n",
      "2022-08-11 14:43:40,268 - BERTopic - Clustered reduced embeddings\n",
      "2022-08-11 14:44:28,509 - BERTopic - Reduced number of topics from 5 to 5\n",
      "2022-08-11 14:45:07,223 - BERTopic - Reduced dimensionality\n",
      "2022-08-11 14:45:07,431 - BERTopic - Clustered reduced embeddings\n",
      "2022-08-11 14:45:55,676 - BERTopic - Reduced number of topics from 6 to 6\n"
     ]
    }
   ],
   "source": [
    "# Create topic model\n",
    "for i in range(start, limit, step):\n",
    "    topic_model, topic, prob, coherence = training(docs, embeddings, i)\n",
    "    topic_models.append(topic_model)\n",
    "    topics.append(topic)\n",
    "    probs.append(prob)\n",
    "    coherences.append(coherence)"
   ]
  },
  {
   "cell_type": "markdown",
   "metadata": {},
   "source": [
    "### Check Coherence <a class=anchor id=section_4_1_1></a>"
   ]
  },
  {
   "cell_type": "code",
   "execution_count": 29,
   "metadata": {},
   "outputs": [
    {
     "data": {
      "image/png": "[encoded data removed]",
      "text/plain": [
       "<Figure size 640x480 with 1 Axes>"
      ]
     },
     "metadata": {},
     "output_type": "display_data"
    },
    {
     "name": "stdout",
     "output_type": "stream",
     "text": [
      "A maximum c_npmi score of 0.1419180365407465 was achieved at K=3\n"
     ]
    }
   ],
   "source": [
    "model_index = draw_graph(start, limit, step, coherences, source.split(\"/\")[1])"
   ]
  },
  {
   "cell_type": "markdown",
   "metadata": {},
   "source": [
    "> Hence, we select the model with the highest coherence value."
   ]
  },
  {
   "cell_type": "markdown",
   "metadata": {},
   "source": [
    "### Save Final Model <a class=anchor id=section_4_1_2></a>"
   ]
  },
  {
   "cell_type": "code",
   "execution_count": 30,
   "metadata": {},
   "outputs": [
    {
     "name": "stderr",
     "output_type": "stream",
     "text": [
      "100%|██████████| 6/6 [00:00<00:00, 140.98it/s]\n"
     ]
    }
   ],
   "source": [
    "topic_model, topic, prob, coherence = topic_models[model_index], topics[model_index], probs[model_index], coherences[model_index]\n",
    "hierarchical_topics = topic_model.hierarchical_topics(docs, topic)"
   ]
  },
  {
   "cell_type": "code",
   "execution_count": 31,
   "metadata": {},
   "outputs": [],
   "source": [
    "topic_model.save(output+\"bert\")\n",
    "with open(output+'hierarchical_topics.pkl', 'wb') as f:\n",
    "    pickle.dump(hierarchical_topics, f)\n",
    "with open(output+'docs.pkl', 'wb') as f:\n",
    "    pickle.dump(docs, f)"
   ]
  },
  {
   "cell_type": "markdown",
   "metadata": {},
   "source": [
    "## Explore Model <a class=anchor id=section_4_2></a>"
   ]
  },
  {
   "cell_type": "code",
   "execution_count": 32,
   "metadata": {},
   "outputs": [],
   "source": [
    "topic_model = BERTopic.load(output+\"bert\")\n",
    "with open(output+'hierarchical_topics.pkl', 'rb') as f:\n",
    "    hierarchical_topics = pickle.load(f)\n",
    "with open(output+'docs.pkl', 'rb') as f:\n",
    "    docs = pickle.load(f)"
   ]
  },
  {
   "cell_type": "markdown",
   "metadata": {},
   "source": [
    "### Extracting Topics <a class=anchor id=section_4_2_1></a>\n",
    "\n",
    "After fitting our model, we can start by looking at the results. Typically, we look at the most frequent topics first as they best represent the collection of documents. "
   ]
  },
  {
   "cell_type": "code",
   "execution_count": 33,
   "metadata": {},
   "outputs": [
    {
     "data": {
      "text/html": [
       "<div>\n",
       "<style scoped>\n",
       "    .dataframe tbody tr th:only-of-type {\n",
       "        vertical-align: middle;\n",
       "    }\n",
       "\n",
       "    .dataframe tbody tr th {\n",
       "        vertical-align: top;\n",
       "    }\n",
       "\n",
       "    .dataframe thead th {\n",
       "        text-align: right;\n",
       "    }\n",
       "</style>\n",
       "<table border=\"1\" class=\"dataframe\">\n",
       "  <thead>\n",
       "    <tr style=\"text-align: right;\">\n",
       "      <th></th>\n",
       "      <th>Topic</th>\n",
       "      <th>Count</th>\n",
       "      <th>Name</th>\n",
       "    </tr>\n",
       "  </thead>\n",
       "  <tbody>\n",
       "    <tr>\n",
       "      <th>0</th>\n",
       "      <td>-1</td>\n",
       "      <td>1102</td>\n",
       "      <td>-1_said_permission_year_company</td>\n",
       "    </tr>\n",
       "    <tr>\n",
       "      <th>1</th>\n",
       "      <td>0</td>\n",
       "      <td>1207</td>\n",
       "      <td>0_union_said_permission_labor</td>\n",
       "    </tr>\n",
       "    <tr>\n",
       "      <th>2</th>\n",
       "      <td>1</td>\n",
       "      <td>232</td>\n",
       "      <td>1_exchange_stock_share_market</td>\n",
       "    </tr>\n",
       "    <tr>\n",
       "      <th>3</th>\n",
       "      <td>2</td>\n",
       "      <td>189</td>\n",
       "      <td>2_newspaper_union_publisher_guild</td>\n",
       "    </tr>\n",
       "    <tr>\n",
       "      <th>4</th>\n",
       "      <td>3</td>\n",
       "      <td>51</td>\n",
       "      <td>3_sale_income_cent_earns</td>\n",
       "    </tr>\n",
       "  </tbody>\n",
       "</table>\n",
       "</div>"
      ],
      "text/plain": [
       "   Topic  Count                               Name\n",
       "0     -1   1102    -1_said_permission_year_company\n",
       "1      0   1207      0_union_said_permission_labor\n",
       "2      1    232      1_exchange_stock_share_market\n",
       "3      2    189  2_newspaper_union_publisher_guild\n",
       "4      3     51           3_sale_income_cent_earns"
      ]
     },
     "execution_count": 33,
     "metadata": {},
     "output_type": "execute_result"
    }
   ],
   "source": [
    "freq = topic_model.get_topic_info()\n",
    "freq.head(5)"
   ]
  },
  {
   "cell_type": "markdown",
   "metadata": {},
   "source": [
    "> -1 refers to all outliers and should typically be ignored.\n",
    "\n",
    "Next, let's take a look at a frequent topic that were generated:"
   ]
  },
  {
   "cell_type": "code",
   "execution_count": 34,
   "metadata": {},
   "outputs": [
    {
     "data": {
      "text/plain": [
       "[('union', 0.02314113104298933),\n",
       " ('said', 0.022883547551849456),\n",
       " ('permission', 0.022496067463633137),\n",
       " ('labor', 0.020889312400700175),\n",
       " ('year', 0.01948904740161269),\n",
       " ('automation', 0.017138008789913974),\n",
       " ('worker', 0.015491843242717263),\n",
       " ('president', 0.015476038924248979),\n",
       " ('industry', 0.014844961104739755),\n",
       " ('work', 0.014638394255074594)]"
      ]
     },
     "execution_count": 34,
     "metadata": {},
     "output_type": "execute_result"
    }
   ],
   "source": [
    "# Select the most frequent topic\n",
    "topic_model.get_topic(0)"
   ]
  },
  {
   "cell_type": "markdown",
   "metadata": {},
   "source": [
    "**NOTE**: BERTopic is stochastic which means that the topics might differ across runs. This is mostly due to the stocastisch nature of UMAP."
   ]
  },
  {
   "cell_type": "markdown",
   "metadata": {},
   "source": [
    "### Visualizations <a class=anchor id=section_4_2_2></a>"
   ]
  },
  {
   "cell_type": "code",
   "execution_count": 35,
   "metadata": {},
   "outputs": [
    {
     "data": {
      "text/html": [
       "<iframe\n",
       "    scrolling=\"no\"\n",
       "    width=\"670px\"\n",
       "    height=\"670\"\n",
       "    src=\"iframe_figures/figure_35.html\"\n",
       "    frameborder=\"0\"\n",
       "    allowfullscreen\n",
       "></iframe>\n"
      ]
     },
     "metadata": {},
     "output_type": "display_data"
    }
   ],
   "source": [
    "topic_model.visualize_topics()"
   ]
  },
  {
   "cell_type": "code",
   "execution_count": 36,
   "metadata": {},
   "outputs": [
    {
     "data": {
      "text/html": [
       "<iframe\n",
       "    scrolling=\"no\"\n",
       "    width=\"1220px\"\n",
       "    height=\"770\"\n",
       "    src=\"iframe_figures/figure_36.html\"\n",
       "    frameborder=\"0\"\n",
       "    allowfullscreen\n",
       "></iframe>\n"
      ]
     },
     "metadata": {},
     "output_type": "display_data"
    }
   ],
   "source": [
    "topic_model.visualize_documents(docs, reduced_embeddings=embeddings)"
   ]
  },
  {
   "cell_type": "markdown",
   "metadata": {},
   "source": [
    "We can visualize the selected terms for a few topics by creating bar charts out of the c-TF-IDF scores for each topic representation. Insights can be gained from the relative c-TF-IDF scores between and within topics. Moreover, you can easily compare topic representations to each other."
   ]
  },
  {
   "cell_type": "code",
   "execution_count": 37,
   "metadata": {},
   "outputs": [
    {
     "data": {
      "text/html": [
       "<iframe\n",
       "    scrolling=\"no\"\n",
       "    width=\"1020px\"\n",
       "    height=\"520\"\n",
       "    src=\"iframe_figures/figure_37.html\"\n",
       "    frameborder=\"0\"\n",
       "    allowfullscreen\n",
       "></iframe>\n"
      ]
     },
     "metadata": {},
     "output_type": "display_data"
    }
   ],
   "source": [
    "topic_model.visualize_barchart(top_n_topics=6)"
   ]
  },
  {
   "cell_type": "markdown",
   "metadata": {},
   "source": [
    "The topics that were created can be hierarchically reduced. In order to understand the potential hierarchical structure of the topics, we create clusters and visualize how they relate to one another."
   ]
  },
  {
   "cell_type": "code",
   "execution_count": 38,
   "metadata": {},
   "outputs": [
    {
     "data": {
      "text/html": [
       "<iframe\n",
       "    scrolling=\"no\"\n",
       "    width=\"1020px\"\n",
       "    height=\"325\"\n",
       "    src=\"iframe_figures/figure_38.html\"\n",
       "    frameborder=\"0\"\n",
       "    allowfullscreen\n",
       "></iframe>\n"
      ]
     },
     "metadata": {},
     "output_type": "display_data"
    }
   ],
   "source": [
    "topic_model.visualize_hierarchy(hierarchical_topics=hierarchical_topics, top_n_topics=50)"
   ]
  },
  {
   "cell_type": "markdown",
   "metadata": {},
   "source": [
    "Having generated topic embeddings, through both c-TF-IDF and embeddings, we can create a similarity matrix by simply applying cosine similarities through those topic embeddings. The result will be a matrix indicating how similar certain topics are to each other."
   ]
  },
  {
   "cell_type": "code",
   "execution_count": 39,
   "metadata": {},
   "outputs": [
    {
     "data": {
      "text/html": [
       "<iframe\n",
       "    scrolling=\"no\"\n",
       "    width=\"1020px\"\n",
       "    height=\"1020\"\n",
       "    src=\"iframe_figures/figure_39.html\"\n",
       "    frameborder=\"0\"\n",
       "    allowfullscreen\n",
       "></iframe>\n"
      ]
     },
     "metadata": {},
     "output_type": "display_data"
    }
   ],
   "source": [
    "topic_model.visualize_heatmap(width=1000, height=1000)"
   ]
  },
  {
   "cell_type": "markdown",
   "metadata": {},
   "source": [
    "Topics are represented by a number of words starting with the best representative word. Each word is represented by a c-TF-IDF score. The higher the score, the more representative a word to the topic is. Since the topic words are sorted by their c-TF-IDF score, the scores slowly decline with each word that is added. At some point adding words to the topic representation only marginally increases the total c-TF-IDF score and would not be beneficial for its representation.\n",
    "\n",
    "To visualize this effect, we can plot the c-TF-IDF scores for each topic by the term rank of each word. In other words, the position of the words (term rank), where the words with the highest c-TF-IDF score will have a rank of 1, will be put on the x-axis. Whereas the y-axis will be populated by the c-TF-IDF scores. The result is a visualization that shows you the decline of c-TF-IDF score when adding words to the topic representation. It allows you, using the elbow method, to select the best number of words in a topic."
   ]
  },
  {
   "cell_type": "code",
   "execution_count": 40,
   "metadata": {},
   "outputs": [
    {
     "data": {
      "text/html": [
       "<iframe\n",
       "    scrolling=\"no\"\n",
       "    width=\"820px\"\n",
       "    height=\"520\"\n",
       "    src=\"iframe_figures/figure_40.html\"\n",
       "    frameborder=\"0\"\n",
       "    allowfullscreen\n",
       "></iframe>\n"
      ]
     },
     "metadata": {},
     "output_type": "display_data"
    }
   ],
   "source": [
    "topic_model.visualize_term_rank()"
   ]
  },
  {
   "cell_type": "markdown",
   "metadata": {},
   "source": [
    "# 1970-1979 <a class=anchor id=section5></a>"
   ]
  },
  {
   "cell_type": "markdown",
   "metadata": {},
   "source": [
    "## Topic Modeling <a class=anchor id=section_5_1></a>"
   ]
  },
  {
   "cell_type": "code",
   "execution_count": 41,
   "metadata": {},
   "outputs": [],
   "source": [
    "!mkdir BERT/1970-1979/"
   ]
  },
  {
   "cell_type": "code",
   "execution_count": 42,
   "metadata": {},
   "outputs": [],
   "source": [
    "# parameters\n",
    "source = 'CLEANSED/1970-1979'\n",
    "output = 'BERT/'+source.split(\"/\")[1]+\"/\"\n",
    "start, limit, step = 10, 90, 10\n",
    "topic_models = []\n",
    "coherences = []\n",
    "topics = []\n",
    "probs = []"
   ]
  },
  {
   "cell_type": "code",
   "execution_count": 43,
   "metadata": {},
   "outputs": [
    {
     "name": "stderr",
     "output_type": "stream",
     "text": [
      "100%|██████████| 1258/1258 [00:00<00:00, 20267.63docs/s]\n"
     ]
    },
    {
     "name": "stdout",
     "output_type": "stream",
     "text": [
      "Number of input files: 1258\n",
      "Number of selected files: 1258\n",
      "Number of output files: 1258\n"
     ]
    },
    {
     "data": {
      "application/vnd.jupyter.widget-view+json": {
       "model_id": "d5aa8607b1d448ca87ddd59ea7abe267",
       "version_major": 2,
       "version_minor": 0
      },
      "text/plain": [
       "HBox(children=(FloatProgress(value=0.0, description='Batches', max=40.0, style=ProgressStyle(description_width…"
      ]
     },
     "metadata": {},
     "output_type": "display_data"
    },
    {
     "name": "stdout",
     "output_type": "stream",
     "text": [
      "\n"
     ]
    }
   ],
   "source": [
    "# Create embeddings\n",
    "docs = pre_process(source)\n",
    "embeddings = sentence_model.encode(docs, show_progress_bar=True)"
   ]
  },
  {
   "cell_type": "code",
   "execution_count": 44,
   "metadata": {},
   "outputs": [
    {
     "name": "stderr",
     "output_type": "stream",
     "text": [
      "2022-08-11 14:47:07,497 - BERTopic - Reduced dimensionality\n",
      "2022-08-11 14:47:07,625 - BERTopic - Clustered reduced embeddings\n",
      "2022-08-11 14:47:47,165 - BERTopic - Reduced number of topics from 34 to 20\n",
      "2022-08-11 14:48:12,572 - BERTopic - Reduced dimensionality\n",
      "2022-08-11 14:48:12,656 - BERTopic - Clustered reduced embeddings\n",
      "2022-08-11 14:48:52,364 - BERTopic - Reduced number of topics from 5 to 5\n",
      "2022-08-11 14:49:14,017 - BERTopic - Reduced dimensionality\n",
      "2022-08-11 14:49:14,088 - BERTopic - Clustered reduced embeddings\n",
      "2022-08-11 14:49:53,237 - BERTopic - Reduced number of topics from 2 to 2\n",
      "2022-08-11 14:50:14,585 - BERTopic - Reduced dimensionality\n",
      "2022-08-11 14:50:14,656 - BERTopic - Clustered reduced embeddings\n",
      "2022-08-11 14:50:53,778 - BERTopic - Reduced number of topics from 2 to 2\n",
      "2022-08-11 14:51:14,736 - BERTopic - Reduced dimensionality\n",
      "2022-08-11 14:51:14,816 - BERTopic - Clustered reduced embeddings\n",
      "2022-08-11 14:51:54,052 - BERTopic - Reduced number of topics from 4 to 4\n",
      "2022-08-11 14:52:15,616 - BERTopic - Reduced dimensionality\n",
      "2022-08-11 14:52:15,693 - BERTopic - Clustered reduced embeddings\n",
      "2022-08-11 14:52:55,098 - BERTopic - Reduced number of topics from 4 to 4\n",
      "2022-08-11 14:53:16,955 - BERTopic - Reduced dimensionality\n",
      "2022-08-11 14:53:17,037 - BERTopic - Clustered reduced embeddings\n",
      "2022-08-11 14:53:56,563 - BERTopic - Reduced number of topics from 3 to 3\n",
      "2022-08-11 14:54:17,957 - BERTopic - Reduced dimensionality\n",
      "2022-08-11 14:54:18,038 - BERTopic - Clustered reduced embeddings\n",
      "2022-08-11 14:54:57,427 - BERTopic - Reduced number of topics from 3 to 3\n"
     ]
    }
   ],
   "source": [
    "# Create topic model\n",
    "for i in range(start, limit, step):\n",
    "    topic_model, topic, prob, coherence = training(docs, embeddings, i)\n",
    "    topic_models.append(topic_model)\n",
    "    topics.append(topic)\n",
    "    probs.append(prob)\n",
    "    coherences.append(coherence)"
   ]
  },
  {
   "cell_type": "markdown",
   "metadata": {},
   "source": [
    "### Check Coherence <a class=anchor id=section_5_1_1></a>"
   ]
  },
  {
   "cell_type": "code",
   "execution_count": 45,
   "metadata": {},
   "outputs": [
    {
     "data": {
      "image/png": "[encoded data removed]",
      "text/plain": [
       "<Figure size 640x480 with 1 Axes>"
      ]
     },
     "metadata": {},
     "output_type": "display_data"
    },
    {
     "name": "stdout",
     "output_type": "stream",
     "text": [
      "A maximum c_npmi score of 0.19269954092848232 was achieved at K=2\n"
     ]
    }
   ],
   "source": [
    "model_index = draw_graph(start, limit, step, coherences, source.split(\"/\")[1])"
   ]
  },
  {
   "cell_type": "markdown",
   "metadata": {},
   "source": [
    "> Hence, we select the model with the highest coherence value."
   ]
  },
  {
   "cell_type": "markdown",
   "metadata": {},
   "source": [
    "### Save Final Model <a class=anchor id=section_5_1_2></a>"
   ]
  },
  {
   "cell_type": "code",
   "execution_count": 46,
   "metadata": {},
   "outputs": [
    {
     "name": "stderr",
     "output_type": "stream",
     "text": [
      "100%|██████████| 3/3 [00:00<00:00, 95.00it/s]\n"
     ]
    }
   ],
   "source": [
    "topic_model, topic, prob, coherence = topic_models[model_index], topics[model_index], probs[model_index], coherences[model_index]\n",
    "hierarchical_topics = topic_model.hierarchical_topics(docs, topic)"
   ]
  },
  {
   "cell_type": "code",
   "execution_count": 47,
   "metadata": {},
   "outputs": [],
   "source": [
    "topic_model.save(output+\"bert\")\n",
    "with open(output+'hierarchical_topics.pkl', 'wb') as f:\n",
    "    pickle.dump(hierarchical_topics, f)\n",
    "with open(output+'docs.pkl', 'wb') as f:\n",
    "    pickle.dump(docs, f)"
   ]
  },
  {
   "cell_type": "markdown",
   "metadata": {},
   "source": [
    "## Explore Model <a class=anchor id=section_5_2></a>"
   ]
  },
  {
   "cell_type": "code",
   "execution_count": 48,
   "metadata": {},
   "outputs": [],
   "source": [
    "topic_model = BERTopic.load(output+\"bert\")\n",
    "with open(output+'hierarchical_topics.pkl', 'rb') as f:\n",
    "    hierarchical_topics = pickle.load(f)\n",
    "with open(output+'docs.pkl', 'rb') as f:\n",
    "    docs = pickle.load(f)"
   ]
  },
  {
   "cell_type": "markdown",
   "metadata": {},
   "source": [
    "### Extracting Topics <a class=anchor id=section_5_2_1></a>\n",
    "\n",
    "After fitting our model, we can start by looking at the results. Typically, we look at the most frequent topics first as they best represent the collection of documents. "
   ]
  },
  {
   "cell_type": "code",
   "execution_count": 49,
   "metadata": {},
   "outputs": [
    {
     "data": {
      "text/html": [
       "<div>\n",
       "<style scoped>\n",
       "    .dataframe tbody tr th:only-of-type {\n",
       "        vertical-align: middle;\n",
       "    }\n",
       "\n",
       "    .dataframe tbody tr th {\n",
       "        vertical-align: top;\n",
       "    }\n",
       "\n",
       "    .dataframe thead th {\n",
       "        text-align: right;\n",
       "    }\n",
       "</style>\n",
       "<table border=\"1\" class=\"dataframe\">\n",
       "  <thead>\n",
       "    <tr style=\"text-align: right;\">\n",
       "      <th></th>\n",
       "      <th>Topic</th>\n",
       "      <th>Count</th>\n",
       "      <th>Name</th>\n",
       "    </tr>\n",
       "  </thead>\n",
       "  <tbody>\n",
       "    <tr>\n",
       "      <th>0</th>\n",
       "      <td>-1</td>\n",
       "      <td>46</td>\n",
       "      <td>-1_movie_news_guest_report</td>\n",
       "    </tr>\n",
       "    <tr>\n",
       "      <th>1</th>\n",
       "      <td>0</td>\n",
       "      <td>1120</td>\n",
       "      <td>0_income_said_year_earns</td>\n",
       "    </tr>\n",
       "    <tr>\n",
       "      <th>2</th>\n",
       "      <td>1</td>\n",
       "      <td>44</td>\n",
       "      <td>1_hunter_horse_farm_green</td>\n",
       "    </tr>\n",
       "    <tr>\n",
       "      <th>3</th>\n",
       "      <td>2</td>\n",
       "      <td>26</td>\n",
       "      <td>2_camera_lens_exposure_film</td>\n",
       "    </tr>\n",
       "    <tr>\n",
       "      <th>4</th>\n",
       "      <td>3</td>\n",
       "      <td>22</td>\n",
       "      <td>3_stock_market_share_exchange</td>\n",
       "    </tr>\n",
       "  </tbody>\n",
       "</table>\n",
       "</div>"
      ],
      "text/plain": [
       "   Topic  Count                           Name\n",
       "0     -1     46     -1_movie_news_guest_report\n",
       "1      0   1120       0_income_said_year_earns\n",
       "2      1     44      1_hunter_horse_farm_green\n",
       "3      2     26    2_camera_lens_exposure_film\n",
       "4      3     22  3_stock_market_share_exchange"
      ]
     },
     "execution_count": 49,
     "metadata": {},
     "output_type": "execute_result"
    }
   ],
   "source": [
    "freq = topic_model.get_topic_info()\n",
    "freq.head(5)"
   ]
  },
  {
   "cell_type": "markdown",
   "metadata": {},
   "source": [
    "> -1 refers to all outliers and should typically be ignored.\n",
    "\n",
    "Next, let's take a look at a frequent topic that were generated:"
   ]
  },
  {
   "cell_type": "code",
   "execution_count": 50,
   "metadata": {},
   "outputs": [
    {
     "data": {
      "text/plain": [
       "[('income', 0.024272644983928036),\n",
       " ('said', 0.023903807690403157),\n",
       " ('year', 0.023513617058730635),\n",
       " ('earns', 0.02277150923535754),\n",
       " ('sale', 0.020007501343199525),\n",
       " ('permission', 0.017755781085233666),\n",
       " ('company', 0.017714559452327496),\n",
       " ('york', 0.017237712625074217),\n",
       " ('union', 0.015906171753256818),\n",
       " ('time', 0.015142603688551597)]"
      ]
     },
     "execution_count": 50,
     "metadata": {},
     "output_type": "execute_result"
    }
   ],
   "source": [
    "# Select the most frequent topic\n",
    "topic_model.get_topic(0)"
   ]
  },
  {
   "cell_type": "markdown",
   "metadata": {},
   "source": [
    "**NOTE**: BERTopic is stochastic which means that the topics might differ across runs. This is mostly due to the stocastisch nature of UMAP."
   ]
  },
  {
   "cell_type": "markdown",
   "metadata": {},
   "source": [
    "### Visualizations <a class=anchor id=section_5_2_2></a>"
   ]
  },
  {
   "cell_type": "code",
   "execution_count": 51,
   "metadata": {},
   "outputs": [
    {
     "data": {
      "text/html": [
       "<iframe\n",
       "    scrolling=\"no\"\n",
       "    width=\"670px\"\n",
       "    height=\"670\"\n",
       "    src=\"iframe_figures/figure_51.html\"\n",
       "    frameborder=\"0\"\n",
       "    allowfullscreen\n",
       "></iframe>\n"
      ]
     },
     "metadata": {},
     "output_type": "display_data"
    }
   ],
   "source": [
    "topic_model.visualize_topics()"
   ]
  },
  {
   "cell_type": "code",
   "execution_count": 52,
   "metadata": {},
   "outputs": [
    {
     "data": {
      "text/html": [
       "<iframe\n",
       "    scrolling=\"no\"\n",
       "    width=\"1220px\"\n",
       "    height=\"770\"\n",
       "    src=\"iframe_figures/figure_52.html\"\n",
       "    frameborder=\"0\"\n",
       "    allowfullscreen\n",
       "></iframe>\n"
      ]
     },
     "metadata": {},
     "output_type": "display_data"
    }
   ],
   "source": [
    "topic_model.visualize_documents(docs, reduced_embeddings=embeddings)"
   ]
  },
  {
   "cell_type": "markdown",
   "metadata": {},
   "source": [
    "We can visualize the selected terms for a few topics by creating bar charts out of the c-TF-IDF scores for each topic representation. Insights can be gained from the relative c-TF-IDF scores between and within topics. Moreover, you can easily compare topic representations to each other."
   ]
  },
  {
   "cell_type": "code",
   "execution_count": 53,
   "metadata": {},
   "outputs": [
    {
     "data": {
      "text/html": [
       "<iframe\n",
       "    scrolling=\"no\"\n",
       "    width=\"1020px\"\n",
       "    height=\"345.0\"\n",
       "    src=\"iframe_figures/figure_53.html\"\n",
       "    frameborder=\"0\"\n",
       "    allowfullscreen\n",
       "></iframe>\n"
      ]
     },
     "metadata": {},
     "output_type": "display_data"
    }
   ],
   "source": [
    "topic_model.visualize_barchart(top_n_topics=6)"
   ]
  },
  {
   "cell_type": "markdown",
   "metadata": {},
   "source": [
    "The topics that were created can be hierarchically reduced. In order to understand the potential hierarchical structure of the topics, we create clusters and visualize how they relate to one another."
   ]
  },
  {
   "cell_type": "code",
   "execution_count": 54,
   "metadata": {},
   "outputs": [
    {
     "data": {
      "text/html": [
       "<iframe\n",
       "    scrolling=\"no\"\n",
       "    width=\"1020px\"\n",
       "    height=\"280\"\n",
       "    src=\"iframe_figures/figure_54.html\"\n",
       "    frameborder=\"0\"\n",
       "    allowfullscreen\n",
       "></iframe>\n"
      ]
     },
     "metadata": {},
     "output_type": "display_data"
    }
   ],
   "source": [
    "topic_model.visualize_hierarchy(hierarchical_topics=hierarchical_topics, top_n_topics=50)"
   ]
  },
  {
   "cell_type": "markdown",
   "metadata": {},
   "source": [
    "Having generated topic embeddings, through both c-TF-IDF and embeddings, we can create a similarity matrix by simply applying cosine similarities through those topic embeddings. The result will be a matrix indicating how similar certain topics are to each other."
   ]
  },
  {
   "cell_type": "code",
   "execution_count": 55,
   "metadata": {},
   "outputs": [
    {
     "data": {
      "text/html": [
       "<iframe\n",
       "    scrolling=\"no\"\n",
       "    width=\"1020px\"\n",
       "    height=\"1020\"\n",
       "    src=\"iframe_figures/figure_55.html\"\n",
       "    frameborder=\"0\"\n",
       "    allowfullscreen\n",
       "></iframe>\n"
      ]
     },
     "metadata": {},
     "output_type": "display_data"
    }
   ],
   "source": [
    "topic_model.visualize_heatmap(width=1000, height=1000)"
   ]
  },
  {
   "cell_type": "markdown",
   "metadata": {},
   "source": [
    "Topics are represented by a number of words starting with the best representative word. Each word is represented by a c-TF-IDF score. The higher the score, the more representative a word to the topic is. Since the topic words are sorted by their c-TF-IDF score, the scores slowly decline with each word that is added. At some point adding words to the topic representation only marginally increases the total c-TF-IDF score and would not be beneficial for its representation.\n",
    "\n",
    "To visualize this effect, we can plot the c-TF-IDF scores for each topic by the term rank of each word. In other words, the position of the words (term rank), where the words with the highest c-TF-IDF score will have a rank of 1, will be put on the x-axis. Whereas the y-axis will be populated by the c-TF-IDF scores. The result is a visualization that shows you the decline of c-TF-IDF score when adding words to the topic representation. It allows you, using the elbow method, to select the best number of words in a topic."
   ]
  },
  {
   "cell_type": "code",
   "execution_count": 56,
   "metadata": {},
   "outputs": [
    {
     "data": {
      "text/html": [
       "<iframe\n",
       "    scrolling=\"no\"\n",
       "    width=\"820px\"\n",
       "    height=\"520\"\n",
       "    src=\"iframe_figures/figure_56.html\"\n",
       "    frameborder=\"0\"\n",
       "    allowfullscreen\n",
       "></iframe>\n"
      ]
     },
     "metadata": {},
     "output_type": "display_data"
    }
   ],
   "source": [
    "topic_model.visualize_term_rank()"
   ]
  },
  {
   "cell_type": "markdown",
   "metadata": {},
   "source": [
    "# 1980-1989 <a class=anchor id=section6></a>"
   ]
  },
  {
   "cell_type": "markdown",
   "metadata": {},
   "source": [
    "## Topic Modeling <a class=anchor id=section_6_1></a>"
   ]
  },
  {
   "cell_type": "code",
   "execution_count": 57,
   "metadata": {},
   "outputs": [],
   "source": [
    "!mkdir BERT/1980-1989/"
   ]
  },
  {
   "cell_type": "code",
   "execution_count": 58,
   "metadata": {},
   "outputs": [],
   "source": [
    "# parameters\n",
    "source = 'CLEANSED/1980-1989'\n",
    "output = 'BERT/'+source.split(\"/\")[1]+\"/\"\n",
    "start, limit, step = 10, 100, 10\n",
    "topic_models = []\n",
    "coherences = []\n",
    "topics = []\n",
    "probs = []"
   ]
  },
  {
   "cell_type": "code",
   "execution_count": 59,
   "metadata": {},
   "outputs": [
    {
     "name": "stderr",
     "output_type": "stream",
     "text": [
      "100%|██████████| 1753/1753 [00:00<00:00, 53823.91docs/s]\n"
     ]
    },
    {
     "name": "stdout",
     "output_type": "stream",
     "text": [
      "Number of input files: 1771\n",
      "Number of selected files: 1753\n",
      "Number of output files: 1753\n"
     ]
    },
    {
     "data": {
      "application/vnd.jupyter.widget-view+json": {
       "model_id": "8a7b51ffca2a4c048e61b3a92de2ef66",
       "version_major": 2,
       "version_minor": 0
      },
      "text/plain": [
       "HBox(children=(FloatProgress(value=0.0, description='Batches', max=55.0, style=ProgressStyle(description_width…"
      ]
     },
     "metadata": {},
     "output_type": "display_data"
    },
    {
     "name": "stdout",
     "output_type": "stream",
     "text": [
      "\n"
     ]
    }
   ],
   "source": [
    "# Create embeddings\n",
    "docs = pre_process(source)\n",
    "embeddings = sentence_model.encode(docs, show_progress_bar=True)"
   ]
  },
  {
   "cell_type": "code",
   "execution_count": 60,
   "metadata": {},
   "outputs": [
    {
     "name": "stderr",
     "output_type": "stream",
     "text": [
      "2022-08-11 14:56:13,536 - BERTopic - Reduced dimensionality\n",
      "2022-08-11 14:56:13,770 - BERTopic - Clustered reduced embeddings\n",
      "2022-08-11 14:56:55,247 - BERTopic - Reduced number of topics from 45 to 36\n",
      "2022-08-11 14:57:24,946 - BERTopic - Reduced dimensionality\n",
      "2022-08-11 14:57:25,091 - BERTopic - Clustered reduced embeddings\n",
      "2022-08-11 14:58:06,013 - BERTopic - Reduced number of topics from 24 to 24\n",
      "2022-08-11 14:58:34,916 - BERTopic - Reduced dimensionality\n",
      "2022-08-11 14:58:35,048 - BERTopic - Clustered reduced embeddings\n",
      "2022-08-11 14:59:15,950 - BERTopic - Reduced number of topics from 17 to 15\n",
      "2022-08-11 14:59:44,391 - BERTopic - Reduced dimensionality\n",
      "2022-08-11 14:59:44,492 - BERTopic - Clustered reduced embeddings\n",
      "2022-08-11 15:00:25,208 - BERTopic - Reduced number of topics from 2 to 2\n",
      "2022-08-11 15:00:50,524 - BERTopic - Reduced dimensionality\n",
      "2022-08-11 15:00:50,625 - BERTopic - Clustered reduced embeddings\n",
      "2022-08-11 15:01:31,468 - BERTopic - Reduced number of topics from 3 to 3\n",
      "2022-08-11 15:01:57,124 - BERTopic - Reduced dimensionality\n",
      "2022-08-11 15:01:57,230 - BERTopic - Clustered reduced embeddings\n",
      "2022-08-11 15:02:38,031 - BERTopic - Reduced number of topics from 2 to 2\n",
      "2022-08-11 15:03:03,413 - BERTopic - Reduced dimensionality\n",
      "2022-08-11 15:03:03,528 - BERTopic - Clustered reduced embeddings\n",
      "2022-08-11 15:03:44,382 - BERTopic - Reduced number of topics from 3 to 3\n",
      "2022-08-11 15:04:10,492 - BERTopic - Reduced dimensionality\n",
      "2022-08-11 15:04:10,607 - BERTopic - Clustered reduced embeddings\n",
      "2022-08-11 15:04:51,639 - BERTopic - Reduced number of topics from 2 to 2\n",
      "2022-08-11 15:05:17,094 - BERTopic - Reduced dimensionality\n",
      "2022-08-11 15:05:17,213 - BERTopic - Clustered reduced embeddings\n",
      "2022-08-11 15:05:58,302 - BERTopic - Reduced number of topics from 3 to 3\n"
     ]
    }
   ],
   "source": [
    "# Create topic model\n",
    "for i in range(start, limit, step):\n",
    "    topic_model, topic, prob, coherence = training(docs, embeddings, i)\n",
    "    topic_models.append(topic_model)\n",
    "    topics.append(topic)\n",
    "    probs.append(prob)\n",
    "    coherences.append(coherence)"
   ]
  },
  {
   "cell_type": "markdown",
   "metadata": {},
   "source": [
    "### Check Coherence <a class=anchor id=section_6_1_1></a>"
   ]
  },
  {
   "cell_type": "code",
   "execution_count": 61,
   "metadata": {},
   "outputs": [
    {
     "data": {
      "image/png": "[encoded data removed]",
      "text/plain": [
       "<Figure size 640x480 with 1 Axes>"
      ]
     },
     "metadata": {},
     "output_type": "display_data"
    },
    {
     "name": "stdout",
     "output_type": "stream",
     "text": [
      "A maximum c_npmi score of 0.14789910722984756 was achieved at K=2\n"
     ]
    }
   ],
   "source": [
    "model_index = draw_graph(start, limit, step, coherences, source.split(\"/\")[1])"
   ]
  },
  {
   "cell_type": "markdown",
   "metadata": {},
   "source": [
    "> Hence, we select the model with the highest coherence value."
   ]
  },
  {
   "cell_type": "markdown",
   "metadata": {},
   "source": [
    "### Save Final Model <a class=anchor id=section_6_1_2></a>"
   ]
  },
  {
   "cell_type": "code",
   "execution_count": 62,
   "metadata": {},
   "outputs": [
    {
     "name": "stderr",
     "output_type": "stream",
     "text": [
      "100%|██████████| 22/22 [00:00<00:00, 165.53it/s]\n"
     ]
    }
   ],
   "source": [
    "topic_model, topic, prob, coherence = topic_models[model_index], topics[model_index], probs[model_index], coherences[model_index]\n",
    "hierarchical_topics = topic_model.hierarchical_topics(docs, topic)"
   ]
  },
  {
   "cell_type": "code",
   "execution_count": 63,
   "metadata": {},
   "outputs": [],
   "source": [
    "topic_model.save(output+\"bert\")\n",
    "with open(output+'hierarchical_topics.pkl', 'wb') as f:\n",
    "    pickle.dump(hierarchical_topics, f)\n",
    "with open(output+'docs.pkl', 'wb') as f:\n",
    "    pickle.dump(docs, f)"
   ]
  },
  {
   "cell_type": "markdown",
   "metadata": {},
   "source": [
    "## Explore Model <a class=anchor id=section_6_2></a>"
   ]
  },
  {
   "cell_type": "code",
   "execution_count": 64,
   "metadata": {},
   "outputs": [],
   "source": [
    "topic_model = BERTopic.load(output+\"bert\")\n",
    "with open(output+'hierarchical_topics.pkl', 'rb') as f:\n",
    "    hierarchical_topics = pickle.load(f)\n",
    "with open(output+'docs.pkl', 'rb') as f:\n",
    "    docs = pickle.load(f)"
   ]
  },
  {
   "cell_type": "markdown",
   "metadata": {},
   "source": [
    "### Extracting Topics <a class=anchor id=section_6_2_1></a>\n",
    "\n",
    "After fitting our model, we can start by looking at the results. Typically, we look at the most frequent topics first as they best represent the collection of documents. "
   ]
  },
  {
   "cell_type": "code",
   "execution_count": 65,
   "metadata": {},
   "outputs": [
    {
     "data": {
      "text/html": [
       "<div>\n",
       "<style scoped>\n",
       "    .dataframe tbody tr th:only-of-type {\n",
       "        vertical-align: middle;\n",
       "    }\n",
       "\n",
       "    .dataframe tbody tr th {\n",
       "        vertical-align: top;\n",
       "    }\n",
       "\n",
       "    .dataframe thead th {\n",
       "        text-align: right;\n",
       "    }\n",
       "</style>\n",
       "<table border=\"1\" class=\"dataframe\">\n",
       "  <thead>\n",
       "    <tr style=\"text-align: right;\">\n",
       "      <th></th>\n",
       "      <th>Topic</th>\n",
       "      <th>Count</th>\n",
       "      <th>Name</th>\n",
       "    </tr>\n",
       "  </thead>\n",
       "  <tbody>\n",
       "    <tr>\n",
       "      <th>0</th>\n",
       "      <td>-1</td>\n",
       "      <td>574</td>\n",
       "      <td>-1_company_said_year_percent</td>\n",
       "    </tr>\n",
       "    <tr>\n",
       "      <th>1</th>\n",
       "      <td>0</td>\n",
       "      <td>135</td>\n",
       "      <td>0_robot_technology_said_computer</td>\n",
       "    </tr>\n",
       "    <tr>\n",
       "      <th>2</th>\n",
       "      <td>1</td>\n",
       "      <td>89</td>\n",
       "      <td>1_corp_share_said_million</td>\n",
       "    </tr>\n",
       "    <tr>\n",
       "      <th>3</th>\n",
       "      <td>2</td>\n",
       "      <td>83</td>\n",
       "      <td>2_percent_rate_american_trade</td>\n",
       "    </tr>\n",
       "    <tr>\n",
       "      <th>4</th>\n",
       "      <td>3</td>\n",
       "      <td>73</td>\n",
       "      <td>3_company_said_sperry_year</td>\n",
       "    </tr>\n",
       "  </tbody>\n",
       "</table>\n",
       "</div>"
      ],
      "text/plain": [
       "   Topic  Count                              Name\n",
       "0     -1    574      -1_company_said_year_percent\n",
       "1      0    135  0_robot_technology_said_computer\n",
       "2      1     89         1_corp_share_said_million\n",
       "3      2     83     2_percent_rate_american_trade\n",
       "4      3     73        3_company_said_sperry_year"
      ]
     },
     "execution_count": 65,
     "metadata": {},
     "output_type": "execute_result"
    }
   ],
   "source": [
    "freq = topic_model.get_topic_info()\n",
    "freq.head(5)"
   ]
  },
  {
   "cell_type": "markdown",
   "metadata": {},
   "source": [
    "> -1 refers to all outliers and should typically be ignored.\n",
    "\n",
    "Next, let's take a look at a frequent topic that were generated:"
   ]
  },
  {
   "cell_type": "code",
   "execution_count": 66,
   "metadata": {},
   "outputs": [
    {
     "data": {
      "text/plain": [
       "[('robot', 0.03493211395810116),\n",
       " ('technology', 0.020912296671274807),\n",
       " ('said', 0.019525142647548205),\n",
       " ('computer', 0.017130758482378734),\n",
       " ('manufacturing', 0.016750894959091482),\n",
       " ('company', 0.016611299517841467),\n",
       " ('work', 0.016300209506298055),\n",
       " ('industry', 0.016053546477902178),\n",
       " ('worker', 0.015321846720960751),\n",
       " ('job', 0.015306741150885126)]"
      ]
     },
     "execution_count": 66,
     "metadata": {},
     "output_type": "execute_result"
    }
   ],
   "source": [
    "# Select the most frequent topic\n",
    "topic_model.get_topic(0)"
   ]
  },
  {
   "cell_type": "markdown",
   "metadata": {},
   "source": [
    "**NOTE**: BERTopic is stochastic which means that the topics might differ across runs. This is mostly due to the stocastisch nature of UMAP."
   ]
  },
  {
   "cell_type": "markdown",
   "metadata": {},
   "source": [
    "### Visualizations <a class=anchor id=section_6_2_2></a>"
   ]
  },
  {
   "cell_type": "code",
   "execution_count": 67,
   "metadata": {},
   "outputs": [
    {
     "data": {
      "text/html": [
       "<iframe\n",
       "    scrolling=\"no\"\n",
       "    width=\"670px\"\n",
       "    height=\"670\"\n",
       "    src=\"iframe_figures/figure_67.html\"\n",
       "    frameborder=\"0\"\n",
       "    allowfullscreen\n",
       "></iframe>\n"
      ]
     },
     "metadata": {},
     "output_type": "display_data"
    }
   ],
   "source": [
    "topic_model.visualize_topics()"
   ]
  },
  {
   "cell_type": "code",
   "execution_count": 68,
   "metadata": {},
   "outputs": [
    {
     "data": {
      "text/html": [
       "<iframe\n",
       "    scrolling=\"no\"\n",
       "    width=\"1220px\"\n",
       "    height=\"770\"\n",
       "    src=\"iframe_figures/figure_68.html\"\n",
       "    frameborder=\"0\"\n",
       "    allowfullscreen\n",
       "></iframe>\n"
      ]
     },
     "metadata": {},
     "output_type": "display_data"
    }
   ],
   "source": [
    "topic_model.visualize_documents(docs, reduced_embeddings=embeddings)"
   ]
  },
  {
   "cell_type": "markdown",
   "metadata": {},
   "source": [
    "We can visualize the selected terms for a few topics by creating bar charts out of the c-TF-IDF scores for each topic representation. Insights can be gained from the relative c-TF-IDF scores between and within topics. Moreover, you can easily compare topic representations to each other."
   ]
  },
  {
   "cell_type": "code",
   "execution_count": 69,
   "metadata": {},
   "outputs": [
    {
     "data": {
      "text/html": [
       "<iframe\n",
       "    scrolling=\"no\"\n",
       "    width=\"1020px\"\n",
       "    height=\"520\"\n",
       "    src=\"iframe_figures/figure_69.html\"\n",
       "    frameborder=\"0\"\n",
       "    allowfullscreen\n",
       "></iframe>\n"
      ]
     },
     "metadata": {},
     "output_type": "display_data"
    }
   ],
   "source": [
    "topic_model.visualize_barchart(top_n_topics=6)"
   ]
  },
  {
   "cell_type": "markdown",
   "metadata": {},
   "source": [
    "The topics that were created can be hierarchically reduced. In order to understand the potential hierarchical structure of the topics, we create clusters and visualize how they relate to one another."
   ]
  },
  {
   "cell_type": "code",
   "execution_count": 70,
   "metadata": {},
   "outputs": [
    {
     "data": {
      "text/html": [
       "<iframe\n",
       "    scrolling=\"no\"\n",
       "    width=\"1020px\"\n",
       "    height=\"565\"\n",
       "    src=\"iframe_figures/figure_70.html\"\n",
       "    frameborder=\"0\"\n",
       "    allowfullscreen\n",
       "></iframe>\n"
      ]
     },
     "metadata": {},
     "output_type": "display_data"
    }
   ],
   "source": [
    "topic_model.visualize_hierarchy(hierarchical_topics=hierarchical_topics, top_n_topics=50)"
   ]
  },
  {
   "cell_type": "markdown",
   "metadata": {},
   "source": [
    "Having generated topic embeddings, through both c-TF-IDF and embeddings, we can create a similarity matrix by simply applying cosine similarities through those topic embeddings. The result will be a matrix indicating how similar certain topics are to each other."
   ]
  },
  {
   "cell_type": "code",
   "execution_count": 71,
   "metadata": {},
   "outputs": [
    {
     "data": {
      "text/html": [
       "<iframe\n",
       "    scrolling=\"no\"\n",
       "    width=\"1020px\"\n",
       "    height=\"1020\"\n",
       "    src=\"iframe_figures/figure_71.html\"\n",
       "    frameborder=\"0\"\n",
       "    allowfullscreen\n",
       "></iframe>\n"
      ]
     },
     "metadata": {},
     "output_type": "display_data"
    }
   ],
   "source": [
    "topic_model.visualize_heatmap(width=1000, height=1000)"
   ]
  },
  {
   "cell_type": "markdown",
   "metadata": {},
   "source": [
    "Topics are represented by a number of words starting with the best representative word. Each word is represented by a c-TF-IDF score. The higher the score, the more representative a word to the topic is. Since the topic words are sorted by their c-TF-IDF score, the scores slowly decline with each word that is added. At some point adding words to the topic representation only marginally increases the total c-TF-IDF score and would not be beneficial for its representation.\n",
    "\n",
    "To visualize this effect, we can plot the c-TF-IDF scores for each topic by the term rank of each word. In other words, the position of the words (term rank), where the words with the highest c-TF-IDF score will have a rank of 1, will be put on the x-axis. Whereas the y-axis will be populated by the c-TF-IDF scores. The result is a visualization that shows you the decline of c-TF-IDF score when adding words to the topic representation. It allows you, using the elbow method, to select the best number of words in a topic."
   ]
  },
  {
   "cell_type": "code",
   "execution_count": 72,
   "metadata": {},
   "outputs": [
    {
     "data": {
      "text/html": [
       "<iframe\n",
       "    scrolling=\"no\"\n",
       "    width=\"820px\"\n",
       "    height=\"520\"\n",
       "    src=\"iframe_figures/figure_72.html\"\n",
       "    frameborder=\"0\"\n",
       "    allowfullscreen\n",
       "></iframe>\n"
      ]
     },
     "metadata": {},
     "output_type": "display_data"
    }
   ],
   "source": [
    "topic_model.visualize_term_rank()"
   ]
  },
  {
   "cell_type": "markdown",
   "metadata": {},
   "source": [
    "# 1990-1999 <a class=anchor id=section7></a>"
   ]
  },
  {
   "cell_type": "markdown",
   "metadata": {},
   "source": [
    "## Topic Modeling <a class=anchor id=section_7_1></a>"
   ]
  },
  {
   "cell_type": "code",
   "execution_count": 9,
   "metadata": {},
   "outputs": [],
   "source": [
    "!mkdir BERT/1990-1999/"
   ]
  },
  {
   "cell_type": "code",
   "execution_count": 9,
   "metadata": {},
   "outputs": [],
   "source": [
    "# parameters\n",
    "source = 'CLEANSED/1990-1999'\n",
    "output = 'BERT/'+source.split(\"/\")[1]+\"/\"\n",
    "start, limit, step = 10, 100, 10\n",
    "topic_models = []\n",
    "coherences = []\n",
    "topics = []\n",
    "probs = []"
   ]
  },
  {
   "cell_type": "code",
   "execution_count": 10,
   "metadata": {},
   "outputs": [
    {
     "name": "stderr",
     "output_type": "stream",
     "text": [
      "100%|██████████| 1368/1368 [00:00<00:00, 50834.19docs/s]\n"
     ]
    },
    {
     "name": "stdout",
     "output_type": "stream",
     "text": [
      "Number of input files: 1520\n",
      "Number of selected files: 1368\n",
      "Number of output files: 1368\n"
     ]
    },
    {
     "data": {
      "application/vnd.jupyter.widget-view+json": {
       "model_id": "74bf2426a2e44aa29a3e4d93b33c659c",
       "version_major": 2,
       "version_minor": 0
      },
      "text/plain": [
       "HBox(children=(FloatProgress(value=0.0, description='Batches', max=43.0, style=ProgressStyle(description_width…"
      ]
     },
     "metadata": {},
     "output_type": "display_data"
    },
    {
     "name": "stdout",
     "output_type": "stream",
     "text": [
      "\n"
     ]
    }
   ],
   "source": [
    "# Create embeddings\n",
    "docs = pre_process(source)\n",
    "embeddings = sentence_model.encode(docs, show_progress_bar=True)"
   ]
  },
  {
   "cell_type": "code",
   "execution_count": 11,
   "metadata": {},
   "outputs": [
    {
     "name": "stderr",
     "output_type": "stream",
     "text": [
      "2022-08-11 17:43:43,425 - BERTopic - Reduced dimensionality\n",
      "2022-08-11 17:43:43,585 - BERTopic - Clustered reduced embeddings\n",
      "2022-08-11 17:44:20,144 - BERTopic - Reduced number of topics from 38 to 30\n",
      "2022-08-11 17:44:43,661 - BERTopic - Reduced dimensionality\n",
      "2022-08-11 17:44:43,760 - BERTopic - Clustered reduced embeddings\n",
      "2022-08-11 17:45:18,507 - BERTopic - Reduced number of topics from 18 to 18\n",
      "2022-08-11 17:45:41,402 - BERTopic - Reduced dimensionality\n",
      "2022-08-11 17:45:41,478 - BERTopic - Clustered reduced embeddings\n",
      "2022-08-11 17:46:15,968 - BERTopic - Reduced number of topics from 3 to 3\n",
      "2022-08-11 17:46:36,484 - BERTopic - Reduced dimensionality\n",
      "2022-08-11 17:46:36,563 - BERTopic - Clustered reduced embeddings\n",
      "2022-08-11 17:47:11,218 - BERTopic - Reduced number of topics from 3 to 3\n",
      "2022-08-11 17:47:31,660 - BERTopic - Reduced dimensionality\n",
      "2022-08-11 17:47:31,739 - BERTopic - Clustered reduced embeddings\n",
      "2022-08-11 17:48:06,605 - BERTopic - Reduced number of topics from 3 to 3\n",
      "2022-08-11 17:48:27,225 - BERTopic - Reduced dimensionality\n",
      "2022-08-11 17:48:27,306 - BERTopic - Clustered reduced embeddings\n",
      "2022-08-11 17:49:02,414 - BERTopic - Reduced number of topics from 3 to 3\n",
      "2022-08-11 17:49:23,482 - BERTopic - Reduced dimensionality\n",
      "2022-08-11 17:49:23,565 - BERTopic - Clustered reduced embeddings\n",
      "2022-08-11 17:49:58,442 - BERTopic - Reduced number of topics from 3 to 3\n",
      "2022-08-11 17:50:19,306 - BERTopic - Reduced dimensionality\n",
      "2022-08-11 17:50:19,394 - BERTopic - Clustered reduced embeddings\n",
      "2022-08-11 17:50:54,464 - BERTopic - Reduced number of topics from 3 to 3\n",
      "2022-08-11 17:51:15,282 - BERTopic - Reduced dimensionality\n",
      "2022-08-11 17:51:15,382 - BERTopic - Clustered reduced embeddings\n",
      "2022-08-11 17:51:50,374 - BERTopic - Reduced number of topics from 3 to 3\n"
     ]
    }
   ],
   "source": [
    "# Create topic model\n",
    "for i in range(start, limit, step):\n",
    "    topic_model, topic, prob, coherence = training(docs, embeddings, i)\n",
    "    topic_models.append(topic_model)\n",
    "    topics.append(topic)\n",
    "    probs.append(prob)\n",
    "    coherences.append(coherence)"
   ]
  },
  {
   "cell_type": "code",
   "execution_count": 15,
   "metadata": {},
   "outputs": [
    {
     "data": {
      "text/plain": [
       "[[('said', 0.048171085607054),\n",
       "  ('company', 0.027623197442618954),\n",
       "  ('year', 0.02679274852708939),\n",
       "  ('computer', 0.01958909101065196),\n",
       "  ('million', 0.018515317464029596),\n",
       "  ('like', 0.017645453015140918),\n",
       "  ('time', 0.017580825636998053),\n",
       "  ('people', 0.015892520283396452),\n",
       "  ('york', 0.01578072797232747),\n",
       "  ('state', 0.015260476682421498)],\n",
       " [('company', 0.05660602623790258),\n",
       "  ('said', 0.04400289927878325),\n",
       "  ('million', 0.03917176710557154),\n",
       "  ('computer', 0.03740951392983023),\n",
       "  ('software', 0.026458212104066684),\n",
       "  ('share', 0.026249292730493975),\n",
       "  ('business', 0.024831970988136325),\n",
       "  ('year', 0.02320648690495712),\n",
       "  ('product', 0.022886438199111875),\n",
       "  ('automation', 0.022797397369419454)],\n",
       " [('worker', 0.04780190990174526),\n",
       "  ('said', 0.04111000503420654),\n",
       "  ('company', 0.034381833984917065),\n",
       "  ('year', 0.031011747325280822),\n",
       "  ('job', 0.030171526296521672),\n",
       "  ('percent', 0.029103240366794292),\n",
       "  ('american', 0.026412814764298926),\n",
       "  ('work', 0.02618392644160412),\n",
       "  ('labor', 0.02570228041810449),\n",
       "  ('people', 0.021810029476360716)]]"
      ]
     },
     "execution_count": 15,
     "metadata": {},
     "output_type": "execute_result"
    }
   ],
   "source": [
    "topic_ids = topic_model.get_topic_info().Topic.unique().tolist()\n",
    "[topic_model.get_topic(topic) for topic in topic_ids]"
   ]
  },
  {
   "cell_type": "markdown",
   "metadata": {},
   "source": [
    "### Check Coherence <a class=anchor id=section_7_1_1></a>"
   ]
  },
  {
   "cell_type": "code",
   "execution_count": 14,
   "metadata": {},
   "outputs": [
    {
     "data": {
      "image/png": "[encoded data removed]",
      "text/plain": [
       "<Figure size 640x480 with 1 Axes>"
      ]
     },
     "metadata": {},
     "output_type": "display_data"
    },
    {
     "name": "stdout",
     "output_type": "stream",
     "text": [
      "A maximum c_npmi score of 0.11649510416038932 was achieved at K=2\n"
     ]
    }
   ],
   "source": [
    "model_index = draw_graph(start, limit, step, coherences, source.split(\"/\")[1])"
   ]
  },
  {
   "cell_type": "markdown",
   "metadata": {},
   "source": [
    "> Hence, we select the model with the highest coherence value."
   ]
  },
  {
   "cell_type": "markdown",
   "metadata": {},
   "source": [
    "### Save Final Model <a class=anchor id=section_7_1_2></a>"
   ]
  },
  {
   "cell_type": "code",
   "execution_count": 16,
   "metadata": {},
   "outputs": [
    {
     "name": "stderr",
     "output_type": "stream",
     "text": [
      "100%|██████████| 16/16 [00:00<00:00, 155.78it/s]\n"
     ]
    }
   ],
   "source": [
    "topic_model, topic, prob, coherence = topic_models[model_index], topics[model_index], probs[model_index], coherences[model_index]\n",
    "hierarchical_topics = topic_model.hierarchical_topics(docs, topic)"
   ]
  },
  {
   "cell_type": "code",
   "execution_count": 18,
   "metadata": {},
   "outputs": [],
   "source": [
    "topic_model.save(output+\"bert\")\n",
    "with open(output+'hierarchical_topics.pkl', 'wb') as f:\n",
    "    pickle.dump(hierarchical_topics, f)\n",
    "with open(output+'docs.pkl', 'wb') as f:\n",
    "    pickle.dump(docs, f)"
   ]
  },
  {
   "cell_type": "markdown",
   "metadata": {},
   "source": [
    "## Explore Model <a class=anchor id=section_7_2></a>"
   ]
  },
  {
   "cell_type": "code",
   "execution_count": 19,
   "metadata": {},
   "outputs": [],
   "source": [
    "topic_model = BERTopic.load(output+\"bert\")\n",
    "with open(output+'hierarchical_topics.pkl', 'rb') as f:\n",
    "    hierarchical_topics = pickle.load(f)\n",
    "with open(output+'docs.pkl', 'rb') as f:\n",
    "    docs = pickle.load(f)"
   ]
  },
  {
   "cell_type": "markdown",
   "metadata": {},
   "source": [
    "### Extracting Topics <a class=anchor id=section_7_2_1></a>\n",
    "\n",
    "After fitting our model, we can start by looking at the results. Typically, we look at the most frequent topics first as they best represent the collection of documents. "
   ]
  },
  {
   "cell_type": "code",
   "execution_count": 20,
   "metadata": {},
   "outputs": [
    {
     "data": {
      "text/html": [
       "<div>\n",
       "<style scoped>\n",
       "    .dataframe tbody tr th:only-of-type {\n",
       "        vertical-align: middle;\n",
       "    }\n",
       "\n",
       "    .dataframe tbody tr th {\n",
       "        vertical-align: top;\n",
       "    }\n",
       "\n",
       "    .dataframe thead th {\n",
       "        text-align: right;\n",
       "    }\n",
       "</style>\n",
       "<table border=\"1\" class=\"dataframe\">\n",
       "  <thead>\n",
       "    <tr style=\"text-align: right;\">\n",
       "      <th></th>\n",
       "      <th>Topic</th>\n",
       "      <th>Count</th>\n",
       "      <th>Name</th>\n",
       "    </tr>\n",
       "  </thead>\n",
       "  <tbody>\n",
       "    <tr>\n",
       "      <th>0</th>\n",
       "      <td>-1</td>\n",
       "      <td>510</td>\n",
       "      <td>-1_said_company_year_computer</td>\n",
       "    </tr>\n",
       "    <tr>\n",
       "      <th>1</th>\n",
       "      <td>0</td>\n",
       "      <td>131</td>\n",
       "      <td>0_million_share_corp_company</td>\n",
       "    </tr>\n",
       "    <tr>\n",
       "      <th>2</th>\n",
       "      <td>1</td>\n",
       "      <td>80</td>\n",
       "      <td>1_rockwell_company_business_software</td>\n",
       "    </tr>\n",
       "    <tr>\n",
       "      <th>3</th>\n",
       "      <td>2</td>\n",
       "      <td>79</td>\n",
       "      <td>2_worker_job_said_percent</td>\n",
       "    </tr>\n",
       "    <tr>\n",
       "      <th>4</th>\n",
       "      <td>3</td>\n",
       "      <td>73</td>\n",
       "      <td>3_city_said_building_brooklyn</td>\n",
       "    </tr>\n",
       "  </tbody>\n",
       "</table>\n",
       "</div>"
      ],
      "text/plain": [
       "   Topic  Count                                  Name\n",
       "0     -1    510         -1_said_company_year_computer\n",
       "1      0    131          0_million_share_corp_company\n",
       "2      1     80  1_rockwell_company_business_software\n",
       "3      2     79             2_worker_job_said_percent\n",
       "4      3     73         3_city_said_building_brooklyn"
      ]
     },
     "execution_count": 20,
     "metadata": {},
     "output_type": "execute_result"
    }
   ],
   "source": [
    "freq = topic_model.get_topic_info()\n",
    "freq.head(5)"
   ]
  },
  {
   "cell_type": "markdown",
   "metadata": {},
   "source": [
    "> -1 refers to all outliers and should typically be ignored.\n",
    "\n",
    "Next, let's take a look at a frequent topic that were generated:"
   ]
  },
  {
   "cell_type": "code",
   "execution_count": 21,
   "metadata": {},
   "outputs": [
    {
     "data": {
      "text/plain": [
       "[('million', 0.055715352392836315),\n",
       " ('share', 0.04661294174530772),\n",
       " ('corp', 0.04636238424162747),\n",
       " ('company', 0.04548053795105796),\n",
       " ('based', 0.03574370839894761),\n",
       " ('said', 0.03375998069500773),\n",
       " ('automation', 0.033626537367633005),\n",
       " ('unit', 0.032574557193199453),\n",
       " ('stock', 0.030267870245962593),\n",
       " ('yesterday', 0.028834345045392784)]"
      ]
     },
     "execution_count": 21,
     "metadata": {},
     "output_type": "execute_result"
    }
   ],
   "source": [
    "# Select the most frequent topic\n",
    "topic_model.get_topic(0)"
   ]
  },
  {
   "cell_type": "markdown",
   "metadata": {},
   "source": [
    "**NOTE**: BERTopic is stochastic which means that the topics might differ across runs. This is mostly due to the stocastisch nature of UMAP."
   ]
  },
  {
   "cell_type": "markdown",
   "metadata": {},
   "source": [
    "### Visualizations <a class=anchor id=section_7_2_2></a>"
   ]
  },
  {
   "cell_type": "code",
   "execution_count": 22,
   "metadata": {},
   "outputs": [
    {
     "data": {
      "text/html": [
       "<iframe\n",
       "    scrolling=\"no\"\n",
       "    width=\"670px\"\n",
       "    height=\"670\"\n",
       "    src=\"iframe_figures/figure_22.html\"\n",
       "    frameborder=\"0\"\n",
       "    allowfullscreen\n",
       "></iframe>\n"
      ]
     },
     "metadata": {},
     "output_type": "display_data"
    }
   ],
   "source": [
    "topic_model.visualize_topics()"
   ]
  },
  {
   "cell_type": "code",
   "execution_count": 23,
   "metadata": {},
   "outputs": [
    {
     "data": {
      "text/html": [
       "<iframe\n",
       "    scrolling=\"no\"\n",
       "    width=\"1220px\"\n",
       "    height=\"770\"\n",
       "    src=\"iframe_figures/figure_23.html\"\n",
       "    frameborder=\"0\"\n",
       "    allowfullscreen\n",
       "></iframe>\n"
      ]
     },
     "metadata": {},
     "output_type": "display_data"
    }
   ],
   "source": [
    "topic_model.visualize_documents(docs, reduced_embeddings=embeddings)"
   ]
  },
  {
   "cell_type": "markdown",
   "metadata": {},
   "source": [
    "We can visualize the selected terms for a few topics by creating bar charts out of the c-TF-IDF scores for each topic representation. Insights can be gained from the relative c-TF-IDF scores between and within topics. Moreover, you can easily compare topic representations to each other."
   ]
  },
  {
   "cell_type": "code",
   "execution_count": 24,
   "metadata": {},
   "outputs": [
    {
     "data": {
      "text/html": [
       "<iframe\n",
       "    scrolling=\"no\"\n",
       "    width=\"1020px\"\n",
       "    height=\"520\"\n",
       "    src=\"iframe_figures/figure_24.html\"\n",
       "    frameborder=\"0\"\n",
       "    allowfullscreen\n",
       "></iframe>\n"
      ]
     },
     "metadata": {},
     "output_type": "display_data"
    }
   ],
   "source": [
    "topic_model.visualize_barchart(top_n_topics=6)"
   ]
  },
  {
   "cell_type": "markdown",
   "metadata": {},
   "source": [
    "The topics that were created can be hierarchically reduced. In order to understand the potential hierarchical structure of the topics, we create clusters and visualize how they relate to one another."
   ]
  },
  {
   "cell_type": "code",
   "execution_count": 25,
   "metadata": {},
   "outputs": [
    {
     "data": {
      "text/html": [
       "<iframe\n",
       "    scrolling=\"no\"\n",
       "    width=\"1020px\"\n",
       "    height=\"475\"\n",
       "    src=\"iframe_figures/figure_25.html\"\n",
       "    frameborder=\"0\"\n",
       "    allowfullscreen\n",
       "></iframe>\n"
      ]
     },
     "metadata": {},
     "output_type": "display_data"
    }
   ],
   "source": [
    "topic_model.visualize_hierarchy(hierarchical_topics=hierarchical_topics, top_n_topics=50)"
   ]
  },
  {
   "cell_type": "markdown",
   "metadata": {},
   "source": [
    "Having generated topic embeddings, through both c-TF-IDF and embeddings, we can create a similarity matrix by simply applying cosine similarities through those topic embeddings. The result will be a matrix indicating how similar certain topics are to each other."
   ]
  },
  {
   "cell_type": "code",
   "execution_count": 26,
   "metadata": {},
   "outputs": [
    {
     "data": {
      "text/html": [
       "<iframe\n",
       "    scrolling=\"no\"\n",
       "    width=\"1020px\"\n",
       "    height=\"1020\"\n",
       "    src=\"iframe_figures/figure_26.html\"\n",
       "    frameborder=\"0\"\n",
       "    allowfullscreen\n",
       "></iframe>\n"
      ]
     },
     "metadata": {},
     "output_type": "display_data"
    }
   ],
   "source": [
    "topic_model.visualize_heatmap(width=1000, height=1000)"
   ]
  },
  {
   "cell_type": "markdown",
   "metadata": {},
   "source": [
    "Topics are represented by a number of words starting with the best representative word. Each word is represented by a c-TF-IDF score. The higher the score, the more representative a word to the topic is. Since the topic words are sorted by their c-TF-IDF score, the scores slowly decline with each word that is added. At some point adding words to the topic representation only marginally increases the total c-TF-IDF score and would not be beneficial for its representation.\n",
    "\n",
    "To visualize this effect, we can plot the c-TF-IDF scores for each topic by the term rank of each word. In other words, the position of the words (term rank), where the words with the highest c-TF-IDF score will have a rank of 1, will be put on the x-axis. Whereas the y-axis will be populated by the c-TF-IDF scores. The result is a visualization that shows you the decline of c-TF-IDF score when adding words to the topic representation. It allows you, using the elbow method, to select the best number of words in a topic."
   ]
  },
  {
   "cell_type": "code",
   "execution_count": 27,
   "metadata": {},
   "outputs": [
    {
     "data": {
      "text/html": [
       "<iframe\n",
       "    scrolling=\"no\"\n",
       "    width=\"820px\"\n",
       "    height=\"520\"\n",
       "    src=\"iframe_figures/figure_27.html\"\n",
       "    frameborder=\"0\"\n",
       "    allowfullscreen\n",
       "></iframe>\n"
      ]
     },
     "metadata": {},
     "output_type": "display_data"
    }
   ],
   "source": [
    "topic_model.visualize_term_rank()"
   ]
  },
  {
   "cell_type": "markdown",
   "metadata": {},
   "source": [
    "# 2000-2009 <a class=anchor id=section8></a>"
   ]
  },
  {
   "cell_type": "markdown",
   "metadata": {},
   "source": [
    "## Topic Modeling <a class=anchor id=section_8_1></a>"
   ]
  },
  {
   "cell_type": "code",
   "execution_count": 28,
   "metadata": {},
   "outputs": [],
   "source": [
    "!mkdir BERT/2000-2009/"
   ]
  },
  {
   "cell_type": "code",
   "execution_count": 29,
   "metadata": {},
   "outputs": [],
   "source": [
    "# parameters\n",
    "source = 'CLEANSED/2000-2009'\n",
    "output = 'BERT/'+source.split(\"/\")[1]+\"/\"\n",
    "start, limit, step = 10, 100, 10\n",
    "topic_models = []\n",
    "coherences = []\n",
    "topics = []\n",
    "probs = []"
   ]
  },
  {
   "cell_type": "code",
   "execution_count": 30,
   "metadata": {},
   "outputs": [
    {
     "name": "stderr",
     "output_type": "stream",
     "text": [
      "100%|██████████| 2009/2009 [00:00<00:00, 49641.85docs/s]\n"
     ]
    },
    {
     "name": "stdout",
     "output_type": "stream",
     "text": [
      "Number of input files: 2010\n",
      "Number of selected files: 2009\n",
      "Number of output files: 2009\n"
     ]
    },
    {
     "data": {
      "application/vnd.jupyter.widget-view+json": {
       "model_id": "2b2ac2e6c6bc4b718d8d1f3b871e1671",
       "version_major": 2,
       "version_minor": 0
      },
      "text/plain": [
       "HBox(children=(FloatProgress(value=0.0, description='Batches', max=63.0, style=ProgressStyle(description_width…"
      ]
     },
     "metadata": {},
     "output_type": "display_data"
    },
    {
     "name": "stdout",
     "output_type": "stream",
     "text": [
      "\n"
     ]
    }
   ],
   "source": [
    "# Create embeddings\n",
    "docs = pre_process(source)\n",
    "embeddings = sentence_model.encode(docs, show_progress_bar=True)"
   ]
  },
  {
   "cell_type": "code",
   "execution_count": 31,
   "metadata": {},
   "outputs": [
    {
     "name": "stderr",
     "output_type": "stream",
     "text": [
      "2022-08-11 17:55:43,115 - BERTopic - Reduced dimensionality\n",
      "2022-08-11 17:55:43,491 - BERTopic - Clustered reduced embeddings\n",
      "2022-08-11 17:56:36,414 - BERTopic - Reduced number of topics from 60 to 34\n",
      "2022-08-11 17:57:12,268 - BERTopic - Reduced dimensionality\n",
      "2022-08-11 17:57:12,438 - BERTopic - Clustered reduced embeddings\n",
      "2022-08-11 17:58:04,972 - BERTopic - Reduced number of topics from 26 to 23\n",
      "2022-08-11 17:58:40,274 - BERTopic - Reduced dimensionality\n",
      "2022-08-11 17:58:40,427 - BERTopic - Clustered reduced embeddings\n",
      "2022-08-11 17:59:32,711 - BERTopic - Reduced number of topics from 19 to 19\n",
      "2022-08-11 18:00:07,580 - BERTopic - Reduced dimensionality\n",
      "2022-08-11 18:00:07,722 - BERTopic - Clustered reduced embeddings\n",
      "2022-08-11 18:01:00,282 - BERTopic - Reduced number of topics from 15 to 15\n",
      "2022-08-11 18:01:34,968 - BERTopic - Reduced dimensionality\n",
      "2022-08-11 18:01:35,103 - BERTopic - Clustered reduced embeddings\n",
      "2022-08-11 18:02:27,611 - BERTopic - Reduced number of topics from 8 to 8\n",
      "2022-08-11 18:03:00,897 - BERTopic - Reduced dimensionality\n",
      "2022-08-11 18:03:01,024 - BERTopic - Clustered reduced embeddings\n",
      "2022-08-11 18:03:53,795 - BERTopic - Reduced number of topics from 5 to 5\n",
      "2022-08-11 18:04:26,802 - BERTopic - Reduced dimensionality\n",
      "2022-08-11 18:04:26,942 - BERTopic - Clustered reduced embeddings\n",
      "2022-08-11 18:05:19,281 - BERTopic - Reduced number of topics from 5 to 5\n",
      "2022-08-11 18:05:52,151 - BERTopic - Reduced dimensionality\n",
      "2022-08-11 18:05:52,294 - BERTopic - Clustered reduced embeddings\n",
      "2022-08-11 18:06:44,728 - BERTopic - Reduced number of topics from 4 to 4\n",
      "2022-08-11 18:07:17,383 - BERTopic - Reduced dimensionality\n",
      "2022-08-11 18:07:17,532 - BERTopic - Clustered reduced embeddings\n",
      "2022-08-11 18:08:10,213 - BERTopic - Reduced number of topics from 4 to 4\n"
     ]
    }
   ],
   "source": [
    "# Create topic model\n",
    "for i in range(start, limit, step):\n",
    "    topic_model, topic, prob, coherence = training(docs, embeddings, i)\n",
    "    topic_models.append(topic_model)\n",
    "    topics.append(topic)\n",
    "    probs.append(prob)\n",
    "    coherences.append(coherence)"
   ]
  },
  {
   "cell_type": "markdown",
   "metadata": {},
   "source": [
    "### Check Coherence <a class=anchor id=section_8_1_1></a>"
   ]
  },
  {
   "cell_type": "code",
   "execution_count": 32,
   "metadata": {},
   "outputs": [
    {
     "data": {
      "image/png": "[encoded data removed]",
      "text/plain": [
       "<Figure size 640x480 with 1 Axes>"
      ]
     },
     "metadata": {},
     "output_type": "display_data"
    },
    {
     "name": "stdout",
     "output_type": "stream",
     "text": [
      "A maximum c_npmi score of 0.12302337918030405 was achieved at K=2\n"
     ]
    }
   ],
   "source": [
    "model_index = draw_graph(start, limit, step, coherences, source.split(\"/\")[1])"
   ]
  },
  {
   "cell_type": "markdown",
   "metadata": {},
   "source": [
    "> Hence, we select the model with the highest coherence value."
   ]
  },
  {
   "cell_type": "markdown",
   "metadata": {},
   "source": [
    "### Save Final Model <a class=anchor id=section_8_1_2></a>"
   ]
  },
  {
   "cell_type": "code",
   "execution_count": 33,
   "metadata": {},
   "outputs": [
    {
     "name": "stderr",
     "output_type": "stream",
     "text": [
      "100%|██████████| 21/21 [00:00<00:00, 145.93it/s]\n"
     ]
    }
   ],
   "source": [
    "topic_model, topic, prob, coherence = topic_models[model_index], topics[model_index], probs[model_index], coherences[model_index]\n",
    "hierarchical_topics = topic_model.hierarchical_topics(docs, topic)"
   ]
  },
  {
   "cell_type": "code",
   "execution_count": 34,
   "metadata": {},
   "outputs": [],
   "source": [
    "topic_model.save(output+\"bert\")\n",
    "with open(output+'hierarchical_topics.pkl', 'wb') as f:\n",
    "    pickle.dump(hierarchical_topics, f)\n",
    "with open(output+'docs.pkl', 'wb') as f:\n",
    "    pickle.dump(docs, f)"
   ]
  },
  {
   "cell_type": "markdown",
   "metadata": {},
   "source": [
    "## Explore Model <a class=anchor id=section_8_2></a>"
   ]
  },
  {
   "cell_type": "code",
   "execution_count": 35,
   "metadata": {},
   "outputs": [],
   "source": [
    "topic_model = BERTopic.load(output+\"bert\")\n",
    "with open(output+'hierarchical_topics.pkl', 'rb') as f:\n",
    "    hierarchical_topics = pickle.load(f)\n",
    "with open(output+'docs.pkl', 'rb') as f:\n",
    "    docs = pickle.load(f)"
   ]
  },
  {
   "cell_type": "markdown",
   "metadata": {},
   "source": [
    "### Extracting Topics <a class=anchor id=section_8_2_1></a>\n",
    "\n",
    "After fitting our model, we can start by looking at the results. Typically, we look at the most frequent topics first as they best represent the collection of documents. "
   ]
  },
  {
   "cell_type": "code",
   "execution_count": 36,
   "metadata": {},
   "outputs": [
    {
     "data": {
      "text/html": [
       "<div>\n",
       "<style scoped>\n",
       "    .dataframe tbody tr th:only-of-type {\n",
       "        vertical-align: middle;\n",
       "    }\n",
       "\n",
       "    .dataframe tbody tr th {\n",
       "        vertical-align: top;\n",
       "    }\n",
       "\n",
       "    .dataframe thead th {\n",
       "        text-align: right;\n",
       "    }\n",
       "</style>\n",
       "<table border=\"1\" class=\"dataframe\">\n",
       "  <thead>\n",
       "    <tr style=\"text-align: right;\">\n",
       "      <th></th>\n",
       "      <th>Topic</th>\n",
       "      <th>Count</th>\n",
       "      <th>Name</th>\n",
       "    </tr>\n",
       "  </thead>\n",
       "  <tbody>\n",
       "    <tr>\n",
       "      <th>0</th>\n",
       "      <td>-1</td>\n",
       "      <td>549</td>\n",
       "      <td>-1_said_company_year_like</td>\n",
       "    </tr>\n",
       "    <tr>\n",
       "      <th>1</th>\n",
       "      <td>0</td>\n",
       "      <td>217</td>\n",
       "      <td>0_software_company_customer_service</td>\n",
       "    </tr>\n",
       "    <tr>\n",
       "      <th>2</th>\n",
       "      <td>1</td>\n",
       "      <td>153</td>\n",
       "      <td>1_home_house_said_light</td>\n",
       "    </tr>\n",
       "    <tr>\n",
       "      <th>3</th>\n",
       "      <td>2</td>\n",
       "      <td>128</td>\n",
       "      <td>2_airline_plane_flight_pilot</td>\n",
       "    </tr>\n",
       "    <tr>\n",
       "      <th>4</th>\n",
       "      <td>3</td>\n",
       "      <td>113</td>\n",
       "      <td>3_job_economy_company_economic</td>\n",
       "    </tr>\n",
       "  </tbody>\n",
       "</table>\n",
       "</div>"
      ],
      "text/plain": [
       "   Topic  Count                                 Name\n",
       "0     -1    549            -1_said_company_year_like\n",
       "1      0    217  0_software_company_customer_service\n",
       "2      1    153              1_home_house_said_light\n",
       "3      2    128         2_airline_plane_flight_pilot\n",
       "4      3    113       3_job_economy_company_economic"
      ]
     },
     "execution_count": 36,
     "metadata": {},
     "output_type": "execute_result"
    }
   ],
   "source": [
    "freq = topic_model.get_topic_info()\n",
    "freq.head(5)"
   ]
  },
  {
   "cell_type": "markdown",
   "metadata": {},
   "source": [
    "> -1 refers to all outliers and should typically be ignored.\n",
    "\n",
    "Next, let's take a look at a frequent topic that were generated:"
   ]
  },
  {
   "cell_type": "code",
   "execution_count": 37,
   "metadata": {},
   "outputs": [
    {
     "data": {
      "text/plain": [
       "[('software', 0.02849204726584317),\n",
       " ('company', 0.025687001896587576),\n",
       " ('customer', 0.023086682964741603),\n",
       " ('service', 0.022960749136001355),\n",
       " ('said', 0.022461878514305145),\n",
       " ('microsoft', 0.0191116716948572),\n",
       " ('computer', 0.016504502942852203),\n",
       " ('voice', 0.015241448821349913),\n",
       " ('oracle', 0.014740638315283725),\n",
       " ('technology', 0.014396069381171566)]"
      ]
     },
     "execution_count": 37,
     "metadata": {},
     "output_type": "execute_result"
    }
   ],
   "source": [
    "# Select the most frequent topic\n",
    "topic_model.get_topic(0)"
   ]
  },
  {
   "cell_type": "markdown",
   "metadata": {},
   "source": [
    "**NOTE**: BERTopic is stochastic which means that the topics might differ across runs. This is mostly due to the stocastisch nature of UMAP."
   ]
  },
  {
   "cell_type": "markdown",
   "metadata": {},
   "source": [
    "### Visualizations <a class=anchor id=section_8_2_2></a>"
   ]
  },
  {
   "cell_type": "code",
   "execution_count": 38,
   "metadata": {},
   "outputs": [
    {
     "data": {
      "text/html": [
       "<iframe\n",
       "    scrolling=\"no\"\n",
       "    width=\"670px\"\n",
       "    height=\"670\"\n",
       "    src=\"iframe_figures/figure_38.html\"\n",
       "    frameborder=\"0\"\n",
       "    allowfullscreen\n",
       "></iframe>\n"
      ]
     },
     "metadata": {},
     "output_type": "display_data"
    }
   ],
   "source": [
    "topic_model.visualize_topics()"
   ]
  },
  {
   "cell_type": "code",
   "execution_count": 39,
   "metadata": {},
   "outputs": [
    {
     "data": {
      "text/html": [
       "<iframe\n",
       "    scrolling=\"no\"\n",
       "    width=\"1220px\"\n",
       "    height=\"770\"\n",
       "    src=\"iframe_figures/figure_39.html\"\n",
       "    frameborder=\"0\"\n",
       "    allowfullscreen\n",
       "></iframe>\n"
      ]
     },
     "metadata": {},
     "output_type": "display_data"
    }
   ],
   "source": [
    "topic_model.visualize_documents(docs, reduced_embeddings=embeddings)"
   ]
  },
  {
   "cell_type": "markdown",
   "metadata": {},
   "source": [
    "We can visualize the selected terms for a few topics by creating bar charts out of the c-TF-IDF scores for each topic representation. Insights can be gained from the relative c-TF-IDF scores between and within topics. Moreover, you can easily compare topic representations to each other."
   ]
  },
  {
   "cell_type": "code",
   "execution_count": 40,
   "metadata": {},
   "outputs": [
    {
     "data": {
      "text/html": [
       "<iframe\n",
       "    scrolling=\"no\"\n",
       "    width=\"1020px\"\n",
       "    height=\"520\"\n",
       "    src=\"iframe_figures/figure_40.html\"\n",
       "    frameborder=\"0\"\n",
       "    allowfullscreen\n",
       "></iframe>\n"
      ]
     },
     "metadata": {},
     "output_type": "display_data"
    }
   ],
   "source": [
    "topic_model.visualize_barchart(top_n_topics=6)"
   ]
  },
  {
   "cell_type": "markdown",
   "metadata": {},
   "source": [
    "The topics that were created can be hierarchically reduced. In order to understand the potential hierarchical structure of the topics, we create clusters and visualize how they relate to one another."
   ]
  },
  {
   "cell_type": "code",
   "execution_count": 41,
   "metadata": {},
   "outputs": [
    {
     "data": {
      "text/html": [
       "<iframe\n",
       "    scrolling=\"no\"\n",
       "    width=\"1020px\"\n",
       "    height=\"550\"\n",
       "    src=\"iframe_figures/figure_41.html\"\n",
       "    frameborder=\"0\"\n",
       "    allowfullscreen\n",
       "></iframe>\n"
      ]
     },
     "metadata": {},
     "output_type": "display_data"
    }
   ],
   "source": [
    "topic_model.visualize_hierarchy(hierarchical_topics=hierarchical_topics, top_n_topics=50)"
   ]
  },
  {
   "cell_type": "markdown",
   "metadata": {},
   "source": [
    "Having generated topic embeddings, through both c-TF-IDF and embeddings, we can create a similarity matrix by simply applying cosine similarities through those topic embeddings. The result will be a matrix indicating how similar certain topics are to each other."
   ]
  },
  {
   "cell_type": "code",
   "execution_count": 42,
   "metadata": {},
   "outputs": [
    {
     "data": {
      "text/html": [
       "<iframe\n",
       "    scrolling=\"no\"\n",
       "    width=\"1020px\"\n",
       "    height=\"1020\"\n",
       "    src=\"iframe_figures/figure_42.html\"\n",
       "    frameborder=\"0\"\n",
       "    allowfullscreen\n",
       "></iframe>\n"
      ]
     },
     "metadata": {},
     "output_type": "display_data"
    }
   ],
   "source": [
    "topic_model.visualize_heatmap(width=1000, height=1000)"
   ]
  },
  {
   "cell_type": "markdown",
   "metadata": {},
   "source": [
    "Topics are represented by a number of words starting with the best representative word. Each word is represented by a c-TF-IDF score. The higher the score, the more representative a word to the topic is. Since the topic words are sorted by their c-TF-IDF score, the scores slowly decline with each word that is added. At some point adding words to the topic representation only marginally increases the total c-TF-IDF score and would not be beneficial for its representation.\n",
    "\n",
    "To visualize this effect, we can plot the c-TF-IDF scores for each topic by the term rank of each word. In other words, the position of the words (term rank), where the words with the highest c-TF-IDF score will have a rank of 1, will be put on the x-axis. Whereas the y-axis will be populated by the c-TF-IDF scores. The result is a visualization that shows you the decline of c-TF-IDF score when adding words to the topic representation. It allows you, using the elbow method, to select the best number of words in a topic."
   ]
  },
  {
   "cell_type": "code",
   "execution_count": 43,
   "metadata": {},
   "outputs": [
    {
     "data": {
      "text/html": [
       "<iframe\n",
       "    scrolling=\"no\"\n",
       "    width=\"820px\"\n",
       "    height=\"520\"\n",
       "    src=\"iframe_figures/figure_43.html\"\n",
       "    frameborder=\"0\"\n",
       "    allowfullscreen\n",
       "></iframe>\n"
      ]
     },
     "metadata": {},
     "output_type": "display_data"
    }
   ],
   "source": [
    "topic_model.visualize_term_rank()"
   ]
  },
  {
   "cell_type": "markdown",
   "metadata": {},
   "source": [
    "# 2010-2019 <a class=anchor id=section9></a>"
   ]
  },
  {
   "cell_type": "markdown",
   "metadata": {},
   "source": [
    "## Topic Modeling <a class=anchor id=section_9_1></a>"
   ]
  },
  {
   "cell_type": "code",
   "execution_count": 44,
   "metadata": {},
   "outputs": [],
   "source": [
    "!mkdir BERT/2010-2019/"
   ]
  },
  {
   "cell_type": "code",
   "execution_count": 45,
   "metadata": {},
   "outputs": [],
   "source": [
    "# parameters\n",
    "source = 'CLEANSED/2010-2019'\n",
    "output = 'BERT/'+source.split(\"/\")[1]+\"/\"\n",
    "start, limit, step = 10, 100, 10\n",
    "topic_models = []\n",
    "coherences = []\n",
    "topics = []\n",
    "probs = []"
   ]
  },
  {
   "cell_type": "code",
   "execution_count": 46,
   "metadata": {},
   "outputs": [
    {
     "name": "stderr",
     "output_type": "stream",
     "text": [
      "100%|██████████| 2852/2852 [00:00<00:00, 41864.36docs/s]\n"
     ]
    },
    {
     "name": "stdout",
     "output_type": "stream",
     "text": [
      "Number of input files: 2852\n",
      "Number of selected files: 2852\n",
      "Number of output files: 2852\n"
     ]
    },
    {
     "data": {
      "application/vnd.jupyter.widget-view+json": {
       "model_id": "5d30eec238d7477c9668a58b40f12c1f",
       "version_major": 2,
       "version_minor": 0
      },
      "text/plain": [
       "HBox(children=(FloatProgress(value=0.0, description='Batches', max=90.0, style=ProgressStyle(description_width…"
      ]
     },
     "metadata": {},
     "output_type": "display_data"
    },
    {
     "name": "stdout",
     "output_type": "stream",
     "text": [
      "\n"
     ]
    }
   ],
   "source": [
    "# Create embeddings\n",
    "docs = pre_process(source)\n",
    "embeddings = sentence_model.encode(docs, show_progress_bar=True)"
   ]
  },
  {
   "cell_type": "code",
   "execution_count": 47,
   "metadata": {},
   "outputs": [
    {
     "name": "stderr",
     "output_type": "stream",
     "text": [
      "2022-08-11 18:10:30,105 - BERTopic - Reduced dimensionality\n",
      "2022-08-11 18:10:30,693 - BERTopic - Clustered reduced embeddings\n",
      "2022-08-11 18:12:05,629 - BERTopic - Reduced number of topics from 66 to 12\n",
      "2022-08-11 18:13:03,294 - BERTopic - Reduced dimensionality\n",
      "2022-08-11 18:13:03,599 - BERTopic - Clustered reduced embeddings\n",
      "2022-08-11 18:14:37,414 - BERTopic - Reduced number of topics from 36 to 36\n",
      "2022-08-11 18:15:42,040 - BERTopic - Reduced dimensionality\n",
      "2022-08-11 18:15:42,295 - BERTopic - Clustered reduced embeddings\n",
      "2022-08-11 18:17:15,952 - BERTopic - Reduced number of topics from 23 to 23\n",
      "2022-08-11 18:18:18,788 - BERTopic - Reduced dimensionality\n",
      "2022-08-11 18:18:18,953 - BERTopic - Clustered reduced embeddings\n",
      "2022-08-11 18:19:52,032 - BERTopic - Reduced number of topics from 2 to 2\n",
      "2022-08-11 18:20:46,788 - BERTopic - Reduced dimensionality\n",
      "2022-08-11 18:20:46,963 - BERTopic - Clustered reduced embeddings\n",
      "2022-08-11 18:22:20,453 - BERTopic - Reduced number of topics from 2 to 2\n",
      "2022-08-11 18:23:15,207 - BERTopic - Reduced dimensionality\n",
      "2022-08-11 18:23:15,392 - BERTopic - Clustered reduced embeddings\n",
      "2022-08-11 18:24:48,959 - BERTopic - Reduced number of topics from 5 to 5\n",
      "2022-08-11 18:25:45,209 - BERTopic - Reduced dimensionality\n",
      "2022-08-11 18:25:45,406 - BERTopic - Clustered reduced embeddings\n",
      "2022-08-11 18:27:19,097 - BERTopic - Reduced number of topics from 3 to 3\n",
      "2022-08-11 18:28:15,010 - BERTopic - Reduced dimensionality\n",
      "2022-08-11 18:28:15,208 - BERTopic - Clustered reduced embeddings\n",
      "2022-08-11 18:29:50,901 - BERTopic - Reduced number of topics from 5 to 5\n",
      "2022-08-11 18:30:47,168 - BERTopic - Reduced dimensionality\n",
      "2022-08-11 18:30:47,380 - BERTopic - Clustered reduced embeddings\n",
      "2022-08-11 18:32:21,101 - BERTopic - Reduced number of topics from 5 to 5\n"
     ]
    }
   ],
   "source": [
    "# Create topic model\n",
    "for i in range(start, limit, step):\n",
    "    topic_model, topic, prob, coherence = training(docs, embeddings, i)\n",
    "    topic_models.append(topic_model)\n",
    "    topics.append(topic)\n",
    "    probs.append(prob)\n",
    "    coherences.append(coherence)"
   ]
  },
  {
   "cell_type": "markdown",
   "metadata": {},
   "source": [
    "### Check Coherence <a class=anchor id=section_9_1_1></a>"
   ]
  },
  {
   "cell_type": "code",
   "execution_count": 48,
   "metadata": {},
   "outputs": [
    {
     "data": {
      "image/png": "[encoded data removed]",
      "text/plain": [
       "<Figure size 640x480 with 1 Axes>"
      ]
     },
     "metadata": {},
     "output_type": "display_data"
    },
    {
     "name": "stdout",
     "output_type": "stream",
     "text": [
      "A maximum c_npmi score of 0.14739290451975806 was achieved at K=1\n"
     ]
    }
   ],
   "source": [
    "model_index = draw_graph(start, limit, step, coherences, source.split(\"/\")[1])"
   ]
  },
  {
   "cell_type": "markdown",
   "metadata": {},
   "source": [
    "> Hence, we select the model with the highest coherence value."
   ]
  },
  {
   "cell_type": "markdown",
   "metadata": {},
   "source": [
    "### Save Final Model <a class=anchor id=section_9_1_2></a>"
   ]
  },
  {
   "cell_type": "code",
   "execution_count": 49,
   "metadata": {},
   "outputs": [
    {
     "name": "stderr",
     "output_type": "stream",
     "text": [
      "100%|██████████| 10/10 [00:00<00:00, 120.80it/s]\n"
     ]
    }
   ],
   "source": [
    "topic_model, topic, prob, coherence = topic_models[model_index], topics[model_index], probs[model_index], coherences[model_index]\n",
    "hierarchical_topics = topic_model.hierarchical_topics(docs, topic)"
   ]
  },
  {
   "cell_type": "code",
   "execution_count": 50,
   "metadata": {},
   "outputs": [],
   "source": [
    "topic_model.save(output+\"bert\")\n",
    "with open(output+'hierarchical_topics.pkl', 'wb') as f:\n",
    "    pickle.dump(hierarchical_topics, f)\n",
    "with open(output+'docs.pkl', 'wb') as f:\n",
    "    pickle.dump(docs, f)"
   ]
  },
  {
   "cell_type": "markdown",
   "metadata": {},
   "source": [
    "## Explore Model <a class=anchor id=section_9_2></a>"
   ]
  },
  {
   "cell_type": "code",
   "execution_count": 51,
   "metadata": {},
   "outputs": [],
   "source": [
    "topic_model = BERTopic.load(output+\"bert\")\n",
    "with open(output+'hierarchical_topics.pkl', 'rb') as f:\n",
    "    hierarchical_topics = pickle.load(f)\n",
    "with open(output+'docs.pkl', 'rb') as f:\n",
    "    docs = pickle.load(f)"
   ]
  },
  {
   "cell_type": "markdown",
   "metadata": {},
   "source": [
    "### Extracting Topics <a class=anchor id=section_9_2_1></a>\n",
    "\n",
    "After fitting our model, we can start by looking at the results. Typically, we look at the most frequent topics first as they best represent the collection of documents. "
   ]
  },
  {
   "cell_type": "code",
   "execution_count": 52,
   "metadata": {},
   "outputs": [
    {
     "data": {
      "text/html": [
       "<div>\n",
       "<style scoped>\n",
       "    .dataframe tbody tr th:only-of-type {\n",
       "        vertical-align: middle;\n",
       "    }\n",
       "\n",
       "    .dataframe tbody tr th {\n",
       "        vertical-align: top;\n",
       "    }\n",
       "\n",
       "    .dataframe thead th {\n",
       "        text-align: right;\n",
       "    }\n",
       "</style>\n",
       "<table border=\"1\" class=\"dataframe\">\n",
       "  <thead>\n",
       "    <tr style=\"text-align: right;\">\n",
       "      <th></th>\n",
       "      <th>Topic</th>\n",
       "      <th>Count</th>\n",
       "      <th>Name</th>\n",
       "    </tr>\n",
       "  </thead>\n",
       "  <tbody>\n",
       "    <tr>\n",
       "      <th>0</th>\n",
       "      <td>-1</td>\n",
       "      <td>528</td>\n",
       "      <td>-1_said_company_like_year</td>\n",
       "    </tr>\n",
       "    <tr>\n",
       "      <th>1</th>\n",
       "      <td>0</td>\n",
       "      <td>2042</td>\n",
       "      <td>0_said_company_like_year</td>\n",
       "    </tr>\n",
       "    <tr>\n",
       "      <th>2</th>\n",
       "      <td>1</td>\n",
       "      <td>77</td>\n",
       "      <td>1_pilot_boeing_plane_flight</td>\n",
       "    </tr>\n",
       "    <tr>\n",
       "      <th>3</th>\n",
       "      <td>2</td>\n",
       "      <td>59</td>\n",
       "      <td>2_bride_graduated_father_mother</td>\n",
       "    </tr>\n",
       "    <tr>\n",
       "      <th>4</th>\n",
       "      <td>3</td>\n",
       "      <td>25</td>\n",
       "      <td>3_yang_campaign_charity_candidate</td>\n",
       "    </tr>\n",
       "  </tbody>\n",
       "</table>\n",
       "</div>"
      ],
      "text/plain": [
       "   Topic  Count                               Name\n",
       "0     -1    528          -1_said_company_like_year\n",
       "1      0   2042           0_said_company_like_year\n",
       "2      1     77        1_pilot_boeing_plane_flight\n",
       "3      2     59    2_bride_graduated_father_mother\n",
       "4      3     25  3_yang_campaign_charity_candidate"
      ]
     },
     "execution_count": 52,
     "metadata": {},
     "output_type": "execute_result"
    }
   ],
   "source": [
    "freq = topic_model.get_topic_info()\n",
    "freq.head(5)"
   ]
  },
  {
   "cell_type": "markdown",
   "metadata": {},
   "source": [
    "> -1 refers to all outliers and should typically be ignored.\n",
    "\n",
    "Next, let's take a look at a frequent topic that were generated:"
   ]
  },
  {
   "cell_type": "code",
   "execution_count": 53,
   "metadata": {},
   "outputs": [
    {
     "data": {
      "text/plain": [
       "[('said', 0.024159884961943122),\n",
       " ('company', 0.01892723865746019),\n",
       " ('like', 0.01516534993112288),\n",
       " ('year', 0.015154551787354302),\n",
       " ('time', 0.012952984505324821),\n",
       " ('people', 0.012812575946554454),\n",
       " ('technology', 0.01163112061807604),\n",
       " ('work', 0.011500251609857664),\n",
       " ('worker', 0.011092951959412697),\n",
       " ('state', 0.011010129990886032)]"
      ]
     },
     "execution_count": 53,
     "metadata": {},
     "output_type": "execute_result"
    }
   ],
   "source": [
    "# Select the most frequent topic\n",
    "topic_model.get_topic(0)"
   ]
  },
  {
   "cell_type": "markdown",
   "metadata": {},
   "source": [
    "**NOTE**: BERTopic is stochastic which means that the topics might differ across runs. This is mostly due to the stocastisch nature of UMAP."
   ]
  },
  {
   "cell_type": "markdown",
   "metadata": {},
   "source": [
    "### Visualizations <a class=anchor id=section_9_2_2></a>"
   ]
  },
  {
   "cell_type": "code",
   "execution_count": 54,
   "metadata": {},
   "outputs": [
    {
     "data": {
      "text/html": [
       "<iframe\n",
       "    scrolling=\"no\"\n",
       "    width=\"670px\"\n",
       "    height=\"670\"\n",
       "    src=\"iframe_figures/figure_54.html\"\n",
       "    frameborder=\"0\"\n",
       "    allowfullscreen\n",
       "></iframe>\n"
      ]
     },
     "metadata": {},
     "output_type": "display_data"
    }
   ],
   "source": [
    "topic_model.visualize_topics()"
   ]
  },
  {
   "cell_type": "code",
   "execution_count": 55,
   "metadata": {},
   "outputs": [
    {
     "data": {
      "text/html": [
       "<iframe\n",
       "    scrolling=\"no\"\n",
       "    width=\"1220px\"\n",
       "    height=\"770\"\n",
       "    src=\"iframe_figures/figure_55.html\"\n",
       "    frameborder=\"0\"\n",
       "    allowfullscreen\n",
       "></iframe>\n"
      ]
     },
     "metadata": {},
     "output_type": "display_data"
    }
   ],
   "source": [
    "topic_model.visualize_documents(docs, reduced_embeddings=embeddings)"
   ]
  },
  {
   "cell_type": "markdown",
   "metadata": {},
   "source": [
    "We can visualize the selected terms for a few topics by creating bar charts out of the c-TF-IDF scores for each topic representation. Insights can be gained from the relative c-TF-IDF scores between and within topics. Moreover, you can easily compare topic representations to each other."
   ]
  },
  {
   "cell_type": "code",
   "execution_count": 56,
   "metadata": {},
   "outputs": [
    {
     "data": {
      "text/html": [
       "<iframe\n",
       "    scrolling=\"no\"\n",
       "    width=\"1020px\"\n",
       "    height=\"520\"\n",
       "    src=\"iframe_figures/figure_56.html\"\n",
       "    frameborder=\"0\"\n",
       "    allowfullscreen\n",
       "></iframe>\n"
      ]
     },
     "metadata": {},
     "output_type": "display_data"
    }
   ],
   "source": [
    "topic_model.visualize_barchart(top_n_topics=6)"
   ]
  },
  {
   "cell_type": "markdown",
   "metadata": {},
   "source": [
    "The topics that were created can be hierarchically reduced. In order to understand the potential hierarchical structure of the topics, we create clusters and visualize how they relate to one another."
   ]
  },
  {
   "cell_type": "code",
   "execution_count": 57,
   "metadata": {},
   "outputs": [
    {
     "data": {
      "text/html": [
       "<iframe\n",
       "    scrolling=\"no\"\n",
       "    width=\"1020px\"\n",
       "    height=\"385\"\n",
       "    src=\"iframe_figures/figure_57.html\"\n",
       "    frameborder=\"0\"\n",
       "    allowfullscreen\n",
       "></iframe>\n"
      ]
     },
     "metadata": {},
     "output_type": "display_data"
    }
   ],
   "source": [
    "topic_model.visualize_hierarchy(hierarchical_topics=hierarchical_topics, top_n_topics=50)"
   ]
  },
  {
   "cell_type": "markdown",
   "metadata": {},
   "source": [
    "Having generated topic embeddings, through both c-TF-IDF and embeddings, we can create a similarity matrix by simply applying cosine similarities through those topic embeddings. The result will be a matrix indicating how similar certain topics are to each other."
   ]
  },
  {
   "cell_type": "code",
   "execution_count": 58,
   "metadata": {},
   "outputs": [
    {
     "data": {
      "text/html": [
       "<iframe\n",
       "    scrolling=\"no\"\n",
       "    width=\"1020px\"\n",
       "    height=\"1020\"\n",
       "    src=\"iframe_figures/figure_58.html\"\n",
       "    frameborder=\"0\"\n",
       "    allowfullscreen\n",
       "></iframe>\n"
      ]
     },
     "metadata": {},
     "output_type": "display_data"
    }
   ],
   "source": [
    "topic_model.visualize_heatmap(width=1000, height=1000)"
   ]
  },
  {
   "cell_type": "markdown",
   "metadata": {},
   "source": [
    "Topics are represented by a number of words starting with the best representative word. Each word is represented by a c-TF-IDF score. The higher the score, the more representative a word to the topic is. Since the topic words are sorted by their c-TF-IDF score, the scores slowly decline with each word that is added. At some point adding words to the topic representation only marginally increases the total c-TF-IDF score and would not be beneficial for its representation.\n",
    "\n",
    "To visualize this effect, we can plot the c-TF-IDF scores for each topic by the term rank of each word. In other words, the position of the words (term rank), where the words with the highest c-TF-IDF score will have a rank of 1, will be put on the x-axis. Whereas the y-axis will be populated by the c-TF-IDF scores. The result is a visualization that shows you the decline of c-TF-IDF score when adding words to the topic representation. It allows you, using the elbow method, to select the best number of words in a topic."
   ]
  },
  {
   "cell_type": "code",
   "execution_count": 59,
   "metadata": {},
   "outputs": [
    {
     "data": {
      "text/html": [
       "<iframe\n",
       "    scrolling=\"no\"\n",
       "    width=\"820px\"\n",
       "    height=\"520\"\n",
       "    src=\"iframe_figures/figure_59.html\"\n",
       "    frameborder=\"0\"\n",
       "    allowfullscreen\n",
       "></iframe>\n"
      ]
     },
     "metadata": {},
     "output_type": "display_data"
    }
   ],
   "source": [
    "topic_model.visualize_term_rank()"
   ]
  },
  {
   "cell_type": "code",
   "execution_count": null,
   "metadata": {},
   "outputs": [],
   "source": []
  }
 ],
 "metadata": {
  "kernelspec": {
   "display_name": "Python 3 (Data Science)",
   "language": "python",
   "name": "python3__SAGEMAKER_INTERNAL__arn:aws:sagemaker:us-east-1:081325390199:image/datascience-1.0"
  },
  "language_info": {
   "codemirror_mode": {
    "name": "ipython",
    "version": 3
   },
   "file_extension": ".py",
   "mimetype": "text/x-python",
   "name": "python",
   "nbconvert_exporter": "python",
   "pygments_lexer": "ipython3",
   "version": "3.7.10"
  }
 },
 "nbformat": 4,
 "nbformat_minor": 4
}
