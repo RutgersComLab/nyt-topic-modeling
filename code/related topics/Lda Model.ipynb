{
 "cells": [
  {
   "cell_type": "markdown",
   "metadata": {},
   "source": [
    "> Get topics for each decade (folder-by-folder, basically)\n",
    "\n",
    "References:<br>\n",
    "https://www.machinelearningplus.com/nlp/topic-modeling-gensim-python/<br>\n",
    "https://medium.com/dataseries/understanding-pointwise-mutual-information-in-nlp-e4ef75ecb57a<br>\n",
    "https://www.baeldung.com/cs/topic-modeling-coherence-score"
   ]
  },
  {
   "cell_type": "markdown",
   "metadata": {},
   "source": [
    "# Environment"
   ]
  },
  {
   "cell_type": "code",
   "execution_count": 1,
   "metadata": {},
   "outputs": [],
   "source": [
    "%%capture\n",
    "!pip install spacy\n",
    "!pip install gensim\n",
    "!pip install pyLDAvis\n",
    "!python -m spacy download en_core_web_sm"
   ]
  },
  {
   "cell_type": "code",
   "execution_count": 2,
   "metadata": {},
   "outputs": [
    {
     "name": "stderr",
     "output_type": "stream",
     "text": [
      "/opt/conda/lib/python3.7/site-packages/sklearn/linear_model/_least_angle.py:30: DeprecationWarning: `np.float` is a deprecated alias for the builtin `float`. To silence this warning, use `float` by itself. Doing this will not modify any behavior and is safe. If you specifically wanted the numpy scalar type, use `np.float64` here.\n",
      "Deprecated in NumPy 1.20; for more details and guidance: https://numpy.org/devdocs/release/1.20.0-notes.html#deprecations\n",
      "  method='lar', copy_X=True, eps=np.finfo(np.float).eps,\n",
      "/opt/conda/lib/python3.7/site-packages/sklearn/linear_model/_least_angle.py:169: DeprecationWarning: `np.float` is a deprecated alias for the builtin `float`. To silence this warning, use `float` by itself. Doing this will not modify any behavior and is safe. If you specifically wanted the numpy scalar type, use `np.float64` here.\n",
      "Deprecated in NumPy 1.20; for more details and guidance: https://numpy.org/devdocs/release/1.20.0-notes.html#deprecations\n",
      "  method='lar', copy_X=True, eps=np.finfo(np.float).eps,\n",
      "/opt/conda/lib/python3.7/site-packages/sklearn/linear_model/_least_angle.py:286: DeprecationWarning: `np.float` is a deprecated alias for the builtin `float`. To silence this warning, use `float` by itself. Doing this will not modify any behavior and is safe. If you specifically wanted the numpy scalar type, use `np.float64` here.\n",
      "Deprecated in NumPy 1.20; for more details and guidance: https://numpy.org/devdocs/release/1.20.0-notes.html#deprecations\n",
      "  eps=np.finfo(np.float).eps, copy_Gram=True, verbose=0,\n",
      "/opt/conda/lib/python3.7/site-packages/sklearn/linear_model/_least_angle.py:858: DeprecationWarning: `np.float` is a deprecated alias for the builtin `float`. To silence this warning, use `float` by itself. Doing this will not modify any behavior and is safe. If you specifically wanted the numpy scalar type, use `np.float64` here.\n",
      "Deprecated in NumPy 1.20; for more details and guidance: https://numpy.org/devdocs/release/1.20.0-notes.html#deprecations\n",
      "  eps=np.finfo(np.float).eps, copy_X=True, fit_path=True):\n",
      "/opt/conda/lib/python3.7/site-packages/sklearn/linear_model/_least_angle.py:1094: DeprecationWarning: `np.float` is a deprecated alias for the builtin `float`. To silence this warning, use `float` by itself. Doing this will not modify any behavior and is safe. If you specifically wanted the numpy scalar type, use `np.float64` here.\n",
      "Deprecated in NumPy 1.20; for more details and guidance: https://numpy.org/devdocs/release/1.20.0-notes.html#deprecations\n",
      "  eps=np.finfo(np.float).eps, copy_X=True, fit_path=True,\n",
      "/opt/conda/lib/python3.7/site-packages/sklearn/linear_model/_least_angle.py:1120: DeprecationWarning: `np.float` is a deprecated alias for the builtin `float`. To silence this warning, use `float` by itself. Doing this will not modify any behavior and is safe. If you specifically wanted the numpy scalar type, use `np.float64` here.\n",
      "Deprecated in NumPy 1.20; for more details and guidance: https://numpy.org/devdocs/release/1.20.0-notes.html#deprecations\n",
      "  eps=np.finfo(np.float).eps, positive=False):\n",
      "/opt/conda/lib/python3.7/site-packages/sklearn/linear_model/_least_angle.py:1349: DeprecationWarning: `np.float` is a deprecated alias for the builtin `float`. To silence this warning, use `float` by itself. Doing this will not modify any behavior and is safe. If you specifically wanted the numpy scalar type, use `np.float64` here.\n",
      "Deprecated in NumPy 1.20; for more details and guidance: https://numpy.org/devdocs/release/1.20.0-notes.html#deprecations\n",
      "  max_n_alphas=1000, n_jobs=None, eps=np.finfo(np.float).eps,\n",
      "/opt/conda/lib/python3.7/site-packages/sklearn/linear_model/_least_angle.py:1590: DeprecationWarning: `np.float` is a deprecated alias for the builtin `float`. To silence this warning, use `float` by itself. Doing this will not modify any behavior and is safe. If you specifically wanted the numpy scalar type, use `np.float64` here.\n",
      "Deprecated in NumPy 1.20; for more details and guidance: https://numpy.org/devdocs/release/1.20.0-notes.html#deprecations\n",
      "  max_n_alphas=1000, n_jobs=None, eps=np.finfo(np.float).eps,\n",
      "/opt/conda/lib/python3.7/site-packages/sklearn/linear_model/_least_angle.py:1723: DeprecationWarning: `np.float` is a deprecated alias for the builtin `float`. To silence this warning, use `float` by itself. Doing this will not modify any behavior and is safe. If you specifically wanted the numpy scalar type, use `np.float64` here.\n",
      "Deprecated in NumPy 1.20; for more details and guidance: https://numpy.org/devdocs/release/1.20.0-notes.html#deprecations\n",
      "  eps=np.finfo(np.float).eps, copy_X=True, positive=False):\n",
      "/opt/conda/lib/python3.7/site-packages/sklearn/decomposition/_lda.py:29: DeprecationWarning: `np.float` is a deprecated alias for the builtin `float`. To silence this warning, use `float` by itself. Doing this will not modify any behavior and is safe. If you specifically wanted the numpy scalar type, use `np.float64` here.\n",
      "Deprecated in NumPy 1.20; for more details and guidance: https://numpy.org/devdocs/release/1.20.0-notes.html#deprecations\n",
      "  EPS = np.finfo(np.float).eps\n",
      "/opt/conda/lib/python3.7/site-packages/ipykernel/pylab/backend_inline.py:164: DeprecationWarning: `configure_inline_support` is deprecated since IPython 7.23, directly use `matplotlib_inline.backend_inline.configure_inline_support()`\n",
      "  configure_inline_support(ip, backend)\n",
      "/opt/conda/lib/python3.7/site-packages/sklearn/feature_extraction/image.py:167: DeprecationWarning: `np.int` is a deprecated alias for the builtin `int`. To silence this warning, use `int` by itself. Doing this will not modify any behavior and is safe. When replacing `np.int`, you may wish to use e.g. `np.int64` or `np.int32` to specify the precision. If you wish to review your current use, check the release note link for additional information.\n",
      "Deprecated in NumPy 1.20; for more details and guidance: https://numpy.org/devdocs/release/1.20.0-notes.html#deprecations\n",
      "  dtype=np.int):\n",
      "/opt/conda/lib/python3.7/site-packages/scipy/io/matlab/mio5.py:98: DeprecationWarning: `np.bool` is a deprecated alias for the builtin `bool`. To silence this warning, use `bool` by itself. Doing this will not modify any behavior and is safe. If you specifically wanted the numpy scalar type, use `np.bool_` here.\n",
      "Deprecated in NumPy 1.20; for more details and guidance: https://numpy.org/devdocs/release/1.20.0-notes.html#deprecations\n",
      "  from .mio5_utils import VarReader5\n"
     ]
    }
   ],
   "source": [
    "import re\n",
    "import spacy\n",
    "import gensim\n",
    "import string\n",
    "import logging\n",
    "import warnings\n",
    "import pyLDAvis\n",
    "import numpy as np\n",
    "import pandas as pd\n",
    "import pyLDAvis.gensim_models\n",
    "import matplotlib.pyplot as plt\n",
    "import gensim.corpora as corpora\n",
    "\n",
    "from pprint import pprint\n",
    "from nltk.corpus import stopwords\n",
    "from gensim.models import CoherenceModel\n",
    "from nltk.corpus import PlaintextCorpusReader\n",
    "from gensim.parsing.preprocessing import preprocess_string\n",
    "\n",
    "%matplotlib inline\n",
    "pyLDAvis.enable_notebook()\n",
    "stop_words = stopwords.words('english')\n",
    "stop_words.extend(['from', 'subject', 're', 'edu', 'use'])\n",
    "nlp = spacy.load('en_core_web_sm', disable=['parser', 'ner'])\n",
    "warnings.filterwarnings(\"ignore\", category=FutureWarning)\n",
    "warnings.filterwarnings(\"ignore\", category=DeprecationWarning)\n",
    "logging.basicConfig(format='%(asctime)s : %(levelname)s : %(message)s', level=logging.ERROR)"
   ]
  },
  {
   "cell_type": "markdown",
   "metadata": {},
   "source": [
    "# Functions"
   ]
  },
  {
   "cell_type": "code",
   "execution_count": 3,
   "metadata": {},
   "outputs": [],
   "source": [
    "!rm -rf `find -type d -name .ipynb_checkpoints`"
   ]
  },
  {
   "cell_type": "code",
   "execution_count": 4,
   "metadata": {},
   "outputs": [],
   "source": [
    "punctuations = ['\"\"','\"', \"''\",\"``\",\",\",\".\",\"'\",\";\",\":\",\"[\",\"]\",\"(\",\")\",\"^\", \"{\",\"}\",\"=\",\n",
    "                \"<\",\">\",\"!\",\"/\",\"?\",\"+\",\"|\",\"-\",\"_\",\"%\",\"*\"] + list(string.punctuation)\n",
    "# stopwords from nltk\n",
    "stop_words = list(map(lambda x: x.lower(), set(stopwords.words('english'))))\n",
    "# https://gist.github.com/anubsinha/e65538585a5630a936a426667a807269\n",
    "# https://github.com/bahamas10/prepositions/blob/master/prepositions.json\n",
    "prepositions = ['a', 'abaft', 'aboard', 'about', 'above', 'absent', 'across', 'afore', 'after', 'against', 'along', \n",
    "                'alongside', 'amid', 'amidst', 'among', 'amongst', 'an', 'anenst', 'apropos', 'apud', 'around', 'as', \n",
    "                'aside', 'astride', 'at', 'athwart', 'atop', 'barring', 'before', 'behind', 'below', 'beneath', 'beside', \n",
    "                'besides', 'between', 'beyond', 'but', 'by', 'circa', 'concerning', 'despite', 'down', 'during', 'except', \n",
    "                'excluding', 'failing', 'following', 'for', 'forenenst', 'from', 'given', 'in', 'including', 'inside', \n",
    "                'into', 'is', 'lest', 'like', 'mid', 'midst', 'minus', 'modulo', 'near', 'next', 'notwithstanding', 'of', \n",
    "                'off', 'on', 'onto', 'opposite', 'out', 'outside', 'over', 'pace', 'past', 'per', 'plus', 'pro', 'qua', \n",
    "                'regarding', 'round', 'sans', 'save', 'since', 'than', 'the', 'through', 'throughout', 'till', 'times', \n",
    "                'to', 'toward', 'towards', 'under', 'underneath', 'unlike', 'until', 'unto', 'up', 'upon', 'versus', 'via', \n",
    "                'vice', 'with', 'within', 'without', 'worth']\n",
    "# https://gist.github.com/mohataher/837a1ed91aab7ab6c8321a2bae18dc3e\n",
    "# https://github.com/witch-house/pronoun.is/blob/master/resources/pronouns.tab\n",
    "pronouns = ['he', 'her', 'hers', 'herself', 'him', 'himself', 'his', 'i', 'it', 'its', 'itself', 'mine', 'my', 'myself', \n",
    "            'our', 'ours', 'ourselves', 'she', 'their', 'theirs', 'them', 'themself', 'themselves', 'they', 'us', 'we', \n",
    "            'you', 'your', 'yours', 'yourself', 'yourselves']\n",
    "# https://github.com/first20hours/google-10000-english/blob/master/google-10000-english-usa-no-swears-short.txt\n",
    "common_words = ['huge', 'fly', 'usgs', 'lies', 'thee', 'smtp', 'tb', 'band', 'bulk', 'mood', 's', 'cork', 'mo', 'stay', \n",
    "                'ada', 'had', 'com', 'wear', 'dot', 'cz', 'eur', 'corp', 'fan', 'jp', 'sam', 'fuel', 'dc', 'fast', \n",
    "                'was', 'past', 'stem', 'big', 'bios', 'use', 'rf', 'fcc', 'gr', 'fg', 'body', 'sur', 'sell', 'knit', \n",
    "                'jobs', 'saw', 'sky', 'alt', 'pg', 'well', 'reid', 'ya', 'ed', 'hull', 'la', 'turn', 'line', 'fits', \n",
    "                'yn', 'van', 'pass', 'phil', 'lady', 'ours', 'five', 'bbs', 'dig', 'rosa', 'whom', 'cold', 'tips', \n",
    "                'dumb', 'via', 'km', 'rome', 'iraq', 'est', 'ink', 'hub', 'neon', 'ten', 'sm', 'sept', 'the', 'asn', \n",
    "                'pas', 'junk', 'weed', 'fire', 'web', 'bomb', 'inch', 'gang', 'buy', 'beer', 'cad', 'pr', 'mv', 'jj', \n",
    "                'lows', 'land', 'ryan', 'c', 'fit', 'disk', 'ssl', 'eve', 'ati', 'look', 'cave', 'alto', 'xml', 'cr', \n",
    "                'sec', 'coat', 'node', 'flip', 'oh', 'da', 'pro', 'sand', 'h', 'dk', 'laid', 'own', 'z', 'fix', 'prep', \n",
    "                'ser', 'wc', 'army', 'arms', 'ef', 'mud', 'st', 'kb', 'boot', 'dpi', 'find', 'l', 'lose', 'wb', 'utc', \n",
    "                'is', 'kits', 'ie', 'jill', 'zero', 'cat', 'ta', 'opt', 'faq', 'sen', 'uv', 'th', 'ons', 'rx', 'hist', \n",
    "                'eds', 'dept', 'yrs', 'cal', 'rm', 'arm', 'les', 'md', 'oz', 'dirt', 'us', 'bowl', 'mens', 'talk', 'rr', \n",
    "                'pays', 'bids', 'lace', 'mars', 'doc', 'kept', 'bass', 'dsc', 'jack', 'dts', 'unto', 'der', 'see', 'file', \n",
    "                'once', 'gary', 'sas', 'yea', 'wife', 'ian', 'dame', 'cho', 'toy', 'bmw', 'take', 'gg', 'down', 'ben', \n",
    "                'ur', 'poor', 'sims', 'room', 'aug', 'glad', 'ace', 'spin', 'muze', 'beta', 'fans', 'ntsc', 'vip', 'day', \n",
    "                'pgp', 'mw', 'pie', 'got', 'kyle', 'mf', 't', 'bt', 'buck', 'ca', 'born', 'age', 'rl', 'todd', 'ana', \n",
    "                'href', 'guam', 'jake', 'pal', 'year', 'host', 'font', 'aud', 'feed', 'vg', 'jm', 'nice', 'park', 'jpeg', \n",
    "                'li', 'harm', 'vcr', 'visa', 'isa', 'send', 'bd', 'glen', 'exec', 'pads', 'jose', 'jump', 'chip', 'wow', \n",
    "                'e', 'very', 'fl', 'tr', 'good', 'mary', 'zone', 'key', 'jr', 'pf', 'ease', 'temp', 'earl', 'q', 'cite', \n",
    "                'hold', 'voip', 'jan', 'test', 'polo', 'lg', 'memo', 'dome', 'oval', 'rn', 'be', 'cn', 'dm', 'with', \n",
    "                'nose', 'rat', 'eva', 'ave', 'pe', 'flu', 'hope', 'duck', 'aj', 'pet', 'doe', 'af', 'gets', 'tape', \n",
    "                'ski', 'pan', 'sofa', 'seem', 'sara', 'pest', 'ia', 'cams', 'oman', 'eos', 'hart', 'tion', 'deny', \n",
    "                'gage', 'bond', 'kate', 'adds', 'mb', 'yarn', 'thou', 'echo', 'trap', 'live', 'lord', 'nl', 'amy', \n",
    "                'mpg', 'sci', 'dive', 'hey', 'sent', 'rom', 'now', 'week', 'side', 'due', 'do', 'grew', 'per', 'hiv', \n",
    "                'del', 'mind', 'kong', 'mods', 'lone', 'il', 'inc', 'des', 'msg', 'gzip', 'aged', 'east', 'tall', 'rap', \n",
    "                'ni', 'jews', 'debt', 'biz', 'ste', 'snow', 'wi', 'viii', 'air', 'clay', 'lion', 'die', 'leaf', 'chat', \n",
    "                'hose', 'shoe', 'bit', 'dial', 'ray', 'll', 'blah', 'next', 'been', 'apps', 'only', 'utah', 'son', 'what', \n",
    "                'uri', 'cia', 'sign', 'reef', 'bag', 'oclc', 'zoom', 'rich', 'ist', 'does', 'logs', 'que', 'nm', 'mpeg', \n",
    "                'tech', 'holy', 've', 'duo', 'im', 'hint', 'its', 'liz', 'put', 'mono', 'mall', 'vpn', 'r', 'lat', 'dee', \n",
    "                'ld', 'vt', 'nick', 'gpl', 'tmp', 'hawk', 'tabs', 'bin', 'mark', 'firm', 'ghz', 'gst', 'bo', 'para', \n",
    "                'drew', 'tv', 'ford', 'api', 'neo', 'egg', 'pour', 'ut', 'epa', 'out', 'each', 'bull', 'cas', 'ss', 'mini', \n",
    "                'foot', 'exp', 'jpg', 'spas', 'joe', 'main', 'hans', 'gba', 'nb', 'lip', 'coin', 'tom', 'near', 'v', 're', \n",
    "                'tags', 'inn', 'cord', 'wild', 'aa', 'feof', 'alot', 'mid', 'gray', 'i', 'guys', 'abc', 'gsm', 'ne', 'off', \n",
    "                'llc', 'warm', 'glow', 'sc', 'over', 'fx', 'rip', 'yo', 'sure', 'docs', 'luke', 'halo', 'four', 'pink', \n",
    "                'amp', 'tale', 'head', 'atom', 'pct', 'bp', 'bias', 'such', 'nike', 'tube', 'many', 'seen', 'fail', 'gulf', \n",
    "                'abu', 'rp', 'ml', 'pat', 'gas', 'vhs', 'sw', 'hwy', 'html', 'xbox', 'full', 'bi', 'qc', 'grow', 'tea', \n",
    "                'cup', 'jim', 'wan', 'fm', 'cnet', 'rope', 'nuke', 'adsl', 'ibm', 'sys', 'aaa', 'jvc', 'stop', 'cups', \n",
    "                'sql', 'nz', 'nhs', 'deep', 'neil', 'le', 'evil', 'mls', 'libs', 'ds', 'sale', 'fax', 'obj', 'bent', \n",
    "                'arts', 'ky', 'wa', 'come', 'arch', 'eric', 'hd', 'vids', 'rt', 'drum', 'belt', 'oak', 'game', 'tin', \n",
    "                'hair', 'dump', 'math', 'duty', 'cuba', 'peru', 'crew', 'ppc', 'mad', 'fig', 'burn', 'den', 'chi', \n",
    "                'dem', 'oo', 'laws', 'bali', 'felt', 'busy', 'pi', 'self', 'swap', 'bay', 'une', 'grab', 'ages', 'dow', \n",
    "                'wind', 'semi', 'tba', 'au', 'dist', 'nato', 'box', 'nut', 'caps', 'crop', 'nfl', 'om', 'want', 'edit', \n",
    "                'az', 'iron', 'tee', 'las', 'dont', 'dude', 'id', 'sony', 'ali', 'wu', 'held', 'rpm', 'comp', 'ips', \n",
    "                'two', 'fist', 'lock', 'lift', 'nc', 'jul', 'beds', 'owns', 'home', 'my', 'peak', 'wet', 'rice', 'ruby', \n",
    "                'dash', 'en', 'john', 'loop', 'zoo', 'ice', 'bars', 'sega', 'pn', 'case', 'cod', 'ones', 'fred', 'sv', \n",
    "                'cos', 'no', 'ct', 'lf', 'san', 'tank', 'blue', 'ad', 'boom', 'lime', 'anti', 'hb', 'usda', 'dust', 'she', \n",
    "                'bug', 'lane', 'surf', 'joy', 'urls', 'sub', 'bet', 'ns', 'tu', 'gaps', 'why', 'map', 'marc', 'mix', \n",
    "                'keep', 'dvds', 'um', 'gmc', 'cent', 'wv', 'fy', 'wine', 'tied', 'eye', 'mit', 'leg', 'have', 'lack', \n",
    "                'gold', 'swim', 'qui', 'bite', 'hire', 'ups', 'pl', 'sink', 'zinc', 'rug', 'eat', 'seat', 'ha', 'ids', \n",
    "                'hole', 'aye', 'j', 'upon', 'or', 'bad', 'bare', 'dies', 'vi', 'bee', 'feet', 'cvs', 'pack', 'cash', 'ks', \n",
    "                'lean', 'span', 'maps', 'ind', 'gig', 'suse', 'call', 'wed', 'cove', 'poly', 'sip', 'hit', 'soup', 'np', \n",
    "                'dec', 'dog', 'fw', 'watt', 'sea', 'tc', 'soma', 'spot', 'mia', 'arc', 'bind', 'am', 'tony', 'bio', 'aus', \n",
    "                'ah', 'boys', 'pole', 'toll', 'date', 'cake', 'clip', 'kurt', 'ja', 'pins', 'icq', 'jets', 'tn', 'fear', \n",
    "                'col', 'ripe', 'doug', 'eh', 'es', 'chan', 'sa', 'rh', 'spy', 'tm', 'mat', 'dx', 'lake', 'flat', 'dt', \n",
    "                'some', 'scan', 'thai', 'hook', 'et', 'lo', 'draw', 'reed', 'bone', 'wage', 'rb', 'fate', 'plot', 'knew', \n",
    "                'rc', 'bat', 'cu', 'add', 'ez', 'mins', 'bc', 'dale', 'arg', 'fact', 'when', 'med', 'ny', 'joan', 'lou', \n",
    "                'path', 'hs', 'oc', 'atm', 'baby', 'pics', 'leon', 'sr', 'owen', 'sk', 'lcd', 'mic', 'dock', 'lawn', 'wp', \n",
    "                'g', 'push', 'ps', 'pci', 'tool', 'flux', 'rico', 'help', 'php', 'rim', 'ugly', 'gays', 'lite', 'sf', \n",
    "                'tgp', 'seo', 'foul', 'dos', 'lamp', 'enb', 'tel', 'boat', 'rage', 'nba', 'face', 'nano', 'step', 'tie', \n",
    "                'tone', 'yang', 'lung', 'fine', 'rss', 'view', 'blow', 'load', 'crm', 'wire', 'bg', 'vote', 'free', \n",
    "                'fuji', 'role', 'jury', 'true', 'bugs', 'disc', 'cnn', 'pac', 'lets', 'bra', 'hits', 'mali', 'show', \n",
    "                'neck', 'sail', 'pull', 'mill', 'pt', 'tri', 'gift', 'port', 'mint', 'midi', 'ways', 'same', 'erik', \n",
    "                'an', 'oops', 'nh', 'lazy', 'ball', 'acre', 'eg', 'bed', 'ai', 'divx', 'note', 'fc', 'sl', 'fiji', 'jon', \n",
    "                'drop', 'arab', 'twin', 'acne', 'type', 'img', 'tf', 'gs', 'spec', 'cw', 'wait', 'und', 'jc', 'nv', 'mice', \n",
    "                'loan', 'love', 'team', 'mart', 'dl', 'hp', 'won', 'trip', 'tour', 'bell', 'town', 'told', 'cart', 'carl', \n",
    "                'wax', 'lc', 'ware', 'biol', 'me', 'desk', 'pete', 'uw', 'pace', 'pork', 'dad', 'ka', 'sans', 'io', 'heel', \n",
    "                'gay', 'ev', 'eau', 'rock', 'base', 'hon', 'psi', 'spam', 'rate', 'zip', 'okay', 'fin', 'misc', 'fund', \n",
    "                'suit', 'him', 'miss', 'kim', 'jam', 'kent', 'dev', 'rush', 'mi', 'sat', 'ann', 'df', 'ag', 'mj', 'thu', \n",
    "                'fee', 'palm', 'pub', 'mate', 'cost', 'barn', 'star', 'cpu', 'solo', 'pit', 'pale', 'ic', 'pam', 'hack', \n",
    "                'cats', 'meta', 'road', 'nova', 'yet', 'byte', 'kai', 'calm', 'used', 'man', 'sao', 'boss', 'hunt', 'lp', \n",
    "                'a', 'ide', 'dj', 'pump', 'cool', 'milk', 'edge', 'slow', 'fog', 'nat', 'teen', 'wake', 'soon', 'bold', \n",
    "                'form', 'hugh', 'on', 'wall', 'inf', 'fo', 'sue', 'hugo', 'usd', 'acm', 'proc', 'all', 'dan', 'oven', 'ads', \n",
    "                'dh', 'bid', 'vice', 'mph', 'pa', 'by', 'mode', 'os', 'beam', 'min', 'made', 'mag', 'say', 'gt', 'race', \n",
    "                'wiki', 'exam', 'treo', 'grad', 'rep', 'ltd', 'lt', 'bolt', 'rj', 'fda', 'nt', 'op', 'nest', 'wool', 'text', \n",
    "                'gcc', 'shop', 'mae', 'navy', 'cute', 'drug', 'demo', 'incl', 'asin', 'acts', 'ing', 'max', 'mile', 'zen', \n",
    "                'sole', 'has', 'blog', 'zus', 'lab', 'fake', 'sim', 'u', 'till', 'cure', 'bk', 'aw', 'hop', 'par', 'pmc', \n",
    "                'uni', 'casa', 'ho', 'rg', 'cd', 'bs', 'cube', 'cast', 'poll', 'apr', 'una', 'rule', 'eu', 'ba', 'usps', \n",
    "                'n', 'penn', 'kind', 'and', 'pm', 'sir', 'cet', 'dvd', 'gbp', 'bang', 'fall', 'o', 'vs', 'fa', 'tap', 'gps', \n",
    "                'sort', 'bob', 'his', 'isbn', 'wise', 'chad', 'dr', 'he', 'ye', 'weak', 'uses', 'mlb', 'bald', 'oral', 'xp', \n",
    "                'cop', 'scsi', 'rid', 'rest', 'erp', 'ou', 'di', 'rna', 'page', 'ty', 'rpg', 'plc', 'work', 'pay', 'yeah', \n",
    "                'pick', 'mine', 'nsw', 'shot', 'reel', 'not', 'sb', 'lamb', 'cm', 'grey', 'cruz', 'wins', 'zu', 'low', 'yu', \n",
    "                'pvc', 'rod', 'doom', 'kid', 'gui', 'shaw', 'tail', 'bon', 'win', 'dead', 'wash', 'josh', 'gene', 'quit', \n",
    "                'save', 'gods', 'sie', 'oct', 'reno', 'pty', 'jar', 'dogs', 'ci', 'fwd', 'your', 'hash', 'but', 'keys', \n",
    "                'gis', 'tiny', 'hour', 'go', 'term', 'hip', 'we', 'pda', 'tx', 'rows', 'phd', 'fell', 'http', 'kiss', 'iv', \n",
    "                'auto', 'buf', 'rand', 'vary', 'tft', 'gif', 'fd', 'in', 'pst', 'soap', 'pin', 'var', 'you', 'bar', 'eval', \n",
    "                'hz', 'mail', 'ala', 'ira', 'site', 'folk', 'tim', 'og', 'gd', 'idle', 'sold', 'back', 'kg', 'sg', 'eden', \n",
    "                'eyes', 'mom', 'roy', 'rrp', 'pdt', 'ata', 'sum', 'ipaq', 'isle', 'from', 'top', 'mega', 'prot', 'foo', \n",
    "                'blvd', 'luck', 'nu', 'cfr', 'may', 'cape', 'worm', 'hl', 'poem', 'maui', 'null', 'at', 'zope', 'make', \n",
    "                'quad', 'copy', 'can', 'ga', 'bank', 'gore', 'acer', 'hall', 'nov', 'pd', 'rats', 'know', 'sq', 'need', \n",
    "                'pc', 'guy', 'qty', 'ken', 'cafe', 'tide', 'cb', 'mike', 'west', 'ciao', 'len', 'fame', 'aid', 'lisa', \n",
    "                'ncaa', 'mh', 'sync', 'dual', 'java', 'nor', 'bus', 'urw', 'wifi', 'p', 'new', 'cms', 'else', 'ill', \n",
    "                'thus', 'joke', 'ln', 'her', 'oils', 'mem', 'ccd', 'gc', 'war', 'tons', 'york', 'soc', 'quiz', 'nam', \n",
    "                'law', 'gmbh', 'sing', 'ea', 'res', 'm', 'fees', 'word', 'ak', 'tire', 'pmid', 'carb', 'gym', 'moon', \n",
    "                'beth', 'ant', 'hear', 'last', 'legs', 'gi', 'lynn', 'wt', 'er', 'ham', 'trim', 'ph', 'met', 'nr', 'info', \n",
    "                'lips', 'ping', 'lb', 'logo', 'thru', 'ends', 'ri', 'said', 'like', 'pool', 'jazz', 'dir', 'spa', 'keno', \n",
    "                'con', 'tend', 'gmt', 'read', 'item', 'ra', 'vat', 'rent', 'bm', 'vb', 'ws', 'vast', 'ix', 'wave', 'goto', \n",
    "                'six', 'adam', 'set', 'rob', 'lay', 'clan', 'cio', 'post', 'tent', 'slip', 'bool', 'user', 'asks', 'rw', \n",
    "                'wx', 'duke', 'ext', 'ro', 'xi', 'nn', 'vc', 'str', 'ob', 'dave', 'bags', 'walk', 'ear', 'odd', 'lol', \n",
    "                'shed', 'mar', 'cuts', 'pope', 'done', 'se', 'fool', 'lil', 'psp', 'pop', 'qt', 'lan', 'foto', 'mc', 'aka', \n",
    "                'sn', 'judy', 'fare', 'sage', 'laos', 'wr', 'ron', 'ol', 'chen', 'aqua', 'vic', 'tear', 'mean', 'de', 'gnu', \n",
    "                'pre', 'dsl', 'std', 'size', 'worn', 'iowa', 'wm', 'uk', 'list', 'eyed', 'andy', 'went', 'more', 'pros', \n",
    "                'mil', 'than', 'kde', 'sets', 'stat', 'meal', 'ti', 'pic', 'grid', 'lm', 'mass', 'aims', 'babe', 'por', \n",
    "                'none', 'troy', 'earn', 'rare', 'dui', 'thy', 'wy', 'july', 'aim', 'src', 'el', 'life', 'chem', 'tan', \n",
    "                'ton', 'audi', 'try', 'goal', 'gp', 'play', 'club', 'seed', 'sick', 'frog', 'em', 'yale', 'slim', 'qld', \n",
    "                'wide', 'peer', 'leu', 'dns', 'sake', 'ab', 'jet', 'it', 'cry', 'dice', 'ot', 'sol', 'upc', 'asp', 'shut', \n",
    "                'wood', 'icon', 'as', 'job', 'bush', 'undo', 'sons', 'bb', 'mhz', 'gave', 'd', 'mere', 'cdt', 'ride', \n",
    "                'app', 'red', 'cf', 'hats', 'b', 'mr', 'kay', 'here', 'pair', 'girl', 'norm', 'iran', 'pdf', 'aol', 'pk', \n",
    "                'thin', 'grip', 'bath', 'cars', 'cage', 'ict', 'did', 'ban', 'acc', 'dans', 'slot', 'sep', 'cg', 'kit', \n",
    "                'give', 'das', 'inns', 'f', 'toys', 'tue', 'seek', 'dark', 'ctrl', 'horn', 'gear', 'gl', 'vol', 'roof', \n",
    "                'up', 'org', 'mon', 'dawn', 'doll', 'row', 'usc', 'av', 'jeff', 'je', 'bike', 'wto', 'oem', 'pray', 'los', \n",
    "                'til', 'co', 'hq', 'gap', 'soul', 'nasa', 'ward', 'mas', 'walt', 'tvs', 'long', 'funk', 'half', 'pen', \n",
    "                'pens', 'hood', 'ment', 'that', 'plan', 'cbs', 'sox', 'pos', 'hh', 'pure', 'cole', 'salt', 'sms', 'asus', \n",
    "                'our', 'flow', 'odds', 'ever', 'hu', 'pdas', 'pix', 'pike', 'ash', 'cir', 'mx', 'trio', 'deck', 'lang', \n",
    "                'ii', 'book', 'hdtv', 'irs', 'beef', 'yes', 'root', 'tex', 'vid', 'male', 'xl', 'mask', 'data', 'benz', \n",
    "                'avi', 'wav', 'yard', 'lots', 'hr', 'eq', 'oil', 'hide', 'css', 'snap', 'bbc', 'rec', 'bras', 'camp', \n",
    "                'poet', 'mess', 'best', 'code', 'cds', 'card', 'so', 'are', 'pcs', 'yen', 'ago', 'jay', 'link', 'pj', \n",
    "                'king', 'rose', 'deer', 'bill', 'even', 'diy', 'www', 'pad', 'ins', 'nil', 'plug', 'nec', 'old', 'tune', \n",
    "                'labs', 'ht', 'anna', 'jean', 'door', 'wars', 'ooo', 'llp', 'cs', 'leo', 'raw', 'pod', 'ru', 'su', 'meat', \n",
    "                'pipe', 'soil', 'lbs', 'few', 'du', 'lid', 'onto', 'goat', 'mtv', 'isp', 'act', 'area', 'tt', 'gem', 'toe', \n",
    "                'plus', 'ko', 'lost', 'avg', 'if', 'most', 'wrap', 'usa', 'news', 'eggs', 'dry', 'ion', 'pb', 'sh', 'tp', \n",
    "                'chef', 'gun', 'ec', 'ap', 'hi', 'ate', 'guns', 'moss', 'boc', 'less', 'int', 'vp', 'rs', 'ship', 'real', \n",
    "                'comm', 'rear', 'dat', 'ohio', 'cgi', 'mesh', 'mold', 'ipod', 'heat', 'hero', 'espn', 'von', 'bl', 'rica', \n",
    "                'eng', 'fish', 'msn', 'gm', 'sad', 'tray', 'end', 'brad', 'uc', 'art', 'nbc', 'noon', 'ch', 'song', 'hurt', \n",
    "                'gb', 'open', 'taxi', 'oecd', 'were', 'dear', 'dom', 'dip', 'axis', 'car', 'cl', 'herb', 'gate', 'sp', \n",
    "                'will', 'hill', 'mu', 'rv', 'cv', 'net', 'acid', 'usb', 'pp', 'sri', 'tub', 'bend', 'fri', 'jun', 'gone', \n",
    "                'wit', 'kick', 'bear', 'zum', 'runs', 'phi', 'tier', 'ted', 'w', 'golf', 'uh', 'cab', 'lib', 'bw', 'sees', \n",
    "                'jail', 'guru', 'ebay', 'dis', 'msie', 'gain', 'meet', 'hung', 'tip', 'able', 'iii', 'pond', 'def', 'avon', \n",
    "                'lead', 'nw', 'era', 'urge', 'tile', 'hong', 'hot', 'sean', 'rail', 'ppm', 'mrna', 'prev', 'non', 'epic', \n",
    "                'flag', 'get', 'fed', 'took', 'ge', 'hat', 'pose', 'ruth', 'gen', 'karl', 'task', 'ross', 'gras', 'much', \n",
    "                'feb', 'ram', 'skin', 'nj', 'part', 'bean', 'seq', 'greg', 'cut', 'val', 'mba', 'let', 'loss', 'rugs', \n",
    "                'ring', 'tops', 'mm', 'cst', 'fork', 'rise', 'kw', 'lap', 'fp', 'fat', 'kill', 'drag', 'nuts', 'must', \n",
    "                'join', 'mt', 'how', 'nhl', 'paul', 'lie', 'nyc', 'ip', 'loud', 'pets', 'stan', 'jane', 'cant', 'wal', \n",
    "                'of', 'roll', 'lu', 'ww', 'bow', 'ui', 'both', 'te', 'also', 'mats', 'tax', 'mac', 'menu', 'hay', 'sic', \n",
    "                'euro', 'edt', 'puts', 'nd', 'cam', 'conf', 'sku', 'cult', 'issn', 'fe', 'feat', 'jade', 'fur', 'ft', \n",
    "                'pee', 'sig', 'hang', 'move', 'url', 'ar', 'them', 'unix', 'db', 'geo', 'risk', 'raid', 'lee', 'jd', 'ep', \n",
    "                'gale', 'too', 'cdna', 'stud', 'rio', 'ts', 'ties', 'irc', 'hand', 'ieee', 'mod', 'ls', 'pine', 'anne', 'mg', \n",
    "                'ul', 'easy', 'nav', 'dg', 'pts', 'alex', 'goes', 'cc', 'lens', 'k', 'cj', 'usr', 'gel', 'log', 'ok', 'ftp', \n",
    "                'dv', 'exit', 'peas', 'phys', 'mel', 'nine', 'rd', 'dose', 'foam', 'way', 'na', 'diet', 'away', 'rfc', 'fort', \n",
    "                'oe', 'late', 'po', 'says', 'dna', 'don', 'jeep', 'film', 'eco', 'dish', 'tell', 'yoga', 'run', 'wn', 'va', \n",
    "                'alan', 'cap', 'soa', 'for', 'wolf', 'ng', 'div', 'dp', 'ma', 'paso', 'just', 'cell', 'gdp', 'feel', 'ears', \n",
    "                'fi', 'paid', 'pubs', 'hk', 'si', 'silk', 'deaf', 'dd', 'wing', 'luis', 'bits', 'ent', 'td', 'mp', 'mime', \n",
    "                'emma', 'pig', 'rack', 'left', 'knee', 'cow', 'nail', 'ac', 'sit', 'rca', 'apt', 'hc', 'ee', 'gtk', 'dean', \n",
    "                'sap', 'fbi', 'ce', 'time', 'abs', 'ms', 'sd', 'food', 'kids', 'etc', 'dam', 'corn', 'sin', 'hard', 'led', \n",
    "                'died', 'rev', 'skip', 'cook', 'ver', 'rick', 'men', 'beat', 'buzz', 'univ', 'idea', 'kirk', 'faqs', 'dana', \n",
    "                'mn', 'za', 'mrs', 'joel', 'intl', 'safe', 'lit', 'mug', 'lot', 'then', 'br', 'buys', 'perl', 'aids', 'flex', \n",
    "                'keen', 'ir', 'fr', 'char', 'hate', 'mesa', 'high', 'ask', 'dod', 'tab', 'rays', 'iso', 'ran', 'cons', \n",
    "                'expo', 'prix', 'seal', 'core', 'sun', 'fun', 'amd', 'hrs', 'pill', 'trek', 'loc', 'al', 'yr', 'dell', 'who', \n",
    "                'fair', 'juan', 'mild', 'any', 'pot', 'tcp', 'dare', 'ceo', 'one', 'dim', 'city', 'tar', 'fill', 'pain', \n",
    "                'name', 'into', 'un', 'volt', 'ex', 'matt', 'to', 'vii', 'farm', 'fold', 'js', 'rank', 'rely', 'oaks', \n",
    "                'geek', 'seas', 'idol', 'days', 'fu', 'reg', 'levy', 'punk', 'ae', 'coal', 'ddr', 'fs', 'x', 'care', 'lucy', \n",
    "                'unit', 'june', 'ff', 'asia', 'came', 'bye', 'boy', 'y', 'myth', 'bird', 'moms', 'this', 'cp', 'wish', \n",
    "                'rain', 'wma', 'fox', 'mai', 'diff', 'deal', 'cope', 'they', 'void', 'ref', 'far', 'tree', 'soft', 'tag',\n",
    "                'find', 'still', 'take', 'year', 'first', 'be', 'am', 'are', 'is', 'was', 'were', 'being', 'can', 'could',\n",
    "                'do', 'did', 'does', 'doing', 'have', 'had', 'has', 'having', 'may', 'might', 'must', 'shall', 'should', \n",
    "                'will', 'would', 'still', 'going', 'never', 'incb21', 'outst21', '000c8', 'sfas', 'rev11', 'inct', 'amer', \n",
    "                'thet', 'inds_inct', 'adrt', 'natl', 'benihana_natl', 'tofruzen', 'indst', 'finl', 'inc10', 'amer_commun', \n",
    "                'incn',\n",
    "]\n",
    "# final list\n",
    "stop = stop_words + pronouns + prepositions + common_words"
   ]
  },
  {
   "cell_type": "code",
   "execution_count": 5,
   "metadata": {},
   "outputs": [],
   "source": [
    "# BASIC CLEANING\n",
    "def basic_cleaning(data):\n",
    "    # Remove Links\n",
    "    data = [re.sub(r'http\\S+', '', sent) for sent in data]\n",
    "    # Convert to list and remove footer\n",
    "    data = [remove_copyright_footer(sent) for sent in data]\n",
    "    # Fix spaces\n",
    "    data = [sent.strip() for sent in data]\n",
    "    # Remove multiple space and new line characters\n",
    "    data = [re.sub('\\s+', ' ', sent) for sent in data]\n",
    "    # Remove Emails\n",
    "    data = [re.sub('\\S*@\\S*\\s?', '', sent) for sent in data]\n",
    "    # Remove special characters\n",
    "    data = [re.sub(r'[^\\x00-\\x7f]',r'', sent) for sent in data]\n",
    "    # # Remove some punctuations\n",
    "    data = [item.translate(str.maketrans(string.punctuation, ' '*len(string.punctuation))) for item in data]\n",
    "    # Remove multiple space and new line characters\n",
    "    data = [re.sub('\\s+', ' ', sent) for sent in data]\n",
    "    # Remove distracting single quotes\n",
    "    data = [re.sub(\"\\'\", \"\", sent) for sent in data]\n",
    "    # Remove stop words, one word characters, and punctuations\n",
    "    data_words = []\n",
    "    for sent in data:\n",
    "        words = []\n",
    "        for item in sent.split():\n",
    "            if (len(item)>3 or item=='ai') and (item not in stop or item=='ai'):\n",
    "                words.append(item)\n",
    "        data_words.append(' '.join(words))\n",
    "    return list(map(lambda item:item.split(), data_words))"
   ]
  },
  {
   "cell_type": "code",
   "execution_count": 6,
   "metadata": {},
   "outputs": [],
   "source": [
    "# Lemmatization keeping only noun, adj, adv\n",
    "def lemmatization(texts, allowed_postags=['NOUN', 'ADJ', 'ADV']):\n",
    "    texts_out = []\n",
    "    for sent in data_words_bigrams:\n",
    "        doc = nlp(\" \".join(sent))\n",
    "        tokens = [token.lemma_ for token in doc if token.pos_ in allowed_postags]\n",
    "        texts_out.append([word for word in tokens if len(word) >= 3])\n",
    "    return texts_out"
   ]
  },
  {
   "cell_type": "code",
   "execution_count": 7,
   "metadata": {},
   "outputs": [],
   "source": [
    "# Remove copyright parts from articles\n",
    "def remove_copyright_footer(sentence):\n",
    "    sentence = sentence.lower()\n",
    "    sentence = sentence.replace('reproduced with permission of the copyright owner.', '')\n",
    "    sentence = sentence.replace('further reproduction prohibited without permission.', '')\n",
    "    return sentence.replace('further reproduction is prohibited without permission.', '')"
   ]
  },
  {
   "cell_type": "code",
   "execution_count": 8,
   "metadata": {},
   "outputs": [],
   "source": [
    "def compute_coherence_values(dictionary, corpus, texts, limit, start=2, step=3):\n",
    "    \"\"\"\n",
    "    Compute c_v coherence for various number of topics\n",
    "\n",
    "    @param dictionary : Gensim dictionary\n",
    "    @param corpus : Gensim corpus\n",
    "    @param texts : List of input texts\n",
    "    @param limit : Max num of topics\n",
    "\n",
    "    @return model_list : List of LDA topic models\n",
    "    @return coherence_values : Coherence values corresponding to the LDA model with respective number of topics\n",
    "    \"\"\"\n",
    "    model_list = []\n",
    "    c_npmi_values = []\n",
    "    for num_topics in range(start, limit, step):\n",
    "        model = gensim.models.ldamodel.LdaModel(corpus=corpus, id2word=id2word, num_topics=num_topics, random_state=100, update_every=1, chunksize=500, passes=5, alpha='auto', per_word_topics=True)\n",
    "        coherencemodel = CoherenceModel(model=model, texts=texts, dictionary=dictionary, coherence='c_npmi')\n",
    "        c_npmi_values.append(coherencemodel.get_coherence())\n",
    "        model_list.append(model)\n",
    "\n",
    "    return model_list, c_npmi_values"
   ]
  },
  {
   "cell_type": "code",
   "execution_count": 9,
   "metadata": {},
   "outputs": [],
   "source": [
    "# Show graph\n",
    "def draw_graph(start, limit, step, c_npmi):\n",
    "    x = range(start, limit, step)\n",
    "    plt.plot(x, c_npmi)\n",
    "    plt.title(corpus_root)\n",
    "    plt.xlabel(\"Num Topics\")\n",
    "    plt.ylabel(\"Coherence score\")\n",
    "    plt.legend((\"c_npmi\"), loc='best')\n",
    "    plt.show()\n",
    "    # Print the coherence scores\n",
    "    minimum = max(c_npmi)\n",
    "    indices = [i for i, v in enumerate(c_npmi) if v == minimum]\n",
    "    print(\"A maximum {} score of {} was achieved at K={}\".format(\"c_npmi\", minimum, indices[0]+2))\n",
    "    \n",
    "    for m, cv in zip(x, c_npmi):\n",
    "        print(\"Number of topics =\", m, \" has NPMI coherence Value of\", round(cv, 4))\n",
    "    \n",
    "    return indices[0]"
   ]
  },
  {
   "cell_type": "markdown",
   "metadata": {},
   "source": [
    "# 1950-1959"
   ]
  },
  {
   "cell_type": "markdown",
   "metadata": {},
   "source": [
    "## Prepare Data"
   ]
  },
  {
   "cell_type": "code",
   "execution_count": 11,
   "metadata": {},
   "outputs": [],
   "source": [
    "corpus_root = \"CLEANSED/1950-1959\"\n",
    "\n",
    "# Read artciles\n",
    "corpus = PlaintextCorpusReader(corpus_root, '.*txt')\n",
    "rows = []\n",
    "for text in corpus.fileids():\n",
    "    article = corpus.raw(text)\n",
    "    if len(article.split())>=10:\n",
    "        rows.append([article])\n",
    "    \n",
    "# Create dataframe\n",
    "df = pd.DataFrame.from_records(rows, columns=['content'])\n",
    "# Convert to list\n",
    "data_words_list = basic_cleaning(df['content'].values.tolist())"
   ]
  },
  {
   "cell_type": "code",
   "execution_count": 12,
   "metadata": {},
   "outputs": [],
   "source": [
    "# Build the bigram model\n",
    "bigram = gensim.models.Phrases(data_words_list, min_count=5, threshold=100) # higher threshold fewer phrases.\n",
    "bigram_mod = gensim.models.phrases.Phraser(bigram) # Faster way to get a sentence clubbed as a bigram\n",
    "data_words_bigrams = [bigram_mod[doc] for doc in data_words_list] # Form Bigrams"
   ]
  },
  {
   "cell_type": "code",
   "execution_count": 13,
   "metadata": {},
   "outputs": [],
   "source": [
    "# Do lemmatization\n",
    "data_lemmatized = lemmatization(data_words_bigrams)\n",
    "# Remove stop words, one word characters, and punctuations - again\n",
    "final_data = []\n",
    "for sent in data_lemmatized:\n",
    "    words = []\n",
    "    for item in sent:\n",
    "        if (len(item)>3 or item=='ai') and (item not in stop or item=='ai'):\n",
    "            words.append(item)\n",
    "    final_data.append(' '.join(words))\n",
    "data_lemmatized = list(map(lambda item:item.split(), final_data))"
   ]
  },
  {
   "cell_type": "markdown",
   "metadata": {},
   "source": [
    "## Check Coherence"
   ]
  },
  {
   "cell_type": "code",
   "execution_count": 14,
   "metadata": {},
   "outputs": [],
   "source": [
    "# CREATE THE DICTIONARY AND CORPUS NEEDED FOR TOPIC MODELING\n",
    "# Create Dictionary\n",
    "id2word = corpora.Dictionary(data_lemmatized)\n",
    "# Term Document Frequency\n",
    "corpus = [id2word.doc2bow(text) for text in data_lemmatized]\n",
    "\n",
    "# CHECK COHERENCE\n",
    "limit=15; start=2; step=1;\n",
    "model_list, c_npmi = compute_coherence_values(dictionary=id2word, corpus=corpus, \n",
    "                                              texts=data_lemmatized, start=start, \n",
    "                                              limit=limit, step=step)"
   ]
  },
  {
   "cell_type": "code",
   "execution_count": 15,
   "metadata": {},
   "outputs": [
    {
     "data": {
      "image/png": "[encoded data removed]",
      "text/plain": [
       "<Figure size 432x288 with 1 Axes>"
      ]
     },
     "metadata": {
      "needs_background": "light"
     },
     "output_type": "display_data"
    },
    {
     "name": "stdout",
     "output_type": "stream",
     "text": [
      "A maximum c_npmi score of 0.026215262777456554 was achieved at K=2\n",
      "Number of topics = 2  has NPMI coherence Value of 0.0262\n",
      "Number of topics = 3  has NPMI coherence Value of -0.029\n",
      "Number of topics = 4  has NPMI coherence Value of -0.0112\n",
      "Number of topics = 5  has NPMI coherence Value of 0.0142\n",
      "Number of topics = 6  has NPMI coherence Value of 0.0185\n",
      "Number of topics = 7  has NPMI coherence Value of 0.0234\n",
      "Number of topics = 8  has NPMI coherence Value of -0.0161\n",
      "Number of topics = 9  has NPMI coherence Value of -0.0236\n",
      "Number of topics = 10  has NPMI coherence Value of -0.0265\n",
      "Number of topics = 11  has NPMI coherence Value of -0.0769\n",
      "Number of topics = 12  has NPMI coherence Value of -0.0953\n",
      "Number of topics = 13  has NPMI coherence Value of -0.0691\n",
      "Number of topics = 14  has NPMI coherence Value of -0.0811\n"
     ]
    }
   ],
   "source": [
    "best_model_index = draw_graph(start, limit, step, c_npmi)"
   ]
  },
  {
   "cell_type": "markdown",
   "metadata": {},
   "source": [
    "## Save Final Model & Output"
   ]
  },
  {
   "cell_type": "code",
   "execution_count": 16,
   "metadata": {},
   "outputs": [
    {
     "name": "stdout",
     "output_type": "stream",
     "text": [
      "********************FINISHED 1950-1959********************\n"
     ]
    }
   ],
   "source": [
    "lda_model = model_list[best_model_index]\n",
    "coherence_lda = c_npmi[best_model_index]\n",
    "doc_lda = lda_model[corpus]\n",
    "    \n",
    "# Compute Perplexity - a measure of how good the model is; Lower the better.\n",
    "perplexity = lda_model.log_perplexity(corpus)\n",
    "\n",
    "# Write the results to a file\n",
    "file_name = corpus_root.split(\"/\")[1]\n",
    "with open('LDA/'+file_name+'.txt', 'w') as f:\n",
    "    f.write(\"Perplexity: \"+str(perplexity)+\"\\nCoherence Score: \"+str(coherence_lda))\n",
    "\n",
    "# Save the visualizations\n",
    "vis = pyLDAvis.gensim_models.prepare(lda_model, corpus, id2word)\n",
    "pyLDAvis.save_html(vis, 'LDA/'+file_name+'.html')\n",
    "\n",
    "print(\"*\"*20+\"FINISHED \"+corpus_root.split(\"/\")[1]+\"*\"*20)"
   ]
  },
  {
   "cell_type": "markdown",
   "metadata": {},
   "source": [
    "# 1960-1969"
   ]
  },
  {
   "cell_type": "markdown",
   "metadata": {},
   "source": [
    "## Prepare Data"
   ]
  },
  {
   "cell_type": "code",
   "execution_count": 17,
   "metadata": {},
   "outputs": [],
   "source": [
    "corpus_root = \"CLEANSED/1960-1969\"\n",
    "\n",
    "# Read artciles\n",
    "corpus = PlaintextCorpusReader(corpus_root, '.*txt')\n",
    "rows = []\n",
    "for text in corpus.fileids():\n",
    "    article = corpus.raw(text)\n",
    "    if len(article.split())>=10:\n",
    "        rows.append([article])\n",
    "    \n",
    "# Create dataframe\n",
    "df = pd.DataFrame.from_records(rows, columns=['content'])\n",
    "# Convert to list\n",
    "data_words_list = basic_cleaning(df['content'].values.tolist())"
   ]
  },
  {
   "cell_type": "code",
   "execution_count": 18,
   "metadata": {},
   "outputs": [],
   "source": [
    "# Build the bigram model\n",
    "bigram = gensim.models.Phrases(data_words_list, min_count=5, threshold=100) # higher threshold fewer phrases.\n",
    "bigram_mod = gensim.models.phrases.Phraser(bigram) # Faster way to get a sentence clubbed as a bigram\n",
    "data_words_bigrams = [bigram_mod[doc] for doc in data_words_list] # Form Bigrams"
   ]
  },
  {
   "cell_type": "code",
   "execution_count": 19,
   "metadata": {},
   "outputs": [],
   "source": [
    "# Do lemmatization\n",
    "data_lemmatized = lemmatization(data_words_bigrams)\n",
    "# Remove stop words, one word characters, and punctuations - again\n",
    "final_data = []\n",
    "for sent in data_lemmatized:\n",
    "    words = []\n",
    "    for item in sent:\n",
    "        if (len(item)>3 or item=='ai') and (item not in stop or item=='ai'):\n",
    "            words.append(item)\n",
    "    final_data.append(' '.join(words))\n",
    "data_lemmatized = list(map(lambda item:item.split(), final_data))"
   ]
  },
  {
   "cell_type": "markdown",
   "metadata": {},
   "source": [
    "## Check Coherence"
   ]
  },
  {
   "cell_type": "code",
   "execution_count": 20,
   "metadata": {},
   "outputs": [],
   "source": [
    "# CREATE THE DICTIONARY AND CORPUS NEEDED FOR TOPIC MODELING\n",
    "# Create Dictionary\n",
    "id2word = corpora.Dictionary(data_lemmatized)\n",
    "# Term Document Frequency\n",
    "corpus = [id2word.doc2bow(text) for text in data_lemmatized]\n",
    "\n",
    "# CHECK COHERENCE\n",
    "limit=15; start=2; step=1;\n",
    "model_list, c_npmi = compute_coherence_values(dictionary=id2word, corpus=corpus, \n",
    "                                              texts=data_lemmatized, start=start, \n",
    "                                              limit=limit, step=step)"
   ]
  },
  {
   "cell_type": "code",
   "execution_count": 21,
   "metadata": {},
   "outputs": [
    {
     "data": {
      "image/png": "[encoded data removed]",
      "text/plain": [
       "<Figure size 432x288 with 1 Axes>"
      ]
     },
     "metadata": {
      "needs_background": "light"
     },
     "output_type": "display_data"
    },
    {
     "name": "stdout",
     "output_type": "stream",
     "text": [
      "A maximum c_npmi score of 0.05086341502398273 was achieved at K=3\n",
      "Number of topics = 2  has NPMI coherence Value of 0.0312\n",
      "Number of topics = 3  has NPMI coherence Value of 0.0509\n",
      "Number of topics = 4  has NPMI coherence Value of 0.0502\n",
      "Number of topics = 5  has NPMI coherence Value of 0.0392\n",
      "Number of topics = 6  has NPMI coherence Value of 0.0303\n",
      "Number of topics = 7  has NPMI coherence Value of 0.0314\n",
      "Number of topics = 8  has NPMI coherence Value of 0.0308\n",
      "Number of topics = 9  has NPMI coherence Value of 0.0374\n",
      "Number of topics = 10  has NPMI coherence Value of -0.0166\n",
      "Number of topics = 11  has NPMI coherence Value of -0.016\n",
      "Number of topics = 12  has NPMI coherence Value of 0.0006\n",
      "Number of topics = 13  has NPMI coherence Value of -0.0236\n",
      "Number of topics = 14  has NPMI coherence Value of -0.0381\n"
     ]
    }
   ],
   "source": [
    "best_model_index = draw_graph(start, limit, step, c_npmi)"
   ]
  },
  {
   "cell_type": "markdown",
   "metadata": {},
   "source": [
    "## Save Final Model & Output"
   ]
  },
  {
   "cell_type": "code",
   "execution_count": 22,
   "metadata": {},
   "outputs": [
    {
     "name": "stdout",
     "output_type": "stream",
     "text": [
      "********************FINISHED 1960-1969********************\n"
     ]
    }
   ],
   "source": [
    "lda_model = model_list[best_model_index]\n",
    "coherence_lda = c_npmi[best_model_index]\n",
    "doc_lda = lda_model[corpus]\n",
    "    \n",
    "# Compute Perplexity - a measure of how good the model is; Lower the better.\n",
    "perplexity = lda_model.log_perplexity(corpus)\n",
    "\n",
    "# Write the results to a file\n",
    "file_name = corpus_root.split(\"/\")[1]\n",
    "with open('LDA/'+file_name+'.txt', 'w') as f:\n",
    "    f.write(\"Perplexity: \"+str(perplexity)+\"\\nCoherence Score: \"+str(coherence_lda))\n",
    "\n",
    "# Save the visualizations\n",
    "vis = pyLDAvis.gensim_models.prepare(lda_model, corpus, id2word)\n",
    "pyLDAvis.save_html(vis, 'LDA/'+file_name+'.html')\n",
    "\n",
    "print(\"*\"*20+\"FINISHED \"+corpus_root.split(\"/\")[1]+\"*\"*20)"
   ]
  },
  {
   "cell_type": "markdown",
   "metadata": {},
   "source": [
    "# 1970-1979"
   ]
  },
  {
   "cell_type": "markdown",
   "metadata": {},
   "source": [
    "## Prepare Data"
   ]
  },
  {
   "cell_type": "code",
   "execution_count": 30,
   "metadata": {},
   "outputs": [],
   "source": [
    "corpus_root = \"CLEANSED/1970-1979\"\n",
    "\n",
    "# Read artciles\n",
    "corpus = PlaintextCorpusReader(corpus_root, '.*txt')\n",
    "rows = []\n",
    "for text in corpus.fileids():\n",
    "    article = corpus.raw(text)\n",
    "    if len(article.split())>=10:\n",
    "        rows.append([article])\n",
    "    \n",
    "# Create dataframe\n",
    "df = pd.DataFrame.from_records(rows, columns=['content'])\n",
    "# Convert to list\n",
    "data_words_list = basic_cleaning(df['content'].values.tolist())"
   ]
  },
  {
   "cell_type": "code",
   "execution_count": 31,
   "metadata": {},
   "outputs": [],
   "source": [
    "# Build the bigram model\n",
    "bigram = gensim.models.Phrases(data_words_list, min_count=5, threshold=100) # higher threshold fewer phrases.\n",
    "bigram_mod = gensim.models.phrases.Phraser(bigram) # Faster way to get a sentence clubbed as a bigram\n",
    "data_words_bigrams = [bigram_mod[doc] for doc in data_words_list] # Form Bigrams"
   ]
  },
  {
   "cell_type": "code",
   "execution_count": 32,
   "metadata": {},
   "outputs": [],
   "source": [
    "# Do lemmatization\n",
    "data_lemmatized = lemmatization(data_words_bigrams)\n",
    "# Remove stop words, one word characters, and punctuations - again\n",
    "final_data = []\n",
    "for sent in data_lemmatized:\n",
    "    words = []\n",
    "    for item in sent:\n",
    "        if (len(item)>3 or item=='ai') and (item not in stop or item=='ai'):\n",
    "            words.append(item)\n",
    "    final_data.append(' '.join(words))\n",
    "data_lemmatized = list(map(lambda item:item.split(), final_data))"
   ]
  },
  {
   "cell_type": "markdown",
   "metadata": {},
   "source": [
    "## Check Coherence"
   ]
  },
  {
   "cell_type": "code",
   "execution_count": 33,
   "metadata": {},
   "outputs": [
    {
     "name": "stderr",
     "output_type": "stream",
     "text": [
      "2022-08-14 07:02:25,142 : ERROR : worker encountered unexpected exception\n",
      "Traceback (most recent call last):\n",
      "  File \"/opt/conda/lib/python3.7/site-packages/gensim/topic_coherence/text_analysis.py\", line 561, in run\n",
      "    self._run()\n",
      "  File \"/opt/conda/lib/python3.7/site-packages/gensim/topic_coherence/text_analysis.py\", line 581, in _run\n",
      "    self.accumulator.partial_accumulate(docs, self.window_size)\n",
      "  File \"/opt/conda/lib/python3.7/site-packages/gensim/topic_coherence/text_analysis.py\", line 353, in partial_accumulate\n",
      "    super(WordOccurrenceAccumulator, self).accumulate(texts, window_size)\n",
      "  File \"/opt/conda/lib/python3.7/site-packages/gensim/topic_coherence/text_analysis.py\", line 296, in accumulate\n",
      "    self.analyze_text(virtual_document, doc_num)\n",
      "  File \"/opt/conda/lib/python3.7/site-packages/gensim/topic_coherence/text_analysis.py\", line 360, in analyze_text\n",
      "    self._slide_window(window, doc_num)\n",
      "  File \"/opt/conda/lib/python3.7/site-packages/gensim/topic_coherence/text_analysis.py\", line 375, in _slide_window\n",
      "    self._token_at_edge = window[0]\n",
      "IndexError: index 0 is out of bounds for axis 0 with size 0\n"
     ]
    }
   ],
   "source": [
    "# CREATE THE DICTIONARY AND CORPUS NEEDED FOR TOPIC MODELING\n",
    "# Create Dictionary\n",
    "id2word = corpora.Dictionary(data_lemmatized)\n",
    "# Term Document Frequency\n",
    "corpus = [id2word.doc2bow(text) for text in data_lemmatized]\n",
    "\n",
    "# CHECK COHERENCE\n",
    "limit=15; start=2; step=1;\n",
    "model_list, c_npmi = compute_coherence_values(dictionary=id2word, corpus=corpus, \n",
    "                                              texts=data_lemmatized, start=start, \n",
    "                                              limit=limit, step=step)"
   ]
  },
  {
   "cell_type": "code",
   "execution_count": 34,
   "metadata": {},
   "outputs": [
    {
     "data": {
      "image/png": "[encoded data removed]",
      "text/plain": [
       "<Figure size 432x288 with 1 Axes>"
      ]
     },
     "metadata": {
      "needs_background": "light"
     },
     "output_type": "display_data"
    },
    {
     "name": "stdout",
     "output_type": "stream",
     "text": [
      "A maximum c_npmi score of 0.06140699507140084 was achieved at K=6\n",
      "Number of topics = 2  has NPMI coherence Value of -0.0565\n",
      "Number of topics = 3  has NPMI coherence Value of -0.011\n",
      "Number of topics = 4  has NPMI coherence Value of -0.0021\n",
      "Number of topics = 5  has NPMI coherence Value of 0.0357\n",
      "Number of topics = 6  has NPMI coherence Value of 0.0614\n",
      "Number of topics = 7  has NPMI coherence Value of 0.0477\n",
      "Number of topics = 8  has NPMI coherence Value of -0.0099\n",
      "Number of topics = 9  has NPMI coherence Value of -0.005\n",
      "Number of topics = 10  has NPMI coherence Value of -0.0132\n",
      "Number of topics = 11  has NPMI coherence Value of -0.021\n",
      "Number of topics = 12  has NPMI coherence Value of -0.0607\n",
      "Number of topics = 13  has NPMI coherence Value of -0.0253\n",
      "Number of topics = 14  has NPMI coherence Value of -0.0514\n"
     ]
    }
   ],
   "source": [
    "best_model_index = draw_graph(start, limit, step, c_npmi)"
   ]
  },
  {
   "cell_type": "markdown",
   "metadata": {},
   "source": [
    "## Save Final Model & Output"
   ]
  },
  {
   "cell_type": "code",
   "execution_count": 35,
   "metadata": {},
   "outputs": [
    {
     "name": "stdout",
     "output_type": "stream",
     "text": [
      "********************FINISHED 1970-1979********************\n"
     ]
    }
   ],
   "source": [
    "lda_model = model_list[best_model_index]\n",
    "coherence_lda = c_npmi[best_model_index]\n",
    "doc_lda = lda_model[corpus]\n",
    "    \n",
    "# Compute Perplexity - a measure of how good the model is; Lower the better.\n",
    "perplexity = lda_model.log_perplexity(corpus)\n",
    "\n",
    "# Write the results to a file\n",
    "file_name = corpus_root.split(\"/\")[1]\n",
    "with open('LDA/'+file_name+'.txt', 'w') as f:\n",
    "    f.write(\"Perplexity: \"+str(perplexity)+\"\\nCoherence Score: \"+str(coherence_lda))\n",
    "\n",
    "# Save the visualizations\n",
    "vis = pyLDAvis.gensim_models.prepare(lda_model, corpus, id2word)\n",
    "pyLDAvis.save_html(vis, 'LDA/'+file_name+'.html')\n",
    "\n",
    "print(\"*\"*20+\"FINISHED \"+corpus_root.split(\"/\")[1]+\"*\"*20)"
   ]
  },
  {
   "cell_type": "markdown",
   "metadata": {},
   "source": [
    "# 1980-1989"
   ]
  },
  {
   "cell_type": "markdown",
   "metadata": {},
   "source": [
    "## Prepare Data"
   ]
  },
  {
   "cell_type": "code",
   "execution_count": 27,
   "metadata": {},
   "outputs": [],
   "source": [
    "corpus_root = \"CLEANSED/1980-1989\"\n",
    "\n",
    "# Read artciles\n",
    "corpus = PlaintextCorpusReader(corpus_root, '.*txt')\n",
    "rows = []\n",
    "for text in corpus.fileids():\n",
    "    article = corpus.raw(text)\n",
    "    if len(article.split())>=10:\n",
    "        rows.append([article])\n",
    "    \n",
    "# Create dataframe\n",
    "df = pd.DataFrame.from_records(rows, columns=['content'])\n",
    "# Convert to list\n",
    "data_words_list = basic_cleaning(df['content'].values.tolist())"
   ]
  },
  {
   "cell_type": "code",
   "execution_count": 28,
   "metadata": {},
   "outputs": [],
   "source": [
    "# Build the bigram model\n",
    "bigram = gensim.models.Phrases(data_words_list, min_count=5, threshold=100) # higher threshold fewer phrases.\n",
    "bigram_mod = gensim.models.phrases.Phraser(bigram) # Faster way to get a sentence clubbed as a bigram\n",
    "data_words_bigrams = [bigram_mod[doc] for doc in data_words_list] # Form Bigrams"
   ]
  },
  {
   "cell_type": "code",
   "execution_count": 29,
   "metadata": {},
   "outputs": [],
   "source": [
    "# Do lemmatization\n",
    "data_lemmatized = lemmatization(data_words_bigrams)\n",
    "# Remove stop words, one word characters, and punctuations - again\n",
    "final_data = []\n",
    "for sent in data_lemmatized:\n",
    "    words = []\n",
    "    for item in sent:\n",
    "        if (len(item)>3 or item=='ai') and (item not in stop or item=='ai'):\n",
    "            words.append(item)\n",
    "    final_data.append(' '.join(words))\n",
    "data_lemmatized = list(map(lambda item:item.split(), final_data))"
   ]
  },
  {
   "cell_type": "markdown",
   "metadata": {},
   "source": [
    "## Check Coherence"
   ]
  },
  {
   "cell_type": "code",
   "execution_count": 30,
   "metadata": {},
   "outputs": [],
   "source": [
    "# CREATE THE DICTIONARY AND CORPUS NEEDED FOR TOPIC MODELING\n",
    "# Create Dictionary\n",
    "id2word = corpora.Dictionary(data_lemmatized)\n",
    "# Term Document Frequency\n",
    "corpus = [id2word.doc2bow(text) for text in data_lemmatized]\n",
    "\n",
    "# CHECK COHERENCE\n",
    "limit=15; start=2; step=1;\n",
    "model_list, c_npmi = compute_coherence_values(dictionary=id2word, corpus=corpus, \n",
    "                                              texts=data_lemmatized, start=start, \n",
    "                                              limit=limit, step=step)"
   ]
  },
  {
   "cell_type": "code",
   "execution_count": 31,
   "metadata": {},
   "outputs": [
    {
     "data": {
      "image/png": "[encoded data removed]",
      "text/plain": [
       "<Figure size 432x288 with 1 Axes>"
      ]
     },
     "metadata": {
      "needs_background": "light"
     },
     "output_type": "display_data"
    },
    {
     "name": "stdout",
     "output_type": "stream",
     "text": [
      "A maximum c_npmi score of 0.014934924834056234 was achieved at K=6\n",
      "Number of topics = 2  has NPMI coherence Value of -0.0185\n",
      "Number of topics = 3  has NPMI coherence Value of 0.0032\n",
      "Number of topics = 4  has NPMI coherence Value of 0.011\n",
      "Number of topics = 5  has NPMI coherence Value of 0.0096\n",
      "Number of topics = 6  has NPMI coherence Value of 0.0149\n",
      "Number of topics = 7  has NPMI coherence Value of 0.0146\n",
      "Number of topics = 8  has NPMI coherence Value of -0.0044\n",
      "Number of topics = 9  has NPMI coherence Value of -0.0113\n",
      "Number of topics = 10  has NPMI coherence Value of -0.0012\n",
      "Number of topics = 11  has NPMI coherence Value of -0.0599\n",
      "Number of topics = 12  has NPMI coherence Value of -0.0203\n",
      "Number of topics = 13  has NPMI coherence Value of -0.0436\n",
      "Number of topics = 14  has NPMI coherence Value of -0.0419\n"
     ]
    }
   ],
   "source": [
    "best_model_index = draw_graph(start, limit, step, c_npmi)"
   ]
  },
  {
   "cell_type": "markdown",
   "metadata": {},
   "source": [
    "## Save Final Model & Output"
   ]
  },
  {
   "cell_type": "code",
   "execution_count": 32,
   "metadata": {},
   "outputs": [
    {
     "name": "stdout",
     "output_type": "stream",
     "text": [
      "********************FINISHED 1980-1989********************\n"
     ]
    }
   ],
   "source": [
    "lda_model = model_list[best_model_index]\n",
    "coherence_lda = c_npmi[best_model_index]\n",
    "doc_lda = lda_model[corpus]\n",
    "    \n",
    "# Compute Perplexity - a measure of how good the model is; Lower the better.\n",
    "perplexity = lda_model.log_perplexity(corpus)\n",
    "\n",
    "# Write the results to a file\n",
    "file_name = corpus_root.split(\"/\")[1]\n",
    "with open('LDA/'+file_name+'.txt', 'w') as f:\n",
    "    f.write(\"Perplexity: \"+str(perplexity)+\"\\nCoherence Score: \"+str(coherence_lda))\n",
    "\n",
    "# Save the visualizations\n",
    "vis = pyLDAvis.gensim_models.prepare(lda_model, corpus, id2word)\n",
    "pyLDAvis.save_html(vis, 'LDA/'+file_name+'.html')\n",
    "\n",
    "print(\"*\"*20+\"FINISHED \"+corpus_root.split(\"/\")[1]+\"*\"*20)"
   ]
  },
  {
   "cell_type": "markdown",
   "metadata": {},
   "source": [
    "# 1990-1999"
   ]
  },
  {
   "cell_type": "markdown",
   "metadata": {},
   "source": [
    "## Prepare Data"
   ]
  },
  {
   "cell_type": "code",
   "execution_count": 33,
   "metadata": {},
   "outputs": [],
   "source": [
    "corpus_root = \"CLEANSED/1990-1999\"\n",
    "\n",
    "# Read artciles\n",
    "corpus = PlaintextCorpusReader(corpus_root, '.*txt')\n",
    "rows = []\n",
    "for text in corpus.fileids():\n",
    "    article = corpus.raw(text)\n",
    "    if len(article.split())>=10:\n",
    "        rows.append([article])\n",
    "    \n",
    "# Create dataframe\n",
    "df = pd.DataFrame.from_records(rows, columns=['content'])\n",
    "# Convert to list\n",
    "data_words_list = basic_cleaning(df['content'].values.tolist())"
   ]
  },
  {
   "cell_type": "code",
   "execution_count": 34,
   "metadata": {},
   "outputs": [],
   "source": [
    "# Build the bigram model\n",
    "bigram = gensim.models.Phrases(data_words_list, min_count=5, threshold=100) # higher threshold fewer phrases.\n",
    "bigram_mod = gensim.models.phrases.Phraser(bigram) # Faster way to get a sentence clubbed as a bigram\n",
    "data_words_bigrams = [bigram_mod[doc] for doc in data_words_list] # Form Bigrams"
   ]
  },
  {
   "cell_type": "code",
   "execution_count": 35,
   "metadata": {},
   "outputs": [],
   "source": [
    "# Do lemmatization\n",
    "data_lemmatized = lemmatization(data_words_bigrams)\n",
    "# Remove stop words, one word characters, and punctuations - again\n",
    "final_data = []\n",
    "for sent in data_lemmatized:\n",
    "    words = []\n",
    "    for item in sent:\n",
    "        if (len(item)>3 or item=='ai') and (item not in stop or item=='ai'):\n",
    "            words.append(item)\n",
    "    final_data.append(' '.join(words))\n",
    "data_lemmatized = list(map(lambda item:item.split(), final_data))"
   ]
  },
  {
   "cell_type": "markdown",
   "metadata": {},
   "source": [
    "## Check Coherence"
   ]
  },
  {
   "cell_type": "code",
   "execution_count": 36,
   "metadata": {},
   "outputs": [],
   "source": [
    "# CREATE THE DICTIONARY AND CORPUS NEEDED FOR TOPIC MODELING\n",
    "# Create Dictionary\n",
    "id2word = corpora.Dictionary(data_lemmatized)\n",
    "# Term Document Frequency\n",
    "corpus = [id2word.doc2bow(text) for text in data_lemmatized]\n",
    "\n",
    "# CHECK COHERENCE\n",
    "limit=15; start=2; step=1;\n",
    "model_list, c_npmi = compute_coherence_values(dictionary=id2word, corpus=corpus, \n",
    "                                              texts=data_lemmatized, start=start, \n",
    "                                              limit=limit, step=step)"
   ]
  },
  {
   "cell_type": "code",
   "execution_count": 37,
   "metadata": {},
   "outputs": [
    {
     "data": {
      "image/png": "[encoded data removed]",
      "text/plain": [
       "<Figure size 432x288 with 1 Axes>"
      ]
     },
     "metadata": {
      "needs_background": "light"
     },
     "output_type": "display_data"
    },
    {
     "name": "stdout",
     "output_type": "stream",
     "text": [
      "A maximum c_npmi score of 0.0033318483429155303 was achieved at K=2\n",
      "Number of topics = 2  has NPMI coherence Value of 0.0033\n",
      "Number of topics = 3  has NPMI coherence Value of 0.0029\n",
      "Number of topics = 4  has NPMI coherence Value of -0.0026\n",
      "Number of topics = 5  has NPMI coherence Value of -0.0016\n",
      "Number of topics = 6  has NPMI coherence Value of -0.0022\n",
      "Number of topics = 7  has NPMI coherence Value of -0.0336\n",
      "Number of topics = 8  has NPMI coherence Value of -0.0891\n",
      "Number of topics = 9  has NPMI coherence Value of -0.0595\n",
      "Number of topics = 10  has NPMI coherence Value of -0.0725\n",
      "Number of topics = 11  has NPMI coherence Value of -0.0665\n",
      "Number of topics = 12  has NPMI coherence Value of -0.0329\n",
      "Number of topics = 13  has NPMI coherence Value of -0.0561\n",
      "Number of topics = 14  has NPMI coherence Value of -0.0628\n"
     ]
    }
   ],
   "source": [
    "best_model_index = draw_graph(start, limit, step, c_npmi)"
   ]
  },
  {
   "cell_type": "markdown",
   "metadata": {},
   "source": [
    "## Save Final Model & Output"
   ]
  },
  {
   "cell_type": "code",
   "execution_count": 38,
   "metadata": {},
   "outputs": [
    {
     "name": "stdout",
     "output_type": "stream",
     "text": [
      "********************FINISHED 1990-1999********************\n"
     ]
    }
   ],
   "source": [
    "lda_model = model_list[best_model_index]\n",
    "coherence_lda = c_npmi[best_model_index]\n",
    "doc_lda = lda_model[corpus]\n",
    "    \n",
    "# Compute Perplexity - a measure of how good the model is; Lower the better.\n",
    "perplexity = lda_model.log_perplexity(corpus)\n",
    "\n",
    "# Write the results to a file\n",
    "file_name = corpus_root.split(\"/\")[1]\n",
    "with open('LDA/'+file_name+'.txt', 'w') as f:\n",
    "    f.write(\"Perplexity: \"+str(perplexity)+\"\\nCoherence Score: \"+str(coherence_lda))\n",
    "\n",
    "# Save the visualizations\n",
    "vis = pyLDAvis.gensim_models.prepare(lda_model, corpus, id2word)\n",
    "pyLDAvis.save_html(vis, 'LDA/'+file_name+'.html')\n",
    "\n",
    "print(\"*\"*20+\"FINISHED \"+corpus_root.split(\"/\")[1]+\"*\"*20)"
   ]
  },
  {
   "cell_type": "markdown",
   "metadata": {},
   "source": [
    "# 2000-2009"
   ]
  },
  {
   "cell_type": "markdown",
   "metadata": {},
   "source": [
    "## Prepare Data"
   ]
  },
  {
   "cell_type": "code",
   "execution_count": 39,
   "metadata": {},
   "outputs": [],
   "source": [
    "corpus_root = \"CLEANSED/2000-2009\"\n",
    "\n",
    "# Read artciles\n",
    "corpus = PlaintextCorpusReader(corpus_root, '.*txt')\n",
    "rows = []\n",
    "for text in corpus.fileids():\n",
    "    article = corpus.raw(text)\n",
    "    if len(article.split())>=10:\n",
    "        rows.append([article])\n",
    "    \n",
    "# Create dataframe\n",
    "df = pd.DataFrame.from_records(rows, columns=['content'])\n",
    "# Convert to list\n",
    "data_words_list = basic_cleaning(df['content'].values.tolist())"
   ]
  },
  {
   "cell_type": "code",
   "execution_count": 40,
   "metadata": {},
   "outputs": [],
   "source": [
    "# Build the bigram model\n",
    "bigram = gensim.models.Phrases(data_words_list, min_count=5, threshold=100) # higher threshold fewer phrases.\n",
    "bigram_mod = gensim.models.phrases.Phraser(bigram) # Faster way to get a sentence clubbed as a bigram\n",
    "data_words_bigrams = [bigram_mod[doc] for doc in data_words_list] # Form Bigrams"
   ]
  },
  {
   "cell_type": "code",
   "execution_count": 41,
   "metadata": {},
   "outputs": [],
   "source": [
    "# Do lemmatization\n",
    "data_lemmatized = lemmatization(data_words_bigrams)\n",
    "# Remove stop words, one word characters, and punctuations - again\n",
    "final_data = []\n",
    "for sent in data_lemmatized:\n",
    "    words = []\n",
    "    for item in sent:\n",
    "        if (len(item)>3 or item=='ai') and (item not in stop or item=='ai'):\n",
    "            words.append(item)\n",
    "    final_data.append(' '.join(words))\n",
    "data_lemmatized = list(map(lambda item:item.split(), final_data))"
   ]
  },
  {
   "cell_type": "markdown",
   "metadata": {},
   "source": [
    "## Check Coherence"
   ]
  },
  {
   "cell_type": "code",
   "execution_count": 42,
   "metadata": {},
   "outputs": [],
   "source": [
    "# CREATE THE DICTIONARY AND CORPUS NEEDED FOR TOPIC MODELING\n",
    "# Create Dictionary\n",
    "id2word = corpora.Dictionary(data_lemmatized)\n",
    "# Term Document Frequency\n",
    "corpus = [id2word.doc2bow(text) for text in data_lemmatized]\n",
    "\n",
    "# CHECK COHERENCE\n",
    "limit=15; start=2; step=1;\n",
    "model_list, c_npmi = compute_coherence_values(dictionary=id2word, corpus=corpus, \n",
    "                                              texts=data_lemmatized, start=start, \n",
    "                                              limit=limit, step=step)"
   ]
  },
  {
   "cell_type": "code",
   "execution_count": 43,
   "metadata": {},
   "outputs": [
    {
     "data": {
      "image/png": "[encoded data removed]",
      "text/plain": [
       "<Figure size 432x288 with 1 Axes>"
      ]
     },
     "metadata": {
      "needs_background": "light"
     },
     "output_type": "display_data"
    },
    {
     "name": "stdout",
     "output_type": "stream",
     "text": [
      "A maximum c_npmi score of 0.012880097263677453 was achieved at K=2\n",
      "Number of topics = 2  has NPMI coherence Value of 0.0129\n",
      "Number of topics = 3  has NPMI coherence Value of -0.002\n",
      "Number of topics = 4  has NPMI coherence Value of -0.0057\n",
      "Number of topics = 5  has NPMI coherence Value of 0.001\n",
      "Number of topics = 6  has NPMI coherence Value of 0.0041\n",
      "Number of topics = 7  has NPMI coherence Value of 0.0034\n",
      "Number of topics = 8  has NPMI coherence Value of -0.0237\n",
      "Number of topics = 9  has NPMI coherence Value of -0.0425\n",
      "Number of topics = 10  has NPMI coherence Value of -0.0257\n",
      "Number of topics = 11  has NPMI coherence Value of -0.0332\n",
      "Number of topics = 12  has NPMI coherence Value of -0.023\n",
      "Number of topics = 13  has NPMI coherence Value of -0.0291\n",
      "Number of topics = 14  has NPMI coherence Value of -0.0375\n"
     ]
    }
   ],
   "source": [
    "best_model_index = draw_graph(start, limit, step, c_npmi)"
   ]
  },
  {
   "cell_type": "markdown",
   "metadata": {},
   "source": [
    "## Save Final Model & Output"
   ]
  },
  {
   "cell_type": "code",
   "execution_count": 44,
   "metadata": {},
   "outputs": [
    {
     "name": "stdout",
     "output_type": "stream",
     "text": [
      "********************FINISHED 2000-2009********************\n"
     ]
    }
   ],
   "source": [
    "lda_model = model_list[best_model_index]\n",
    "coherence_lda = c_npmi[best_model_index]\n",
    "doc_lda = lda_model[corpus]\n",
    "    \n",
    "# Compute Perplexity - a measure of how good the model is; Lower the better.\n",
    "perplexity = lda_model.log_perplexity(corpus)\n",
    "\n",
    "# Write the results to a file\n",
    "file_name = corpus_root.split(\"/\")[1]\n",
    "with open('LDA/'+file_name+'.txt', 'w') as f:\n",
    "    f.write(\"Perplexity: \"+str(perplexity)+\"\\nCoherence Score: \"+str(coherence_lda))\n",
    "\n",
    "# Save the visualizations\n",
    "vis = pyLDAvis.gensim_models.prepare(lda_model, corpus, id2word)\n",
    "pyLDAvis.save_html(vis, 'LDA/'+file_name+'.html')\n",
    "\n",
    "print(\"*\"*20+\"FINISHED \"+corpus_root.split(\"/\")[1]+\"*\"*20)"
   ]
  },
  {
   "cell_type": "markdown",
   "metadata": {},
   "source": [
    "# 2010-2019"
   ]
  },
  {
   "cell_type": "markdown",
   "metadata": {},
   "source": [
    "## Prepare Data"
   ]
  },
  {
   "cell_type": "code",
   "execution_count": 45,
   "metadata": {},
   "outputs": [],
   "source": [
    "corpus_root = \"CLEANSED/2010-2019\"\n",
    "\n",
    "# Read artciles\n",
    "corpus = PlaintextCorpusReader(corpus_root, '.*txt')\n",
    "rows = []\n",
    "for text in corpus.fileids():\n",
    "    article = corpus.raw(text)\n",
    "    if len(article.split())>=10:\n",
    "        rows.append([article])\n",
    "    \n",
    "# Create dataframe\n",
    "df = pd.DataFrame.from_records(rows, columns=['content'])\n",
    "# Convert to list\n",
    "data_words_list = basic_cleaning(df['content'].values.tolist())"
   ]
  },
  {
   "cell_type": "code",
   "execution_count": 46,
   "metadata": {},
   "outputs": [],
   "source": [
    "# Build the bigram model\n",
    "bigram = gensim.models.Phrases(data_words_list, min_count=5, threshold=100) # higher threshold fewer phrases.\n",
    "bigram_mod = gensim.models.phrases.Phraser(bigram) # Faster way to get a sentence clubbed as a bigram\n",
    "data_words_bigrams = [bigram_mod[doc] for doc in data_words_list] # Form Bigrams"
   ]
  },
  {
   "cell_type": "code",
   "execution_count": 47,
   "metadata": {},
   "outputs": [],
   "source": [
    "# Do lemmatization\n",
    "data_lemmatized = lemmatization(data_words_bigrams)\n",
    "# Remove stop words, one word characters, and punctuations - again\n",
    "final_data = []\n",
    "for sent in data_lemmatized:\n",
    "    words = []\n",
    "    for item in sent:\n",
    "        if (len(item)>3 or item=='ai') and (item not in stop or item=='ai'):\n",
    "            words.append(item)\n",
    "    final_data.append(' '.join(words))\n",
    "data_lemmatized = list(map(lambda item:item.split(), final_data))"
   ]
  },
  {
   "cell_type": "markdown",
   "metadata": {},
   "source": [
    "## Check Coherence"
   ]
  },
  {
   "cell_type": "code",
   "execution_count": 48,
   "metadata": {},
   "outputs": [],
   "source": [
    "# CREATE THE DICTIONARY AND CORPUS NEEDED FOR TOPIC MODELING\n",
    "# Create Dictionary\n",
    "id2word = corpora.Dictionary(data_lemmatized)\n",
    "# Term Document Frequency\n",
    "corpus = [id2word.doc2bow(text) for text in data_lemmatized]\n",
    "\n",
    "# CHECK COHERENCE\n",
    "limit=15; start=2; step=1;\n",
    "model_list, c_npmi = compute_coherence_values(dictionary=id2word, corpus=corpus, \n",
    "                                              texts=data_lemmatized, start=start, \n",
    "                                              limit=limit, step=step)"
   ]
  },
  {
   "cell_type": "code",
   "execution_count": 49,
   "metadata": {},
   "outputs": [
    {
     "data": {
      "image/png": "[encoded data removed]",
      "text/plain": [
       "<Figure size 432x288 with 1 Axes>"
      ]
     },
     "metadata": {
      "needs_background": "light"
     },
     "output_type": "display_data"
    },
    {
     "name": "stdout",
     "output_type": "stream",
     "text": [
      "A maximum c_npmi score of 0.04324810303301451 was achieved at K=14\n",
      "Number of topics = 2  has NPMI coherence Value of 0.0211\n",
      "Number of topics = 3  has NPMI coherence Value of 0.0178\n",
      "Number of topics = 4  has NPMI coherence Value of 0.0198\n",
      "Number of topics = 5  has NPMI coherence Value of 0.0171\n",
      "Number of topics = 6  has NPMI coherence Value of -0.0043\n",
      "Number of topics = 7  has NPMI coherence Value of -0.0117\n",
      "Number of topics = 8  has NPMI coherence Value of 0.0196\n",
      "Number of topics = 9  has NPMI coherence Value of 0.0111\n",
      "Number of topics = 10  has NPMI coherence Value of 0.0262\n",
      "Number of topics = 11  has NPMI coherence Value of 0.0237\n",
      "Number of topics = 12  has NPMI coherence Value of 0.0137\n",
      "Number of topics = 13  has NPMI coherence Value of 0.0371\n",
      "Number of topics = 14  has NPMI coherence Value of 0.0432\n"
     ]
    }
   ],
   "source": [
    "best_model_index = draw_graph(start, limit, step, c_npmi)"
   ]
  },
  {
   "cell_type": "markdown",
   "metadata": {},
   "source": [
    "## Save Final Model & Output"
   ]
  },
  {
   "cell_type": "code",
   "execution_count": 50,
   "metadata": {},
   "outputs": [
    {
     "name": "stdout",
     "output_type": "stream",
     "text": [
      "********************FINISHED 2010-2019********************\n"
     ]
    }
   ],
   "source": [
    "lda_model = model_list[best_model_index]\n",
    "coherence_lda = c_npmi[best_model_index]\n",
    "doc_lda = lda_model[corpus]\n",
    "    \n",
    "# Compute Perplexity - a measure of how good the model is; Lower the better.\n",
    "perplexity = lda_model.log_perplexity(corpus)\n",
    "\n",
    "# Write the results to a file\n",
    "file_name = corpus_root.split(\"/\")[1]\n",
    "with open('LDA/'+file_name+'.txt', 'w') as f:\n",
    "    f.write(\"Perplexity: \"+str(perplexity)+\"\\nCoherence Score: \"+str(coherence_lda))\n",
    "\n",
    "# Save the visualizations\n",
    "vis = pyLDAvis.gensim_models.prepare(lda_model, corpus, id2word)\n",
    "pyLDAvis.save_html(vis, 'LDA/'+file_name+'.html')\n",
    "\n",
    "print(\"*\"*20+\"FINISHED \"+corpus_root.split(\"/\")[1]+\"*\"*20)"
   ]
  },
  {
   "cell_type": "markdown",
   "metadata": {},
   "source": [
    "## Save Final Model & Output"
   ]
  },
  {
   "cell_type": "code",
   "execution_count": 51,
   "metadata": {},
   "outputs": [
    {
     "name": "stdout",
     "output_type": "stream",
     "text": [
      "********************FINISHED 2010-2019********************\n"
     ]
    }
   ],
   "source": [
    "lda_model = model_list[best_model_index]\n",
    "coherence_lda = c_npmi[best_model_index]\n",
    "doc_lda = lda_model[corpus]\n",
    "    \n",
    "# Compute Perplexity - a measure of how good the model is; Lower the better.\n",
    "perplexity = lda_model.log_perplexity(corpus)\n",
    "\n",
    "# Write the results to a file\n",
    "file_name = corpus_root.split(\"/\")[1]\n",
    "with open('LDA/'+file_name+'.txt', 'w') as f:\n",
    "    f.write(\"Perplexity: \"+str(perplexity)+\"\\nCoherence Score: \"+str(coherence_lda))\n",
    "\n",
    "# Save the visualizations\n",
    "vis = pyLDAvis.gensim_models.prepare(lda_model, corpus, id2word)\n",
    "pyLDAvis.save_html(vis, 'LDA/'+file_name+'.html')\n",
    "\n",
    "print(\"*\"*20+\"FINISHED \"+corpus_root.split(\"/\")[1]+\"*\"*20)"
   ]
  },
  {
   "cell_type": "markdown",
   "metadata": {},
   "source": [
    "# Others"
   ]
  },
  {
   "cell_type": "markdown",
   "metadata": {},
   "source": [
    "## Finding the dominant topic in each sentence"
   ]
  },
  {
   "cell_type": "markdown",
   "metadata": {},
   "source": [
    "One of the practical application of topic modeling is to determine what topic a given document is about.\n",
    "\n",
    "To find that, we find the topic number that has the highest percentage contribution in that document."
   ]
  },
  {
   "cell_type": "code",
   "execution_count": null,
   "metadata": {},
   "outputs": [],
   "source": [
    "def format_topics_sentences(ldamodel=lda_model, corpus=corpus, texts=data):\n",
    "    # Init output\n",
    "    sent_topics_df = pd.DataFrame()\n",
    "\n",
    "    # Get main topic in each document\n",
    "    for i, row in enumerate(ldamodel[corpus]):\n",
    "        row = sorted(row[0], key=lambda x: (x[1]), reverse=True)\n",
    "        # Get the Dominant topic, Perc Contribution and Keywords for each document\n",
    "        for j, (topic_num, prop_topic) in enumerate(row):\n",
    "            if j == 0:  # => dominant topic\n",
    "                wp = ldamodel.show_topic(topic_num)\n",
    "                topic_keywords = \", \".join([word for word, prop in wp])\n",
    "                sent_topics_df = sent_topics_df.append(pd.Series([int(topic_num), round(prop_topic,4), topic_keywords]), ignore_index=True)\n",
    "            else:\n",
    "                break\n",
    "    sent_topics_df.columns = ['Dominant_Topic', 'Perc_Contribution', 'Topic_Keywords']\n",
    "\n",
    "    # Add original text to the end of the output\n",
    "    contents = pd.Series(texts)\n",
    "    sent_topics_df = pd.concat([sent_topics_df, contents], axis=1)\n",
    "    return(sent_topics_df)"
   ]
  },
  {
   "cell_type": "code",
   "execution_count": null,
   "metadata": {},
   "outputs": [],
   "source": [
    "df_topic_sents_keywords = format_topics_sentences(ldamodel=lda_model, corpus=corpus, texts=data)\n",
    "\n",
    "# Format\n",
    "df_dominant_topic = df_topic_sents_keywords.reset_index()\n",
    "df_dominant_topic.columns = ['Document_No', 'Dominant_Topic', 'Topic_Perc_Contrib', 'Keywords', 'Text']\n",
    "\n",
    "# Show\n",
    "df_dominant_topic.head(10)"
   ]
  },
  {
   "cell_type": "markdown",
   "metadata": {},
   "source": [
    "## Find the most representative document for each topic"
   ]
  },
  {
   "cell_type": "markdown",
   "metadata": {},
   "source": [
    "Sometimes just the topic keywords may not be enough to make sense of what a topic is about. \n",
    "\n",
    "So, to help with understanding the topic, you can find the documents a given topic has contributed to the most and infer the topic by reading that document."
   ]
  },
  {
   "cell_type": "code",
   "execution_count": null,
   "metadata": {},
   "outputs": [],
   "source": [
    "# Group top 5 sentences under each topic\n",
    "sent_topics_sorteddf = pd.DataFrame()\n",
    "\n",
    "sent_topics_outdf_grpd = df_topic_sents_keywords.groupby('Dominant_Topic')\n",
    "\n",
    "for i, grp in sent_topics_outdf_grpd:\n",
    "    sent_topics_sorteddf = pd.concat([sent_topics_sorteddf, \n",
    "                                      grp.sort_values(['Perc_Contribution'], ascending=[0]).head(1)], \n",
    "                                     axis=0)\n",
    "\n",
    "# Reset Index    \n",
    "sent_topics_sorteddf.reset_index(drop=True, inplace=True)\n",
    "\n",
    "# Format\n",
    "sent_topics_sorteddf.columns = ['Topic_Num', \"Topic_Perc_Contrib\", \"Keywords\", \"Text\"]\n",
    "\n",
    "# Show\n",
    "sent_topics_sorteddf.head()"
   ]
  },
  {
   "cell_type": "markdown",
   "metadata": {},
   "source": [
    "The above has the topic number, the keywords, and the most representative document. The Perc_Contribution column is nothing but the percentage contribution of the topic in the given document."
   ]
  },
  {
   "cell_type": "markdown",
   "metadata": {},
   "source": [
    "## Topic distribution across documents"
   ]
  },
  {
   "cell_type": "markdown",
   "metadata": {},
   "source": [
    "Finally, we want to understand the volume and distribution of topics in order to judge how widely it was discussed. The below table exposes that information."
   ]
  },
  {
   "cell_type": "code",
   "execution_count": null,
   "metadata": {},
   "outputs": [],
   "source": [
    "# Number of Documents for Each Topic\n",
    "topic_counts = df_topic_sents_keywords['Dominant_Topic'].value_counts()\n",
    "\n",
    "# Percentage of Documents for Each Topic\n",
    "topic_contribution = round(topic_counts/topic_counts.sum(), 4)\n",
    "\n",
    "# Topic Number and Keywords\n",
    "topic_num_keywords = df_topic_sents_keywords[['Dominant_Topic', 'Topic_Keywords']]\n",
    "\n",
    "# Concatenate Column wise\n",
    "df_dominant_topics = pd.concat([topic_num_keywords, topic_counts, topic_contribution], axis=1)\n",
    "\n",
    "# Change Column names\n",
    "df_dominant_topics.columns = ['Dominant_Topic', 'Topic_Keywords', 'Num_Documents', 'Perc_Documents']\n",
    "\n",
    "# Show\n",
    "df_dominant_topics"
   ]
  }
 ],
 "metadata": {
  "instance_type": "ml.g4dn.xlarge",
  "kernelspec": {
   "display_name": "Python 3 (Data Science)",
   "language": "python",
   "name": "python3__SAGEMAKER_INTERNAL__arn:aws:sagemaker:us-east-1:081325390199:image/datascience-1.0"
  },
  "language_info": {
   "codemirror_mode": {
    "name": "ipython",
    "version": 3
   },
   "file_extension": ".py",
   "mimetype": "text/x-python",
   "name": "python",
   "nbconvert_exporter": "python",
   "pygments_lexer": "ipython3",
   "version": "3.7.10"
  }
 },
 "nbformat": 4,
 "nbformat_minor": 5
}
