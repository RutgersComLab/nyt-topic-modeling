{
 "cells": [
  {
   "cell_type": "code",
   "execution_count": 1,
   "id": "8eddf959-9ca8-4cdc-8205-d0ed7397d98e",
   "metadata": {},
   "outputs": [],
   "source": [
    "import spacy\n",
    "import warnings\n",
    "import itertools\n",
    "import collections\n",
    "import pandas as pd\n",
    "import plotly.io as pio\n",
    "import plotly.graph_objects as go\n",
    "\n",
    "from ipywidgets import widgets\n",
    "\n",
    "pio.renderers.default='iframe'\n",
    "nlp = spacy.load(\"en_core_web_sm\")\n",
    "warnings.simplefilter(action='ignore', category=FutureWarning)"
   ]
  },
  {
   "cell_type": "markdown",
   "id": "49ba8298-c8ba-47a4-a61e-7afcaa7bac98",
   "metadata": {},
   "source": [
    "# Prepare Data"
   ]
  },
  {
   "cell_type": "code",
   "execution_count": 2,
   "id": "1ff1fec4-398e-4a06-91fb-b1d4d391aa57",
   "metadata": {},
   "outputs": [],
   "source": [
    "column_names = ['id', 'word', 'count']\n",
    "df_bigram = pd.DataFrame(columns=column_names)\n",
    "df_trigram = pd.DataFrame(columns=column_names)\n",
    "\n",
    "# create corpus of decades\n",
    "files = ['1950-1959', '1960-1969', '1970-1979', '1980-1989', '1990-1999', '2000-2009','2010-2019', '2020-2029']\n",
    "for file in files:\n",
    "    a = pd.read_csv(\"count_word_lemmatized/\"+file+\"_bigram.csv\", skiprows=1,  names=column_names)\n",
    "    a['source_decade']=file\n",
    "    df_bigram = pd.concat([df_bigram, a])\n",
    "    b = pd.read_csv(\"count_word_lemmatized/\"+file+\"_trigram.csv\", skiprows=1,  names=column_names)\n",
    "    b['source_decade']=file\n",
    "    df_trigram = pd.concat([df_trigram, b])"
   ]
  },
  {
   "cell_type": "code",
   "execution_count": 3,
   "id": "f09e6b8f-0cac-4146-aa29-c078f381eeac",
   "metadata": {},
   "outputs": [],
   "source": [
    "# group by on bigrams\n",
    "for index, row in df_bigram.iterrows():\n",
    "    words = [word.lower() for word in row['word'].split()]\n",
    "    row['word'] = ' '.join([x for x in words if \"automation\" not in x])\n",
    "df_bigram = df_bigram.groupby(['source_decade', 'word']).agg({'count': 'sum'}).reset_index()\n",
    "# split and group by on trigrams\n",
    "for index, row in df_trigram.iterrows():\n",
    "    words = [word.lower() for word in row['word'].split()]\n",
    "    row['word'] = [x for x in words if \"automation\" not in x]\n",
    "df_trigram = df_trigram.explode(['word'])\n",
    "df_trigram = df_trigram.groupby(['source_decade', 'word']).agg({'count': 'sum'}).reset_index()"
   ]
  },
  {
   "cell_type": "code",
   "execution_count": 4,
   "id": "776c9545-a6d0-4976-bb18-c7a8733f345b",
   "metadata": {},
   "outputs": [],
   "source": [
    "# Get top 50 keywords in each decade & use it to create options\n",
    "df_bigram = df_bigram[(df_bigram['word'] != '') & (df_bigram['word'] != ' ')]\n",
    "keywords = df_bigram.sort_values('count', ascending = False).groupby('source_decade').head(50)['word'].tolist()\n",
    "df_bigram = df_bigram[df_bigram['word'].isin(keywords)]\n",
    "bigram_options = df_bigram['word'].tolist()\n",
    "# Get top 50 keywords in each decade\n",
    "df_trigram = df_trigram[(df_trigram['word'] != '') & (df_trigram['word'] != ' ')]\n",
    "keywords = df_trigram.sort_values('count', ascending = False).groupby('source_decade').head(50)['word'].tolist()\n",
    "df_trigram = df_trigram[df_trigram['word'].isin(keywords)]\n",
    "trigram_options = df_trigram['word'].tolist()"
   ]
  },
  {
   "cell_type": "code",
   "execution_count": 5,
   "id": "7c47e44e-0ca5-457d-972e-50078a2d2832",
   "metadata": {},
   "outputs": [],
   "source": [
    "# pivot bigram dataframe\n",
    "df_bigram = df_bigram.pivot_table('count', ['source_decade'], 'word').reset_index()\n",
    "df_bigram = df_bigram.fillna(0)\n",
    "# pivot trigram dataframe\n",
    "df_trigram = df_trigram.pivot_table('count', ['source_decade'], 'word').reset_index()\n",
    "df_trigram = df_trigram.fillna(0)"
   ]
  },
  {
   "cell_type": "markdown",
   "id": "ad1a6bfd-0b52-418c-a2ec-f835bee2658e",
   "metadata": {},
   "source": [
    "# Create Visualization"
   ]
  },
  {
   "cell_type": "markdown",
   "id": "14913c35-fccc-485b-aa0b-4853aeb25b60",
   "metadata": {},
   "source": [
    "## Bigram"
   ]
  },
  {
   "cell_type": "code",
   "execution_count": 6,
   "id": "4d9ddf8d-6567-4be3-8b0e-c44c86b0109c",
   "metadata": {},
   "outputs": [
    {
     "data": {
      "text/html": [
       "<iframe\n",
       "    scrolling=\"no\"\n",
       "    width=\"100%\"\n",
       "    height=\"545px\"\n",
       "    src=\"iframe_figures/figure_6.html\"\n",
       "    frameborder=\"0\"\n",
       "    allowfullscreen\n",
       "></iframe>\n"
      ]
     },
     "metadata": {},
     "output_type": "display_data"
    }
   ],
   "source": [
    "textbox = widgets.Dropdown(\n",
    "    description='Keyword: ',\n",
    "    value='union',\n",
    "    options=bigram_options)\n",
    "\n",
    "# plotly\n",
    "fig = go.Figure(data=[go.Bar(x=[], y=[])])\n",
    "\n",
    "# drop down\n",
    "buttons = []\n",
    "columns = df_bigram.columns[1:]\n",
    "for column in columns:\n",
    "    buttons.append(dict(method='restyle', label=column, visible=True,\n",
    "                        args=[{'y':[df_bigram[column]], 'x':[df_bigram['source_decade']], 'type':'bar'}, [0]],))\n",
    "\n",
    "# some adjustments to the updatemenus\n",
    "updatemenu = []\n",
    "your_menu = dict()\n",
    "updatemenu.append(your_menu)\n",
    "updatemenu[0]['buttons'] = buttons\n",
    "updatemenu[0]['direction'] = 'down'\n",
    "updatemenu[0]['x'] = 0.1\n",
    "updatemenu[0]['xanchor'] = 'left'\n",
    "updatemenu[0]['y'] = 1.1\n",
    "updatemenu[0]['yanchor'] = 'top'\n",
    "updatemenu[0]['showactive'] = True\n",
    "\n",
    "# add dropdown menus to the figure\n",
    "fig.update_layout(showlegend=False, updatemenus=updatemenu)\n",
    "fig.update_layout(title_text='Frequency of keyword (Bigram) across decades', title_x=0.5)\n",
    "fig.update_xaxes(title_text=\"Decade\")\n",
    "fig.update_yaxes(title_text=\"Count\")\n",
    "fig.show()"
   ]
  },
  {
   "cell_type": "markdown",
   "id": "fe04b87e-5fd3-447c-a411-0d310e165593",
   "metadata": {},
   "source": [
    "## Trigram"
   ]
  },
  {
   "cell_type": "code",
   "execution_count": 8,
   "id": "9a39ebeb-c012-4ba9-be32-104f8ee7cff2",
   "metadata": {},
   "outputs": [
    {
     "data": {
      "text/html": [
       "<iframe\n",
       "    scrolling=\"no\"\n",
       "    width=\"100%\"\n",
       "    height=\"545px\"\n",
       "    src=\"iframe_figures/figure_8.html\"\n",
       "    frameborder=\"0\"\n",
       "    allowfullscreen\n",
       "></iframe>\n"
      ]
     },
     "metadata": {},
     "output_type": "display_data"
    }
   ],
   "source": [
    "textbox = widgets.Dropdown(\n",
    "    description='Keyword: ',\n",
    "    value='union',\n",
    "    options=trigram_options)\n",
    "\n",
    "# plotly\n",
    "fig = go.Figure(data=[go.Bar(x=[], y=[])])\n",
    "\n",
    "# drop down\n",
    "buttons = []\n",
    "columns = df_trigram.columns[1:]\n",
    "for column in columns:\n",
    "    buttons.append(dict(method='restyle', label=column, visible=True,\n",
    "                        args=[{'y':[df_trigram[column]], 'x':[df_trigram['source_decade']], 'type':'bar'}, [0]],))\n",
    "\n",
    "# some adjustments to the updatemenus\n",
    "updatemenu = []\n",
    "your_menu = dict()\n",
    "updatemenu.append(your_menu)\n",
    "updatemenu[0]['buttons'] = buttons\n",
    "updatemenu[0]['direction'] = 'down'\n",
    "updatemenu[0]['x'] = 0.1\n",
    "updatemenu[0]['xanchor'] = 'left'\n",
    "updatemenu[0]['y'] = 1.1\n",
    "updatemenu[0]['yanchor'] = 'top'\n",
    "updatemenu[0]['showactive'] = True\n",
    "\n",
    "# add dropdown menus to the figure\n",
    "fig.update_layout(showlegend=False, updatemenus=updatemenu)\n",
    "fig.update_layout(title_text='Frequency of keyword (Trigram) across decades', title_x=0.5)\n",
    "fig.update_xaxes(title_text=\"Decade\")\n",
    "fig.update_yaxes(title_text=\"Count\")\n",
    "fig.show()"
   ]
  },
  {
   "cell_type": "code",
   "execution_count": null,
   "id": "0c123e92-a335-49b6-8e88-96eb048d2a8a",
   "metadata": {},
   "outputs": [],
   "source": []
  }
 ],
 "metadata": {
  "kernelspec": {
   "display_name": "Python 3.8",
   "language": "python",
   "name": "python3"
  },
  "language_info": {
   "codemirror_mode": {
    "name": "ipython",
    "version": 3
   },
   "file_extension": ".py",
   "mimetype": "text/x-python",
   "name": "python",
   "nbconvert_exporter": "python",
   "pygments_lexer": "ipython3",
   "version": "3.8.10"
  }
 },
 "nbformat": 4,
 "nbformat_minor": 5
}
